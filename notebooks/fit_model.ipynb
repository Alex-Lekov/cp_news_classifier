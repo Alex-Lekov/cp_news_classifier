{
 "cells": [
  {
   "cell_type": "code",
   "execution_count": 1,
   "id": "91dc0cba",
   "metadata": {
    "execution": {
     "iopub.execute_input": "2022-03-29T23:28:49.710084Z",
     "iopub.status.busy": "2022-03-29T23:28:49.708426Z",
     "iopub.status.idle": "2022-03-29T23:28:55.049289Z",
     "shell.execute_reply": "2022-03-29T23:28:55.048250Z",
     "shell.execute_reply.started": "2022-03-29T21:49:59.394689Z"
    },
    "papermill": {
     "duration": 5.374301,
     "end_time": "2022-03-29T23:28:55.049469",
     "exception": false,
     "start_time": "2022-03-29T23:28:49.675168",
     "status": "completed"
    },
    "tags": []
   },
   "outputs": [],
   "source": [
    "# # Load Huggingface transformers\n",
    "# from transformers import TFBertModel,  BertConfig, BertTokenizerFast, TFAutoModel\n",
    "\n",
    "# # Then what you need from tensorflow.keras\n",
    "# from tensorflow.keras.layers import Input, Dropout, Dense, GlobalAveragePooling1D, BatchNormalization\n",
    "# from tensorflow.keras.models import Model, Sequential\n",
    "# from tensorflow.keras.optimizers import Adam\n",
    "# from tensorflow.keras.callbacks import EarlyStopping\n",
    "# from tensorflow.keras.initializers import TruncatedNormal\n",
    "# from tensorflow.keras.losses import CategoricalCrossentropy\n",
    "# from tensorflow.keras.metrics import CategoricalAccuracy\n",
    "# from tensorflow.keras.utils import to_categorical\n",
    "\n",
    "# And pandas for data import + sklearn because you allways need sklearn\n",
    "import pandas as pd\n",
    "import tensorflow as tf\n",
    "import re\n",
    "import numpy as np\n",
    "\n",
    "from sklearn.model_selection import train_test_split\n",
    "from sklearn.metrics import classification_report, multilabel_confusion_matrix, roc_auc_score, accuracy_score, f1_score\n",
    "from sklearn.metrics import average_precision_score, precision_score\n",
    "\n",
    "# import and instantiate TfidfVectorizer\n",
    "from sklearn.feature_extraction.text import CountVectorizer\n",
    "from sklearn.feature_extraction.text import TfidfVectorizer\n",
    "\n",
    "# import and instantiate the Logistic Regression model\n",
    "from sklearn.linear_model import LogisticRegression"
   ]
  },
  {
   "cell_type": "code",
   "execution_count": 2,
   "id": "c984f43a",
   "metadata": {
    "execution": {
     "iopub.execute_input": "2022-03-29T23:28:55.111224Z",
     "iopub.status.busy": "2022-03-29T23:28:55.109550Z",
     "iopub.status.idle": "2022-03-29T23:28:55.111849Z",
     "shell.execute_reply": "2022-03-29T23:28:55.112272Z",
     "shell.execute_reply.started": "2022-03-29T21:50:04.517875Z"
    },
    "papermill": {
     "duration": 0.034636,
     "end_time": "2022-03-29T23:28:55.112406",
     "exception": false,
     "start_time": "2022-03-29T23:28:55.077770",
     "status": "completed"
    },
    "tags": []
   },
   "outputs": [],
   "source": [
    "#pip install tensorflow-addons"
   ]
  },
  {
   "cell_type": "code",
   "execution_count": 3,
   "id": "1a1c3c9d",
   "metadata": {
    "execution": {
     "iopub.execute_input": "2022-03-29T23:28:55.174157Z",
     "iopub.status.busy": "2022-03-29T23:28:55.173510Z",
     "iopub.status.idle": "2022-03-29T23:28:55.176267Z",
     "shell.execute_reply": "2022-03-29T23:28:55.175857Z",
     "shell.execute_reply.started": "2022-03-29T21:50:04.524259Z"
    },
    "papermill": {
     "duration": 0.035938,
     "end_time": "2022-03-29T23:28:55.176373",
     "exception": false,
     "start_time": "2022-03-29T23:28:55.140435",
     "status": "completed"
    },
    "tags": []
   },
   "outputs": [],
   "source": [
    "def multi_label_accuracy(y_true: tf.Tensor, y_pred: tf.Tensor) -> tf.Tensor:\n",
    "    \"\"\"For multi-label classification, one has to define a custom\n",
    "    acccuracy function because neither tf.keras.metrics.Accuracy nor\n",
    "    tf.keras.metrics.CategoricalAccuracy evaluate the number of \n",
    "    exact matches.\n",
    "\n",
    "    :Example:\n",
    "    >>> from tensorflow.keras import metrics\n",
    "    >>> y_true = tf.convert_to_tensor([[1., 1.]])\n",
    "    >>> y_pred = tf.convert_to_tensor([[1., 0.]])\n",
    "    >>> metrics.Accuracy()(y_true, y_pred).numpy()\n",
    "    0.5\n",
    "    >>> metrics.CategoricalAccuracy()(y_true, y_pred).numpy()\n",
    "    1.0\n",
    "    >>> multi_label_accuracy(y_true, y_pred).numpy()\n",
    "    0.0\n",
    "    \"\"\"   \n",
    "    y_pred = tf.math.round(y_pred)\n",
    "    exact_matches = tf.math.reduce_all(y_pred == y_true, axis=1)\n",
    "    exact_matches = tf.cast(exact_matches, tf.float32)\n",
    "    return tf.math.reduce_mean(exact_matches)"
   ]
  },
  {
   "cell_type": "code",
   "execution_count": 4,
   "id": "980e5a91",
   "metadata": {
    "execution": {
     "iopub.execute_input": "2022-03-29T23:28:55.235165Z",
     "iopub.status.busy": "2022-03-29T23:28:55.234682Z",
     "iopub.status.idle": "2022-03-29T23:28:55.238456Z",
     "shell.execute_reply": "2022-03-29T23:28:55.238002Z",
     "shell.execute_reply.started": "2022-03-29T21:50:04.535781Z"
    },
    "papermill": {
     "duration": 0.034354,
     "end_time": "2022-03-29T23:28:55.238563",
     "exception": false,
     "start_time": "2022-03-29T23:28:55.204209",
     "status": "completed"
    },
    "tags": []
   },
   "outputs": [],
   "source": [
    "RANDOM_SEED = 42"
   ]
  },
  {
   "cell_type": "code",
   "execution_count": 5,
   "id": "6072ed95",
   "metadata": {
    "execution": {
     "iopub.execute_input": "2022-03-29T23:28:55.299754Z",
     "iopub.status.busy": "2022-03-29T23:28:55.299129Z",
     "iopub.status.idle": "2022-03-29T23:28:55.315097Z",
     "shell.execute_reply": "2022-03-29T23:28:55.314708Z",
     "shell.execute_reply.started": "2022-03-29T21:50:08.517200Z"
    },
    "papermill": {
     "duration": 0.04792,
     "end_time": "2022-03-29T23:28:55.315245",
     "exception": false,
     "start_time": "2022-03-29T23:28:55.267325",
     "status": "completed"
    },
    "tags": []
   },
   "outputs": [],
   "source": [
    "df=pd.read_csv('../input/cp-news/data.csv')\n",
    "#df = df.sample(frac=1)"
   ]
  },
  {
   "cell_type": "code",
   "execution_count": 6,
   "id": "bb17c6bf",
   "metadata": {
    "execution": {
     "iopub.execute_input": "2022-03-29T23:28:55.380868Z",
     "iopub.status.busy": "2022-03-29T23:28:55.380091Z",
     "iopub.status.idle": "2022-03-29T23:28:55.396326Z",
     "shell.execute_reply": "2022-03-29T23:28:55.396816Z",
     "shell.execute_reply.started": "2022-03-29T21:50:09.348952Z"
    },
    "papermill": {
     "duration": 0.053655,
     "end_time": "2022-03-29T23:28:55.396934",
     "exception": false,
     "start_time": "2022-03-29T23:28:55.343279",
     "status": "completed"
    },
    "tags": []
   },
   "outputs": [
    {
     "data": {
      "text/html": [
       "<div>\n",
       "<style scoped>\n",
       "    .dataframe tbody tr th:only-of-type {\n",
       "        vertical-align: middle;\n",
       "    }\n",
       "\n",
       "    .dataframe tbody tr th {\n",
       "        vertical-align: top;\n",
       "    }\n",
       "\n",
       "    .dataframe thead th {\n",
       "        text-align: right;\n",
       "    }\n",
       "</style>\n",
       "<table border=\"1\" class=\"dataframe\">\n",
       "  <thead>\n",
       "    <tr style=\"text-align: right;\">\n",
       "      <th></th>\n",
       "      <th>text</th>\n",
       "      <th>release_points</th>\n",
       "      <th>technical_update_points</th>\n",
       "      <th>partnership_points</th>\n",
       "      <th>listing_points</th>\n",
       "      <th>security_points</th>\n",
       "      <th>from_the_project</th>\n",
       "      <th>not_from_the_project</th>\n",
       "      <th>staking</th>\n",
       "    </tr>\n",
       "  </thead>\n",
       "  <tbody>\n",
       "    <tr>\n",
       "      <th>0</th>\n",
       "      <td>We'd like to remind everyone that our $BONDLY ...</td>\n",
       "      <td>0</td>\n",
       "      <td>0</td>\n",
       "      <td>0</td>\n",
       "      <td>0</td>\n",
       "      <td>1</td>\n",
       "      <td>1</td>\n",
       "      <td>0</td>\n",
       "      <td>0</td>\n",
       "    </tr>\n",
       "    <tr>\n",
       "      <th>1</th>\n",
       "      <td>I’d like to share the recently completed smart...</td>\n",
       "      <td>0</td>\n",
       "      <td>0</td>\n",
       "      <td>0</td>\n",
       "      <td>0</td>\n",
       "      <td>1</td>\n",
       "      <td>0</td>\n",
       "      <td>0</td>\n",
       "      <td>0</td>\n",
       "    </tr>\n",
       "    <tr>\n",
       "      <th>2</th>\n",
       "      <td>@LuckyBartlett We'll be releasing details soon...</td>\n",
       "      <td>0</td>\n",
       "      <td>1</td>\n",
       "      <td>0</td>\n",
       "      <td>0</td>\n",
       "      <td>0</td>\n",
       "      <td>0</td>\n",
       "      <td>0</td>\n",
       "      <td>0</td>\n",
       "    </tr>\n",
       "    <tr>\n",
       "      <th>3</th>\n",
       "      <td>Today we're taking the time to acknowledge our...</td>\n",
       "      <td>1</td>\n",
       "      <td>1</td>\n",
       "      <td>0</td>\n",
       "      <td>0</td>\n",
       "      <td>1</td>\n",
       "      <td>0</td>\n",
       "      <td>0</td>\n",
       "      <td>0</td>\n",
       "    </tr>\n",
       "    <tr>\n",
       "      <th>4</th>\n",
       "      <td>Business continuity has been a huge focus in o...</td>\n",
       "      <td>1</td>\n",
       "      <td>0</td>\n",
       "      <td>1</td>\n",
       "      <td>0</td>\n",
       "      <td>1</td>\n",
       "      <td>0</td>\n",
       "      <td>1</td>\n",
       "      <td>0</td>\n",
       "    </tr>\n",
       "  </tbody>\n",
       "</table>\n",
       "</div>"
      ],
      "text/plain": [
       "                                                text  release_points  \\\n",
       "0  We'd like to remind everyone that our $BONDLY ...               0   \n",
       "1  I’d like to share the recently completed smart...               0   \n",
       "2  @LuckyBartlett We'll be releasing details soon...               0   \n",
       "3  Today we're taking the time to acknowledge our...               1   \n",
       "4  Business continuity has been a huge focus in o...               1   \n",
       "\n",
       "   technical_update_points  partnership_points  listing_points  \\\n",
       "0                        0                   0               0   \n",
       "1                        0                   0               0   \n",
       "2                        1                   0               0   \n",
       "3                        1                   0               0   \n",
       "4                        0                   1               0   \n",
       "\n",
       "   security_points  from_the_project  not_from_the_project  staking  \n",
       "0                1                 1                     0        0  \n",
       "1                1                 0                     0        0  \n",
       "2                0                 0                     0        0  \n",
       "3                1                 0                     0        0  \n",
       "4                1                 0                     1        0  "
      ]
     },
     "execution_count": 6,
     "metadata": {},
     "output_type": "execute_result"
    }
   ],
   "source": [
    "df.head()"
   ]
  },
  {
   "cell_type": "markdown",
   "id": "16451b31",
   "metadata": {
    "papermill": {
     "duration": 0.028546,
     "end_time": "2022-03-29T23:28:55.454285",
     "exception": false,
     "start_time": "2022-03-29T23:28:55.425739",
     "status": "completed"
    },
    "tags": []
   },
   "source": [
    "# BERT"
   ]
  },
  {
   "cell_type": "code",
   "execution_count": 7,
   "id": "757cb317",
   "metadata": {
    "execution": {
     "iopub.execute_input": "2022-03-29T23:28:55.514980Z",
     "iopub.status.busy": "2022-03-29T23:28:55.514211Z",
     "iopub.status.idle": "2022-03-29T23:28:55.532972Z",
     "shell.execute_reply": "2022-03-29T23:28:55.532514Z",
     "shell.execute_reply.started": "2022-03-29T21:52:06.885596Z"
    },
    "papermill": {
     "duration": 0.050345,
     "end_time": "2022-03-29T23:28:55.533073",
     "exception": false,
     "start_time": "2022-03-29T23:28:55.482728",
     "status": "completed"
    },
    "tags": []
   },
   "outputs": [
    {
     "data": {
      "text/html": [
       "<div>\n",
       "<style scoped>\n",
       "    .dataframe tbody tr th:only-of-type {\n",
       "        vertical-align: middle;\n",
       "    }\n",
       "\n",
       "    .dataframe tbody tr th {\n",
       "        vertical-align: top;\n",
       "    }\n",
       "\n",
       "    .dataframe thead th {\n",
       "        text-align: right;\n",
       "    }\n",
       "</style>\n",
       "<table border=\"1\" class=\"dataframe\">\n",
       "  <thead>\n",
       "    <tr style=\"text-align: right;\">\n",
       "      <th></th>\n",
       "      <th>text</th>\n",
       "      <th>release_points</th>\n",
       "      <th>technical_update_points</th>\n",
       "      <th>partnership_points</th>\n",
       "      <th>listing_points</th>\n",
       "      <th>security_points</th>\n",
       "      <th>from_the_project</th>\n",
       "      <th>not_from_the_project</th>\n",
       "      <th>staking</th>\n",
       "    </tr>\n",
       "  </thead>\n",
       "  <tbody>\n",
       "    <tr>\n",
       "      <th>0</th>\n",
       "      <td>We'd like to remind everyone that our $BONDLY ...</td>\n",
       "      <td>0</td>\n",
       "      <td>0</td>\n",
       "      <td>0</td>\n",
       "      <td>0</td>\n",
       "      <td>1</td>\n",
       "      <td>1</td>\n",
       "      <td>0</td>\n",
       "      <td>0</td>\n",
       "    </tr>\n",
       "    <tr>\n",
       "      <th>1</th>\n",
       "      <td>I’d like to share the recently completed smart...</td>\n",
       "      <td>0</td>\n",
       "      <td>0</td>\n",
       "      <td>0</td>\n",
       "      <td>0</td>\n",
       "      <td>1</td>\n",
       "      <td>0</td>\n",
       "      <td>0</td>\n",
       "      <td>0</td>\n",
       "    </tr>\n",
       "    <tr>\n",
       "      <th>2</th>\n",
       "      <td>@LuckyBartlett We'll be releasing details soon...</td>\n",
       "      <td>0</td>\n",
       "      <td>1</td>\n",
       "      <td>0</td>\n",
       "      <td>0</td>\n",
       "      <td>0</td>\n",
       "      <td>0</td>\n",
       "      <td>0</td>\n",
       "      <td>0</td>\n",
       "    </tr>\n",
       "    <tr>\n",
       "      <th>3</th>\n",
       "      <td>Today we're taking the time to acknowledge our...</td>\n",
       "      <td>1</td>\n",
       "      <td>1</td>\n",
       "      <td>0</td>\n",
       "      <td>0</td>\n",
       "      <td>1</td>\n",
       "      <td>0</td>\n",
       "      <td>0</td>\n",
       "      <td>0</td>\n",
       "    </tr>\n",
       "    <tr>\n",
       "      <th>4</th>\n",
       "      <td>Business continuity has been a huge focus in o...</td>\n",
       "      <td>1</td>\n",
       "      <td>0</td>\n",
       "      <td>1</td>\n",
       "      <td>0</td>\n",
       "      <td>1</td>\n",
       "      <td>0</td>\n",
       "      <td>1</td>\n",
       "      <td>0</td>\n",
       "    </tr>\n",
       "    <tr>\n",
       "      <th>...</th>\n",
       "      <td>...</td>\n",
       "      <td>...</td>\n",
       "      <td>...</td>\n",
       "      <td>...</td>\n",
       "      <td>...</td>\n",
       "      <td>...</td>\n",
       "      <td>...</td>\n",
       "      <td>...</td>\n",
       "      <td>...</td>\n",
       "    </tr>\n",
       "    <tr>\n",
       "      <th>1207</th>\n",
       "      <td>Michelle Phan Interview - Toxic Bitcoin Maxima...</td>\n",
       "      <td>0</td>\n",
       "      <td>0</td>\n",
       "      <td>0</td>\n",
       "      <td>0</td>\n",
       "      <td>0</td>\n",
       "      <td>0</td>\n",
       "      <td>0</td>\n",
       "      <td>0</td>\n",
       "    </tr>\n",
       "    <tr>\n",
       "      <th>1208</th>\n",
       "      <td>Why Are Bitcoin Spot Volumes Shockingly Low Wh...</td>\n",
       "      <td>0</td>\n",
       "      <td>0</td>\n",
       "      <td>0</td>\n",
       "      <td>0</td>\n",
       "      <td>0</td>\n",
       "      <td>0</td>\n",
       "      <td>0</td>\n",
       "      <td>0</td>\n",
       "    </tr>\n",
       "    <tr>\n",
       "      <th>1209</th>\n",
       "      <td>Bitcoin skyrockets to over $69K as inflationar...</td>\n",
       "      <td>0</td>\n",
       "      <td>0</td>\n",
       "      <td>0</td>\n",
       "      <td>0</td>\n",
       "      <td>0</td>\n",
       "      <td>0</td>\n",
       "      <td>0</td>\n",
       "      <td>0</td>\n",
       "    </tr>\n",
       "    <tr>\n",
       "      <th>1210</th>\n",
       "      <td>Price analysis 11/10: BTC, ETH, BNB, ADA, SOL,...</td>\n",
       "      <td>0</td>\n",
       "      <td>0</td>\n",
       "      <td>0</td>\n",
       "      <td>0</td>\n",
       "      <td>0</td>\n",
       "      <td>1</td>\n",
       "      <td>0</td>\n",
       "      <td>0</td>\n",
       "    </tr>\n",
       "    <tr>\n",
       "      <th>1211</th>\n",
       "      <td>Bitcoin Surges To Record Highs As US Inflation...</td>\n",
       "      <td>0</td>\n",
       "      <td>0</td>\n",
       "      <td>0</td>\n",
       "      <td>0</td>\n",
       "      <td>0</td>\n",
       "      <td>0</td>\n",
       "      <td>0</td>\n",
       "      <td>0</td>\n",
       "    </tr>\n",
       "  </tbody>\n",
       "</table>\n",
       "<p>1212 rows × 9 columns</p>\n",
       "</div>"
      ],
      "text/plain": [
       "                                                   text  release_points  \\\n",
       "0     We'd like to remind everyone that our $BONDLY ...               0   \n",
       "1     I’d like to share the recently completed smart...               0   \n",
       "2     @LuckyBartlett We'll be releasing details soon...               0   \n",
       "3     Today we're taking the time to acknowledge our...               1   \n",
       "4     Business continuity has been a huge focus in o...               1   \n",
       "...                                                 ...             ...   \n",
       "1207  Michelle Phan Interview - Toxic Bitcoin Maxima...               0   \n",
       "1208  Why Are Bitcoin Spot Volumes Shockingly Low Wh...               0   \n",
       "1209  Bitcoin skyrockets to over $69K as inflationar...               0   \n",
       "1210  Price analysis 11/10: BTC, ETH, BNB, ADA, SOL,...               0   \n",
       "1211  Bitcoin Surges To Record Highs As US Inflation...               0   \n",
       "\n",
       "      technical_update_points  partnership_points  listing_points  \\\n",
       "0                           0                   0               0   \n",
       "1                           0                   0               0   \n",
       "2                           1                   0               0   \n",
       "3                           1                   0               0   \n",
       "4                           0                   1               0   \n",
       "...                       ...                 ...             ...   \n",
       "1207                        0                   0               0   \n",
       "1208                        0                   0               0   \n",
       "1209                        0                   0               0   \n",
       "1210                        0                   0               0   \n",
       "1211                        0                   0               0   \n",
       "\n",
       "      security_points  from_the_project  not_from_the_project  staking  \n",
       "0                   1                 1                     0        0  \n",
       "1                   1                 0                     0        0  \n",
       "2                   0                 0                     0        0  \n",
       "3                   1                 0                     0        0  \n",
       "4                   1                 0                     1        0  \n",
       "...               ...               ...                   ...      ...  \n",
       "1207                0                 0                     0        0  \n",
       "1208                0                 0                     0        0  \n",
       "1209                0                 0                     0        0  \n",
       "1210                0                 1                     0        0  \n",
       "1211                0                 0                     0        0  \n",
       "\n",
       "[1212 rows x 9 columns]"
      ]
     },
     "execution_count": 7,
     "metadata": {},
     "output_type": "execute_result"
    }
   ],
   "source": [
    "dataset = pd.read_csv('../input/cp-news/data.csv')\n",
    "dataset"
   ]
  },
  {
   "cell_type": "code",
   "execution_count": 8,
   "id": "eab78a4c",
   "metadata": {
    "execution": {
     "iopub.execute_input": "2022-03-29T23:28:55.602805Z",
     "iopub.status.busy": "2022-03-29T23:28:55.601846Z",
     "iopub.status.idle": "2022-03-29T23:28:55.605828Z",
     "shell.execute_reply": "2022-03-29T23:28:55.606461Z",
     "shell.execute_reply.started": "2022-03-29T21:52:07.923308Z"
    },
    "papermill": {
     "duration": 0.043578,
     "end_time": "2022-03-29T23:28:55.606621",
     "exception": false,
     "start_time": "2022-03-29T23:28:55.563043",
     "status": "completed"
    },
    "tags": []
   },
   "outputs": [
    {
     "name": "stdout",
     "output_type": "stream",
     "text": [
      "Sample: \"Dallas Mavericks fan wins $100k in Bitcoin at NBA shootout event\"\n",
      "Labels: {'release_points': 0, 'technical_update_points': 0, 'partnership_points': 0, 'listing_points': 0, 'security_points': 0, 'from_the_project': 0, 'not_from_the_project': 0, 'staking': 0}\n"
     ]
    }
   ],
   "source": [
    "texts = list(dataset[\"text\"])\n",
    "label_names = dataset.drop([\"text\"], axis=1).columns\n",
    "labels = dataset[label_names].values\n",
    "\n",
    "train_texts, test_texts, train_labels, test_labels = train_test_split(\n",
    "    texts, labels, test_size=0.15, random_state=42\n",
    ")\n",
    "\n",
    "sample_idx = 23\n",
    "print(f'Sample: \"{train_texts[sample_idx]}\"')\n",
    "print(f\"Labels: {pd.Series(train_labels[sample_idx], label_names).to_dict()}\")"
   ]
  },
  {
   "cell_type": "code",
   "execution_count": 9,
   "id": "32f29ef2",
   "metadata": {
    "execution": {
     "iopub.execute_input": "2022-03-29T23:28:55.671290Z",
     "iopub.status.busy": "2022-03-29T23:28:55.670698Z",
     "iopub.status.idle": "2022-03-29T23:28:56.554121Z",
     "shell.execute_reply": "2022-03-29T23:28:56.554571Z",
     "shell.execute_reply.started": "2022-03-29T21:52:09.767103Z"
    },
    "papermill": {
     "duration": 0.917617,
     "end_time": "2022-03-29T23:28:56.554721",
     "exception": false,
     "start_time": "2022-03-29T23:28:55.637104",
     "status": "completed"
    },
    "tags": []
   },
   "outputs": [
    {
     "data": {
      "image/png": "[encoded data removed]",
      "text/plain": [
       "<Figure size 432x288 with 1 Axes>"
      ]
     },
     "metadata": {
      "needs_background": "light"
     },
     "output_type": "display_data"
    }
   ],
   "source": [
    "import seaborn as sns\n",
    "\n",
    "text_lengths = [len(t.split()) for t in train_texts]\n",
    "ax = sns.histplot(data=text_lengths, kde=True, stat=\"density\")\n",
    "ax.set_title(\"Texts length distribution (number of words)\");"
   ]
  },
  {
   "cell_type": "code",
   "execution_count": 10,
   "id": "6529573a",
   "metadata": {
    "execution": {
     "iopub.execute_input": "2022-03-29T23:28:56.679516Z",
     "iopub.status.busy": "2022-03-29T23:28:56.677155Z",
     "iopub.status.idle": "2022-03-29T23:28:57.692220Z",
     "shell.execute_reply": "2022-03-29T23:28:57.692632Z",
     "shell.execute_reply.started": "2022-03-29T21:52:14.624413Z"
    },
    "papermill": {
     "duration": 1.086708,
     "end_time": "2022-03-29T23:28:57.692773",
     "exception": false,
     "start_time": "2022-03-29T23:28:56.606065",
     "status": "completed"
    },
    "tags": []
   },
   "outputs": [
    {
     "data": {
      "image/png": "[encoded data removed]",
      "text/plain": [
       "<Figure size 720x360 with 3 Axes>"
      ]
     },
     "metadata": {
      "needs_background": "light"
     },
     "output_type": "display_data"
    }
   ],
   "source": [
    "import matplotlib.pyplot as plt\n",
    "import matplotlib.ticker as mtick\n",
    "\n",
    "fig, (ax1, ax2) = plt.subplots(1, 2, figsize=(10, 5), constrained_layout=True)\n",
    "\n",
    "# Labels distribution barplot\n",
    "labels_ratio = dataset[label_names].mean()\n",
    "labels_ratio.plot(kind=\"bar\", ax=ax1)\n",
    "ax1.yaxis.set_major_formatter(mtick.PercentFormatter(1.0, decimals=False))\n",
    "for p in ax1.patches:\n",
    "    ax1.set_ylim(0, 1.1 * labels_ratio.max())\n",
    "    ax1.annotate(f\"{p.get_height():.2%}\", (p.get_x() + 0.005, p.get_height() + 0.002))\n",
    "ax1.set_title(\"Labels ratio\");\n",
    "\n",
    "# Labels correlation heatmap\n",
    "ax2 = sns.heatmap(dataset[label_names].corr())\n",
    "ax2.set_title(\"Labels correlation\")\n",
    "fig.show()"
   ]
  },
  {
   "cell_type": "code",
   "execution_count": 11,
   "id": "61979e29",
   "metadata": {
    "execution": {
     "iopub.execute_input": "2022-03-29T23:28:57.763234Z",
     "iopub.status.busy": "2022-03-29T23:28:57.762693Z",
     "iopub.status.idle": "2022-03-29T23:28:57.783670Z",
     "shell.execute_reply": "2022-03-29T23:28:57.782955Z",
     "shell.execute_reply.started": "2022-03-29T21:52:17.056236Z"
    },
    "papermill": {
     "duration": 0.059442,
     "end_time": "2022-03-29T23:28:57.783780",
     "exception": false,
     "start_time": "2022-03-29T23:28:57.724338",
     "status": "completed"
    },
    "tags": []
   },
   "outputs": [
    {
     "data": {
      "text/html": [
       "<div>\n",
       "<style scoped>\n",
       "    .dataframe tbody tr th:only-of-type {\n",
       "        vertical-align: middle;\n",
       "    }\n",
       "\n",
       "    .dataframe tbody tr th {\n",
       "        vertical-align: top;\n",
       "    }\n",
       "\n",
       "    .dataframe thead th {\n",
       "        text-align: right;\n",
       "    }\n",
       "</style>\n",
       "<table border=\"1\" class=\"dataframe\">\n",
       "  <thead>\n",
       "    <tr style=\"text-align: right;\">\n",
       "      <th></th>\n",
       "      <th>Dummy</th>\n",
       "    </tr>\n",
       "  </thead>\n",
       "  <tbody>\n",
       "    <tr>\n",
       "      <th>Multi-label accuracy</th>\n",
       "      <td>0.786</td>\n",
       "    </tr>\n",
       "    <tr>\n",
       "      <th>Binary accuracy</th>\n",
       "      <td>0.960</td>\n",
       "    </tr>\n",
       "    <tr>\n",
       "      <th>Loss</th>\n",
       "      <td>0.640</td>\n",
       "    </tr>\n",
       "    <tr>\n",
       "      <th>Average Precision</th>\n",
       "      <td>0.040</td>\n",
       "    </tr>\n",
       "  </tbody>\n",
       "</table>\n",
       "</div>"
      ],
      "text/plain": [
       "                      Dummy\n",
       "Multi-label accuracy  0.786\n",
       "Binary accuracy       0.960\n",
       "Loss                  0.640\n",
       "Average Precision     0.040"
      ]
     },
     "execution_count": 11,
     "metadata": {},
     "output_type": "execute_result"
    }
   ],
   "source": [
    "import numpy as np  \n",
    "from sklearn.dummy import DummyClassifier\n",
    "from sklearn.metrics import log_loss, average_precision_score\n",
    "\n",
    "pd.set_option(\"display.precision\", 3)\n",
    "\n",
    "dummy = DummyClassifier(strategy=\"prior\")\n",
    "dummy.fit(train_texts, train_labels)\n",
    "y_pred = dummy.predict(test_texts)\n",
    "y_prob = dummy.predict_proba(test_texts)\n",
    "y_prob = np.array(y_prob)[:, :, 1].T\n",
    "\n",
    "def compute_metrics(y_true: np.array, y_prob: np.array) -> pd.Series:\n",
    "    \"\"\"Compute several performance metrics for multi-label classification. \"\"\"\n",
    "    y_pred = y_prob.round()\n",
    "    metrics = dict()\n",
    "    metrics[\"Multi-label accuracy\"] = np.all(y_pred == y_true, axis=1).mean()\n",
    "    metrics[\"Binary accuracy\"] = (y_pred == y_true).mean()\n",
    "    metrics[\"Loss\"] = log_loss(y_true, y_prob)\n",
    "    metrics[\"Average Precision\"] = average_precision_score(y_true, y_prob)\n",
    "    return pd.Series(metrics)\n",
    "\n",
    "evaluation = compute_metrics(test_labels, y_prob).to_frame(name=\"Dummy\")\n",
    "evaluation"
   ]
  },
  {
   "cell_type": "code",
   "execution_count": 12,
   "id": "25f299ef",
   "metadata": {
    "execution": {
     "iopub.execute_input": "2022-03-29T23:28:57.860203Z",
     "iopub.status.busy": "2022-03-29T23:28:57.859359Z",
     "iopub.status.idle": "2022-03-29T23:28:58.261705Z",
     "shell.execute_reply": "2022-03-29T23:28:58.262151Z",
     "shell.execute_reply.started": "2022-03-29T21:52:19.639254Z"
    },
    "papermill": {
     "duration": 0.443307,
     "end_time": "2022-03-29T23:28:58.262333",
     "exception": false,
     "start_time": "2022-03-29T23:28:57.819026",
     "status": "completed"
    },
    "tags": []
   },
   "outputs": [
    {
     "data": {
      "text/html": [
       "<div>\n",
       "<style scoped>\n",
       "    .dataframe tbody tr th:only-of-type {\n",
       "        vertical-align: middle;\n",
       "    }\n",
       "\n",
       "    .dataframe tbody tr th {\n",
       "        vertical-align: top;\n",
       "    }\n",
       "\n",
       "    .dataframe thead th {\n",
       "        text-align: right;\n",
       "    }\n",
       "</style>\n",
       "<table border=\"1\" class=\"dataframe\">\n",
       "  <thead>\n",
       "    <tr style=\"text-align: right;\">\n",
       "      <th></th>\n",
       "      <th>Dummy</th>\n",
       "      <th>Baseline</th>\n",
       "    </tr>\n",
       "  </thead>\n",
       "  <tbody>\n",
       "    <tr>\n",
       "      <th>Multi-label accuracy</th>\n",
       "      <td>0.786</td>\n",
       "      <td>0.780</td>\n",
       "    </tr>\n",
       "    <tr>\n",
       "      <th>Binary accuracy</th>\n",
       "      <td>0.960</td>\n",
       "      <td>0.959</td>\n",
       "    </tr>\n",
       "    <tr>\n",
       "      <th>Loss</th>\n",
       "      <td>0.640</td>\n",
       "      <td>0.547</td>\n",
       "    </tr>\n",
       "    <tr>\n",
       "      <th>Average Precision</th>\n",
       "      <td>0.040</td>\n",
       "      <td>0.341</td>\n",
       "    </tr>\n",
       "  </tbody>\n",
       "</table>\n",
       "</div>"
      ],
      "text/plain": [
       "                      Dummy  Baseline\n",
       "Multi-label accuracy  0.786     0.780\n",
       "Binary accuracy       0.960     0.959\n",
       "Loss                  0.640     0.547\n",
       "Average Precision     0.040     0.341"
      ]
     },
     "execution_count": 12,
     "metadata": {},
     "output_type": "execute_result"
    }
   ],
   "source": [
    "from sklearn.feature_extraction.text import TfidfVectorizer\n",
    "from sklearn.linear_model import LogisticRegression\n",
    "from sklearn.multiclass import OneVsRestClassifier\n",
    "from sklearn.pipeline import make_pipeline\n",
    "\n",
    "# We take into account unigrams and bigrams that occur at least 10 times \n",
    "# in the train set, but less than 50 % of the time\n",
    "tfidf = TfidfVectorizer()#min_df=10, max_df=0.5, ngram_range=(1, 2))\n",
    "\n",
    "# We set the (L2) regularization weight to 1/2 (inverse of C)\n",
    "classifier = OneVsRestClassifier(LogisticRegression(C=12., max_iter=1000))\n",
    "\n",
    "baseline = make_pipeline(tfidf, classifier)\n",
    "baseline.fit(train_texts, train_labels)\n",
    "\n",
    "y_prob = baseline.predict_proba(test_texts)\n",
    "\n",
    "evaluation[\"Baseline\"] = compute_metrics(test_labels, y_prob)\n",
    "evaluation"
   ]
  },
  {
   "cell_type": "code",
   "execution_count": 13,
   "id": "47a2e80b",
   "metadata": {
    "execution": {
     "iopub.execute_input": "2022-03-29T23:28:58.334734Z",
     "iopub.status.busy": "2022-03-29T23:28:58.333683Z",
     "iopub.status.idle": "2022-03-29T23:28:58.337653Z",
     "shell.execute_reply": "2022-03-29T23:28:58.337257Z",
     "shell.execute_reply.started": "2022-03-29T21:52:35.303049Z"
    },
    "papermill": {
     "duration": 0.040931,
     "end_time": "2022-03-29T23:28:58.337770",
     "exception": false,
     "start_time": "2022-03-29T23:28:58.296839",
     "status": "completed"
    },
    "tags": []
   },
   "outputs": [
    {
     "data": {
      "text/plain": [
       "(1030, 8)"
      ]
     },
     "execution_count": 13,
     "metadata": {},
     "output_type": "execute_result"
    }
   ],
   "source": [
    "train_labels.shape"
   ]
  },
  {
   "cell_type": "code",
   "execution_count": 14,
   "id": "bb350c8c",
   "metadata": {
    "execution": {
     "iopub.execute_input": "2022-03-29T23:28:58.408083Z",
     "iopub.status.busy": "2022-03-29T23:28:58.407440Z",
     "iopub.status.idle": "2022-03-29T23:28:59.627959Z",
     "shell.execute_reply": "2022-03-29T23:28:59.627057Z",
     "shell.execute_reply.started": "2022-03-29T21:52:36.820547Z"
    },
    "papermill": {
     "duration": 1.257531,
     "end_time": "2022-03-29T23:28:59.628122",
     "exception": false,
     "start_time": "2022-03-29T23:28:58.370591",
     "status": "completed"
    },
    "tags": []
   },
   "outputs": [
    {
     "name": "stdout",
     "output_type": "stream",
     "text": [
      "Transformers package version: 4.6.1\n"
     ]
    }
   ],
   "source": [
    "import transformers\n",
    "print(f\"Transformers package version: {transformers.__version__}\")"
   ]
  },
  {
   "cell_type": "code",
   "execution_count": 15,
   "id": "231deadb",
   "metadata": {
    "execution": {
     "iopub.execute_input": "2022-03-29T23:28:59.698733Z",
     "iopub.status.busy": "2022-03-29T23:28:59.698132Z",
     "iopub.status.idle": "2022-03-29T23:28:59.814556Z",
     "shell.execute_reply": "2022-03-29T23:28:59.814071Z",
     "shell.execute_reply.started": "2022-03-29T21:52:39.387268Z"
    },
    "papermill": {
     "duration": 0.152532,
     "end_time": "2022-03-29T23:28:59.814672",
     "exception": false,
     "start_time": "2022-03-29T23:28:59.662140",
     "status": "completed"
    },
    "tags": []
   },
   "outputs": [],
   "source": [
    "import tensorflow_addons as tfa"
   ]
  },
  {
   "cell_type": "code",
   "execution_count": 16,
   "id": "a0a7c580",
   "metadata": {
    "execution": {
     "iopub.execute_input": "2022-03-29T23:28:59.887260Z",
     "iopub.status.busy": "2022-03-29T23:28:59.886589Z",
     "iopub.status.idle": "2022-03-29T23:29:10.060646Z",
     "shell.execute_reply": "2022-03-29T23:29:10.061070Z",
     "shell.execute_reply.started": "2022-03-29T22:34:26.667020Z"
    },
    "papermill": {
     "duration": 10.213191,
     "end_time": "2022-03-29T23:29:10.061269",
     "exception": false,
     "start_time": "2022-03-29T23:28:59.848078",
     "status": "completed"
    },
    "tags": []
   },
   "outputs": [
    {
     "data": {
      "application/vnd.jupyter.widget-view+json": {
       "model_id": "ce90ee3a81ec44ccba396fcd6e93e4ca",
       "version_major": 2,
       "version_minor": 0
      },
      "text/plain": [
       "Downloading:   0%|          | 0.00/483 [00:00<?, ?B/s]"
      ]
     },
     "metadata": {},
     "output_type": "display_data"
    },
    {
     "data": {
      "application/vnd.jupyter.widget-view+json": {
       "model_id": "7e5e7b7d52ae45b195720bc62762ebc0",
       "version_major": 2,
       "version_minor": 0
      },
      "text/plain": [
       "Downloading:   0%|          | 0.00/232k [00:00<?, ?B/s]"
      ]
     },
     "metadata": {},
     "output_type": "display_data"
    },
    {
     "data": {
      "application/vnd.jupyter.widget-view+json": {
       "model_id": "edc62f0ba46f4938b727dc971a5f833e",
       "version_major": 2,
       "version_minor": 0
      },
      "text/plain": [
       "Downloading:   0%|          | 0.00/466k [00:00<?, ?B/s]"
      ]
     },
     "metadata": {},
     "output_type": "display_data"
    },
    {
     "data": {
      "application/vnd.jupyter.widget-view+json": {
       "model_id": "ed98bb4d0bc24d5790427d7e6d6eae80",
       "version_major": 2,
       "version_minor": 0
      },
      "text/plain": [
       "Downloading:   0%|          | 0.00/28.0 [00:00<?, ?B/s]"
      ]
     },
     "metadata": {},
     "output_type": "display_data"
    },
    {
     "data": {
      "text/plain": [
       "'[CLS] heating up the frying pans for this week s burn reminder that due to frequent bsc node issues we ve moved the [SEP]'"
      ]
     },
     "execution_count": 16,
     "metadata": {},
     "output_type": "execute_result"
    }
   ],
   "source": [
    "import tensorflow as tf\n",
    "from transformers import TFDistilBertForSequenceClassification, \\\n",
    "    DistilBertConfig, DistilBertTokenizerFast\n",
    "\n",
    "MODEL_NAME = 'distilbert-base-uncased'\n",
    "MAX_LENGTH = 50  # We truncate anything after the 200-th word to speed up training\n",
    "\n",
    "# The configuration is not needed if you don't have to customize the \n",
    "# network architecture. Here we will need it to replacee the output of the model\n",
    "# with a multi-label prediction layer (i.e. sigmoid activations + binary cross-entropy\n",
    "# instead of softmax + categorical cross-entropy of multi-class classification)\n",
    "config = DistilBertConfig.from_pretrained(MODEL_NAME)\n",
    "\n",
    "tokenizer = DistilBertTokenizerFast.from_pretrained(MODEL_NAME)\n",
    "\n",
    "\n",
    "train_encodings = tokenizer(train_texts, truncation=True, padding=True, \n",
    "                            max_length=MAX_LENGTH, return_tensors=\"tf\")\n",
    "test_encodings = tokenizer(test_texts, truncation=True, padding=True, \n",
    "                           max_length=MAX_LENGTH, return_tensors=\"tf\")\n",
    "\n",
    "# Create TensorFlow datasets to feed the model for training and evaluation\n",
    "train_dataset = tf.data.Dataset.from_tensor_slices((dict(train_encodings), train_labels))\n",
    "test_dataset = tf.data.Dataset.from_tensor_slices((dict(test_encodings), test_labels))\n",
    "\n",
    "# Tokenizer output example\n",
    "sample_text = \"heating up the frying pans for this week s burn reminder that due to frequent bsc node issues we ve moved the\"\n",
    "tokenizer.decode(tokenizer(sample_text)[\"input_ids\"])"
   ]
  },
  {
   "cell_type": "code",
   "execution_count": 17,
   "id": "b6337e7d",
   "metadata": {
    "execution": {
     "iopub.execute_input": "2022-03-29T23:29:10.137154Z",
     "iopub.status.busy": "2022-03-29T23:29:10.136164Z",
     "iopub.status.idle": "2022-03-29T23:29:10.139992Z",
     "shell.execute_reply": "2022-03-29T23:29:10.139526Z",
     "shell.execute_reply.started": "2022-03-29T22:34:29.530845Z"
    },
    "papermill": {
     "duration": 0.043179,
     "end_time": "2022-03-29T23:29:10.140095",
     "exception": false,
     "start_time": "2022-03-29T23:29:10.096916",
     "status": "completed"
    },
    "tags": []
   },
   "outputs": [
    {
     "data": {
      "text/plain": [
       "DistilBertConfig {\n",
       "  \"activation\": \"gelu\",\n",
       "  \"architectures\": [\n",
       "    \"DistilBertForMaskedLM\"\n",
       "  ],\n",
       "  \"attention_dropout\": 0.1,\n",
       "  \"dim\": 768,\n",
       "  \"dropout\": 0.1,\n",
       "  \"hidden_dim\": 3072,\n",
       "  \"initializer_range\": 0.02,\n",
       "  \"max_position_embeddings\": 512,\n",
       "  \"model_type\": \"distilbert\",\n",
       "  \"n_heads\": 12,\n",
       "  \"n_layers\": 6,\n",
       "  \"pad_token_id\": 0,\n",
       "  \"qa_dropout\": 0.1,\n",
       "  \"seq_classif_dropout\": 0.2,\n",
       "  \"sinusoidal_pos_embds\": false,\n",
       "  \"tie_weights_\": true,\n",
       "  \"transformers_version\": \"4.6.1\",\n",
       "  \"vocab_size\": 30522\n",
       "}"
      ]
     },
     "execution_count": 17,
     "metadata": {},
     "output_type": "execute_result"
    }
   ],
   "source": [
    "config"
   ]
  },
  {
   "cell_type": "code",
   "execution_count": 18,
   "id": "875ccc75",
   "metadata": {
    "execution": {
     "iopub.execute_input": "2022-03-29T23:29:10.217837Z",
     "iopub.status.busy": "2022-03-29T23:29:10.217038Z",
     "iopub.status.idle": "2022-03-29T23:29:26.907665Z",
     "shell.execute_reply": "2022-03-29T23:29:26.908230Z",
     "shell.execute_reply.started": "2022-03-29T23:07:41.490062Z"
    },
    "papermill": {
     "duration": 16.733283,
     "end_time": "2022-03-29T23:29:26.908397",
     "exception": false,
     "start_time": "2022-03-29T23:29:10.175114",
     "status": "completed"
    },
    "tags": []
   },
   "outputs": [
    {
     "data": {
      "application/vnd.jupyter.widget-view+json": {
       "model_id": "c48c4c21e19e4ed9a229692010a6619c",
       "version_major": 2,
       "version_minor": 0
      },
      "text/plain": [
       "Downloading:   0%|          | 0.00/363M [00:00<?, ?B/s]"
      ]
     },
     "metadata": {},
     "output_type": "display_data"
    },
    {
     "name": "stderr",
     "output_type": "stream",
     "text": [
      "Some layers from the model checkpoint at distilbert-base-uncased were not used when initializing TFDistilBertForSequenceClassification: ['vocab_projector', 'activation_13', 'vocab_layer_norm', 'vocab_transform']\n",
      "- This IS expected if you are initializing TFDistilBertForSequenceClassification from the checkpoint of a model trained on another task or with another architecture (e.g. initializing a BertForSequenceClassification model from a BertForPreTraining model).\n",
      "- This IS NOT expected if you are initializing TFDistilBertForSequenceClassification from the checkpoint of a model that you expect to be exactly identical (initializing a BertForSequenceClassification model from a BertForSequenceClassification model).\n",
      "Some layers of TFDistilBertForSequenceClassification were not initialized from the model checkpoint at distilbert-base-uncased and are newly initialized: ['dropout_19', 'classifier', 'pre_classifier']\n",
      "You should probably TRAIN this model on a down-stream task to be able to use it for predictions and inference.\n"
     ]
    },
    {
     "name": "stdout",
     "output_type": "stream",
     "text": [
      "Model: \"BERT_MultiLabel\"\n",
      "_________________________________________________________________\n",
      "Layer (type)                 Output Shape              Param #   \n",
      "=================================================================\n",
      "input_ids (InputLayer)       [(None, 50)]              0         \n",
      "_________________________________________________________________\n",
      "distilbert (TFDistilBertMain TFBaseModelOutput(last_hi 66362880  \n",
      "_________________________________________________________________\n",
      "tf.__operators__.getitem (Sl (None, 768)               0         \n",
      "_________________________________________________________________\n",
      "pooled_output (Dropout)      (None, 768)               0         \n",
      "_________________________________________________________________\n",
      "output (Dense)               (None, 8)                 6152      \n",
      "=================================================================\n",
      "Total params: 66,369,032\n",
      "Trainable params: 66,369,032\n",
      "Non-trainable params: 0\n",
      "_________________________________________________________________\n"
     ]
    }
   ],
   "source": [
    "from tensorflow.keras.initializers import TruncatedNormal\n",
    "from tensorflow.keras.layers import Input, Dropout, Dense\n",
    "from tensorflow.keras.losses import BinaryCrossentropy\n",
    "from tensorflow.keras.metrics import AUC\n",
    "from tensorflow.keras.models import Model\n",
    "from tensorflow.keras.optimizers import Adam\n",
    "\n",
    "transformer_model = TFDistilBertForSequenceClassification.from_pretrained(\n",
    "    MODEL_NAME, output_hidden_states=False\n",
    ")\n",
    "\n",
    "# transformer_model = TFAutoModel.from_pretrained(\n",
    "#     MODEL_NAME, output_hidden_states=False\n",
    "# )\n",
    "\n",
    "bert = transformer_model.layers[0]\n",
    "\n",
    "# The input is a dictionary of word identifiers \n",
    "input_ids = Input(shape=(MAX_LENGTH,), name='input_ids', dtype='int32')\n",
    "inputs = {'input_ids': input_ids}\n",
    "\n",
    "# Here we select the representation of the first token ([CLS]) for classification\n",
    "# (a.k.a. \"pooled representation\")\n",
    "bert_model = bert(inputs)[0][:, 0, :] \n",
    "\n",
    "# Add a dropout layer and the output layer\n",
    "#dropout = Dropout(0.1, name='pooled_output')\n",
    "pooled_output = Dropout(0.1, name='pooled_output')(bert_model, training=False)\n",
    "#head = Dense(256, activation=\"relu\", \n",
    "#             kernel_initializer=TruncatedNormal(stddev=config.initializer_range), \n",
    "#            )(pooled_output)\n",
    "#head = Dropout(0.5)(head)\n",
    "output = Dense(\n",
    "    units=train_labels.shape[1],\n",
    "    #kernel_initializer=TruncatedNormal(stddev=config.initializer_range), \n",
    "    activation=\"sigmoid\",  # Choose a sigmoid for multi-label classification\n",
    "    name='output'\n",
    ")(pooled_output)\n",
    "\n",
    "model = Model(inputs=inputs, outputs=output, name='BERT_MultiLabel')\n",
    "model.summary()"
   ]
  },
  {
   "cell_type": "code",
   "execution_count": 19,
   "id": "ff2090bf",
   "metadata": {
    "execution": {
     "iopub.execute_input": "2022-03-29T23:29:26.987624Z",
     "iopub.status.busy": "2022-03-29T23:29:26.986487Z",
     "iopub.status.idle": "2022-03-29T23:29:26.990671Z",
     "shell.execute_reply": "2022-03-29T23:29:26.990205Z",
     "shell.execute_reply.started": "2022-03-29T23:07:45.250512Z"
    },
    "papermill": {
     "duration": 0.045026,
     "end_time": "2022-03-29T23:29:26.990786",
     "exception": false,
     "start_time": "2022-03-29T23:29:26.945760",
     "status": "completed"
    },
    "tags": []
   },
   "outputs": [
    {
     "data": {
      "text/plain": [
       "5"
      ]
     },
     "execution_count": 19,
     "metadata": {},
     "output_type": "execute_result"
    }
   ],
   "source": [
    "len(model.layers)"
   ]
  },
  {
   "cell_type": "code",
   "execution_count": 20,
   "id": "342023eb",
   "metadata": {
    "execution": {
     "iopub.execute_input": "2022-03-29T23:29:27.067503Z",
     "iopub.status.busy": "2022-03-29T23:29:27.066778Z",
     "iopub.status.idle": "2022-03-29T23:29:27.069069Z",
     "shell.execute_reply": "2022-03-29T23:29:27.069512Z",
     "shell.execute_reply.started": "2022-03-29T23:07:45.260110Z"
    },
    "papermill": {
     "duration": 0.041995,
     "end_time": "2022-03-29T23:29:27.069635",
     "exception": false,
     "start_time": "2022-03-29T23:29:27.027640",
     "status": "completed"
    },
    "tags": []
   },
   "outputs": [],
   "source": [
    "# for layer in model.layers:\n",
    "#     layer.trainable =  True"
   ]
  },
  {
   "cell_type": "code",
   "execution_count": 21,
   "id": "6640886f",
   "metadata": {
    "execution": {
     "iopub.execute_input": "2022-03-29T23:29:27.153695Z",
     "iopub.status.busy": "2022-03-29T23:29:27.152827Z",
     "iopub.status.idle": "2022-03-29T23:29:27.158566Z",
     "shell.execute_reply": "2022-03-29T23:29:27.157942Z",
     "shell.execute_reply.started": "2022-03-29T23:07:45.406943Z"
    },
    "papermill": {
     "duration": 0.052658,
     "end_time": "2022-03-29T23:29:27.158702",
     "exception": false,
     "start_time": "2022-03-29T23:29:27.106044",
     "status": "completed"
    },
    "tags": []
   },
   "outputs": [
    {
     "name": "stdout",
     "output_type": "stream",
     "text": [
      "Model: \"BERT_MultiLabel\"\n",
      "_________________________________________________________________\n",
      "Layer (type)                 Output Shape              Param #   \n",
      "=================================================================\n",
      "input_ids (InputLayer)       [(None, 50)]              0         \n",
      "_________________________________________________________________\n",
      "distilbert (TFDistilBertMain TFBaseModelOutput(last_hi 66362880  \n",
      "_________________________________________________________________\n",
      "tf.__operators__.getitem (Sl (None, 768)               0         \n",
      "_________________________________________________________________\n",
      "pooled_output (Dropout)      (None, 768)               0         \n",
      "_________________________________________________________________\n",
      "output (Dense)               (None, 8)                 6152      \n",
      "=================================================================\n",
      "Total params: 66,369,032\n",
      "Trainable params: 66,369,032\n",
      "Non-trainable params: 0\n",
      "_________________________________________________________________\n"
     ]
    }
   ],
   "source": [
    "model.summary()"
   ]
  },
  {
   "cell_type": "code",
   "execution_count": 22,
   "id": "6d2561b3",
   "metadata": {
    "execution": {
     "iopub.execute_input": "2022-03-29T23:29:27.238352Z",
     "iopub.status.busy": "2022-03-29T23:29:27.237655Z",
     "iopub.status.idle": "2022-03-29T23:29:27.240656Z",
     "shell.execute_reply": "2022-03-29T23:29:27.240225Z",
     "shell.execute_reply.started": "2022-03-29T23:11:50.337805Z"
    },
    "papermill": {
     "duration": 0.043458,
     "end_time": "2022-03-29T23:29:27.240757",
     "exception": false,
     "start_time": "2022-03-29T23:29:27.197299",
     "status": "completed"
    },
    "tags": []
   },
   "outputs": [],
   "source": [
    "optimizer = tfa.optimizers.RectifiedAdam(lr=1e-5)\n",
    "#optimizer = Adam(0.00001)"
   ]
  },
  {
   "cell_type": "code",
   "execution_count": 23,
   "id": "d4ff45f9",
   "metadata": {
    "execution": {
     "iopub.execute_input": "2022-03-29T23:29:27.318393Z",
     "iopub.status.busy": "2022-03-29T23:29:27.317731Z",
     "iopub.status.idle": "2022-03-29T23:29:27.320614Z",
     "shell.execute_reply": "2022-03-29T23:29:27.320164Z",
     "shell.execute_reply.started": "2022-03-29T23:11:51.972812Z"
    },
    "papermill": {
     "duration": 0.042975,
     "end_time": "2022-03-29T23:29:27.320716",
     "exception": false,
     "start_time": "2022-03-29T23:29:27.277741",
     "status": "completed"
    },
    "tags": []
   },
   "outputs": [],
   "source": [
    "#loss = tf.keras.losses.CategoricalCrossentropy() #tf.keras.losses.BinaryCrossentropy()\n",
    "loss = tf.keras.losses.BinaryCrossentropy()"
   ]
  },
  {
   "cell_type": "code",
   "execution_count": 24,
   "id": "bf11f01a",
   "metadata": {
    "execution": {
     "iopub.execute_input": "2022-03-29T23:29:27.403590Z",
     "iopub.status.busy": "2022-03-29T23:29:27.402710Z",
     "iopub.status.idle": "2022-03-29T23:29:27.405510Z",
     "shell.execute_reply": "2022-03-29T23:29:27.405006Z",
     "shell.execute_reply.started": "2022-03-29T23:11:52.543674Z"
    },
    "papermill": {
     "duration": 0.048028,
     "end_time": "2022-03-29T23:29:27.405617",
     "exception": false,
     "start_time": "2022-03-29T23:29:27.357589",
     "status": "completed"
    },
    "tags": []
   },
   "outputs": [],
   "source": [
    "#loss = BinaryCrossentropy()\n",
    "#optimizer = Adam(0.0001)\n",
    "metrics = [\n",
    "    multi_label_accuracy,\n",
    "    \"binary_accuracy\", \n",
    "    AUC(name=\"average_precision\", curve=\"PR\", multi_label=True)\n",
    "]"
   ]
  },
  {
   "cell_type": "code",
   "execution_count": 25,
   "id": "ae8c1307",
   "metadata": {
    "execution": {
     "iopub.execute_input": "2022-03-29T23:29:27.492013Z",
     "iopub.status.busy": "2022-03-29T23:29:27.491253Z",
     "iopub.status.idle": "2022-03-29T23:35:24.863921Z",
     "shell.execute_reply": "2022-03-29T23:35:24.863439Z",
     "shell.execute_reply.started": "2022-03-29T23:11:59.173938Z"
    },
    "papermill": {
     "duration": 357.42183,
     "end_time": "2022-03-29T23:35:24.864055",
     "exception": false,
     "start_time": "2022-03-29T23:29:27.442225",
     "status": "completed"
    },
    "tags": []
   },
   "outputs": [
    {
     "name": "stdout",
     "output_type": "stream",
     "text": [
      "Epoch 1/50\n"
     ]
    },
    {
     "name": "stderr",
     "output_type": "stream",
     "text": [
      "/opt/conda/lib/python3.7/site-packages/tensorflow/python/keras/engine/functional.py:595: UserWarning: Input dict contained keys ['attention_mask'] which did not match any model input. They will be ignored by the model.\n",
      "  [n for n in tensors.keys() if n not in ref_input_names])\n"
     ]
    },
    {
     "name": "stdout",
     "output_type": "stream",
     "text": [
      "65/65 [==============================] - 30s 131ms/step - loss: 0.7343 - multi_label_accuracy: 0.0347 - binary_accuracy: 0.4451 - average_precision: 0.0466 - val_loss: 0.3300 - val_multi_label_accuracy: 0.6684 - val_binary_accuracy: 0.9203 - val_average_precision: 0.0867\n",
      "Epoch 2/50\n",
      "65/65 [==============================] - 7s 105ms/step - loss: 0.2501 - multi_label_accuracy: 0.7333 - binary_accuracy: 0.9457 - average_precision: 0.0730 - val_loss: 0.1780 - val_multi_label_accuracy: 0.7622 - val_binary_accuracy: 0.9609 - val_average_precision: 0.0822\n",
      "Epoch 3/50\n",
      "65/65 [==============================] - 7s 102ms/step - loss: 0.1672 - multi_label_accuracy: 0.7958 - binary_accuracy: 0.9619 - average_precision: 0.0655 - val_loss: 0.1621 - val_multi_label_accuracy: 0.7622 - val_binary_accuracy: 0.9602 - val_average_precision: 0.0938\n",
      "Epoch 4/50\n",
      "65/65 [==============================] - 7s 100ms/step - loss: 0.1580 - multi_label_accuracy: 0.7871 - binary_accuracy: 0.9611 - average_precision: 0.0832 - val_loss: 0.1578 - val_multi_label_accuracy: 0.7622 - val_binary_accuracy: 0.9602 - val_average_precision: 0.0940\n",
      "Epoch 5/50\n",
      "65/65 [==============================] - 7s 101ms/step - loss: 0.1569 - multi_label_accuracy: 0.7843 - binary_accuracy: 0.9608 - average_precision: 0.0906 - val_loss: 0.1576 - val_multi_label_accuracy: 0.7622 - val_binary_accuracy: 0.9602 - val_average_precision: 0.1071\n",
      "Epoch 6/50\n",
      "65/65 [==============================] - 7s 102ms/step - loss: 0.1527 - multi_label_accuracy: 0.7982 - binary_accuracy: 0.9608 - average_precision: 0.1009 - val_loss: 0.1558 - val_multi_label_accuracy: 0.7622 - val_binary_accuracy: 0.9602 - val_average_precision: 0.1344\n",
      "Epoch 7/50\n",
      "65/65 [==============================] - 7s 104ms/step - loss: 0.1553 - multi_label_accuracy: 0.7841 - binary_accuracy: 0.9589 - average_precision: 0.1358 - val_loss: 0.1538 - val_multi_label_accuracy: 0.7622 - val_binary_accuracy: 0.9602 - val_average_precision: 0.1690\n",
      "Epoch 8/50\n",
      "65/65 [==============================] - 7s 103ms/step - loss: 0.1434 - multi_label_accuracy: 0.8004 - binary_accuracy: 0.9627 - average_precision: 0.1445 - val_loss: 0.1551 - val_multi_label_accuracy: 0.7622 - val_binary_accuracy: 0.9602 - val_average_precision: 0.1676\n",
      "Epoch 9/50\n",
      "65/65 [==============================] - 7s 101ms/step - loss: 0.1402 - multi_label_accuracy: 0.8021 - binary_accuracy: 0.9629 - average_precision: 0.1820 - val_loss: 0.1520 - val_multi_label_accuracy: 0.7622 - val_binary_accuracy: 0.9602 - val_average_precision: 0.1869\n",
      "Epoch 10/50\n",
      "65/65 [==============================] - 7s 102ms/step - loss: 0.1559 - multi_label_accuracy: 0.7684 - binary_accuracy: 0.9562 - average_precision: 0.2061 - val_loss: 0.1526 - val_multi_label_accuracy: 0.7622 - val_binary_accuracy: 0.9602 - val_average_precision: 0.1708\n",
      "Epoch 11/50\n",
      "65/65 [==============================] - 7s 101ms/step - loss: 0.1396 - multi_label_accuracy: 0.7918 - binary_accuracy: 0.9607 - average_precision: 0.2542 - val_loss: 0.1414 - val_multi_label_accuracy: 0.7622 - val_binary_accuracy: 0.9602 - val_average_precision: 0.2493\n",
      "Epoch 12/50\n",
      "65/65 [==============================] - 7s 104ms/step - loss: 0.1134 - multi_label_accuracy: 0.8132 - binary_accuracy: 0.9665 - average_precision: 0.3525 - val_loss: 0.1411 - val_multi_label_accuracy: 0.7674 - val_binary_accuracy: 0.9609 - val_average_precision: 0.2434\n",
      "Epoch 13/50\n",
      "65/65 [==============================] - 7s 101ms/step - loss: 0.1151 - multi_label_accuracy: 0.7823 - binary_accuracy: 0.9606 - average_precision: 0.4318 - val_loss: 0.1381 - val_multi_label_accuracy: 0.7622 - val_binary_accuracy: 0.9615 - val_average_precision: 0.2991\n",
      "Epoch 14/50\n",
      "65/65 [==============================] - 7s 100ms/step - loss: 0.1022 - multi_label_accuracy: 0.8055 - binary_accuracy: 0.9670 - average_precision: 0.4795 - val_loss: 0.1394 - val_multi_label_accuracy: 0.7569 - val_binary_accuracy: 0.9602 - val_average_precision: 0.3188\n",
      "Epoch 15/50\n",
      "65/65 [==============================] - 7s 103ms/step - loss: 0.0870 - multi_label_accuracy: 0.8068 - binary_accuracy: 0.9693 - average_precision: 0.5785 - val_loss: 0.1343 - val_multi_label_accuracy: 0.7865 - val_binary_accuracy: 0.9643 - val_average_precision: 0.3951\n",
      "Epoch 16/50\n",
      "65/65 [==============================] - 7s 101ms/step - loss: 0.0786 - multi_label_accuracy: 0.8369 - binary_accuracy: 0.9748 - average_precision: 0.6829 - val_loss: 0.1371 - val_multi_label_accuracy: 0.7726 - val_binary_accuracy: 0.9643 - val_average_precision: 0.3901\n",
      "Epoch 17/50\n",
      "65/65 [==============================] - 7s 106ms/step - loss: 0.0719 - multi_label_accuracy: 0.8252 - binary_accuracy: 0.9731 - average_precision: 0.7413 - val_loss: 0.1357 - val_multi_label_accuracy: 0.7465 - val_binary_accuracy: 0.9609 - val_average_precision: 0.3993\n",
      "Epoch 18/50\n",
      "65/65 [==============================] - 7s 102ms/step - loss: 0.0585 - multi_label_accuracy: 0.8584 - binary_accuracy: 0.9807 - average_precision: 0.8014 - val_loss: 0.1502 - val_multi_label_accuracy: 0.7674 - val_binary_accuracy: 0.9636 - val_average_precision: 0.3636\n",
      "Epoch 19/50\n",
      "65/65 [==============================] - 7s 100ms/step - loss: 0.0526 - multi_label_accuracy: 0.8774 - binary_accuracy: 0.9835 - average_precision: 0.8401 - val_loss: 0.1389 - val_multi_label_accuracy: 0.7656 - val_binary_accuracy: 0.9622 - val_average_precision: 0.3640\n",
      "Epoch 20/50\n",
      "65/65 [==============================] - 7s 105ms/step - loss: 0.0411 - multi_label_accuracy: 0.9102 - binary_accuracy: 0.9877 - average_precision: 0.8678 - val_loss: 0.1486 - val_multi_label_accuracy: 0.7674 - val_binary_accuracy: 0.9636 - val_average_precision: 0.3783\n",
      "Epoch 21/50\n",
      "65/65 [==============================] - 7s 102ms/step - loss: 0.0363 - multi_label_accuracy: 0.9195 - binary_accuracy: 0.9892 - average_precision: 0.9171 - val_loss: 0.1483 - val_multi_label_accuracy: 0.7865 - val_binary_accuracy: 0.9650 - val_average_precision: 0.3808\n",
      "Epoch 22/50\n",
      "65/65 [==============================] - 7s 104ms/step - loss: 0.0284 - multi_label_accuracy: 0.9487 - binary_accuracy: 0.9934 - average_precision: 0.9472 - val_loss: 0.1558 - val_multi_label_accuracy: 0.7812 - val_binary_accuracy: 0.9643 - val_average_precision: 0.3030\n",
      "Epoch 23/50\n",
      "65/65 [==============================] - 7s 101ms/step - loss: 0.0281 - multi_label_accuracy: 0.9568 - binary_accuracy: 0.9944 - average_precision: 0.9555 - val_loss: 0.1477 - val_multi_label_accuracy: 0.7708 - val_binary_accuracy: 0.9622 - val_average_precision: 0.4088\n",
      "Epoch 24/50\n",
      "65/65 [==============================] - 7s 103ms/step - loss: 0.0222 - multi_label_accuracy: 0.9644 - binary_accuracy: 0.9954 - average_precision: 0.9225 - val_loss: 0.1618 - val_multi_label_accuracy: 0.7622 - val_binary_accuracy: 0.9629 - val_average_precision: 0.3108\n",
      "Epoch 25/50\n",
      "65/65 [==============================] - 7s 103ms/step - loss: 0.0182 - multi_label_accuracy: 0.9802 - binary_accuracy: 0.9975 - average_precision: 0.9534 - val_loss: 0.1578 - val_multi_label_accuracy: 0.7604 - val_binary_accuracy: 0.9609 - val_average_precision: 0.3411\n",
      "Epoch 26/50\n",
      "65/65 [==============================] - 7s 102ms/step - loss: 0.0163 - multi_label_accuracy: 0.9773 - binary_accuracy: 0.9969 - average_precision: 0.9732 - val_loss: 0.1605 - val_multi_label_accuracy: 0.7604 - val_binary_accuracy: 0.9602 - val_average_precision: 0.3415\n",
      "Epoch 27/50\n",
      "65/65 [==============================] - 7s 103ms/step - loss: 0.0144 - multi_label_accuracy: 0.9801 - binary_accuracy: 0.9975 - average_precision: 0.9836 - val_loss: 0.1655 - val_multi_label_accuracy: 0.7604 - val_binary_accuracy: 0.9615 - val_average_precision: 0.3348\n",
      "Epoch 28/50\n",
      "65/65 [==============================] - 7s 102ms/step - loss: 0.0136 - multi_label_accuracy: 0.9862 - binary_accuracy: 0.9983 - average_precision: 0.9698 - val_loss: 0.1723 - val_multi_label_accuracy: 0.7656 - val_binary_accuracy: 0.9609 - val_average_precision: 0.3179\n",
      "Epoch 29/50\n",
      "65/65 [==============================] - 7s 103ms/step - loss: 0.0129 - multi_label_accuracy: 0.9887 - binary_accuracy: 0.9986 - average_precision: 0.9772 - val_loss: 0.1843 - val_multi_label_accuracy: 0.7674 - val_binary_accuracy: 0.9636 - val_average_precision: 0.3099\n",
      "Epoch 30/50\n",
      "65/65 [==============================] - 7s 102ms/step - loss: 0.0106 - multi_label_accuracy: 0.9916 - binary_accuracy: 0.9990 - average_precision: 0.9969 - val_loss: 0.1757 - val_multi_label_accuracy: 0.7656 - val_binary_accuracy: 0.9615 - val_average_precision: 0.3216\n",
      "Epoch 31/50\n",
      "65/65 [==============================] - 7s 102ms/step - loss: 0.0100 - multi_label_accuracy: 0.9841 - binary_accuracy: 0.9980 - average_precision: 0.9845 - val_loss: 0.1753 - val_multi_label_accuracy: 0.7517 - val_binary_accuracy: 0.9615 - val_average_precision: 0.3140\n",
      "Epoch 32/50\n",
      "65/65 [==============================] - 7s 103ms/step - loss: 0.0077 - multi_label_accuracy: 0.9938 - binary_accuracy: 0.9992 - average_precision: 0.9498 - val_loss: 0.1889 - val_multi_label_accuracy: 0.7760 - val_binary_accuracy: 0.9636 - val_average_precision: 0.3071\n",
      "Epoch 33/50\n",
      "65/65 [==============================] - 7s 103ms/step - loss: 0.0072 - multi_label_accuracy: 0.9967 - binary_accuracy: 0.9996 - average_precision: 0.9828 - val_loss: 0.1754 - val_multi_label_accuracy: 0.7812 - val_binary_accuracy: 0.9622 - val_average_precision: 0.3327\n",
      "Epoch 34/50\n",
      "65/65 [==============================] - 7s 103ms/step - loss: 0.0066 - multi_label_accuracy: 0.9941 - binary_accuracy: 0.9993 - average_precision: 0.9720 - val_loss: 0.1883 - val_multi_label_accuracy: 0.7865 - val_binary_accuracy: 0.9643 - val_average_precision: 0.3160\n",
      "Epoch 35/50\n",
      "65/65 [==============================] - 7s 102ms/step - loss: 0.0070 - multi_label_accuracy: 0.9902 - binary_accuracy: 0.9988 - average_precision: 0.9884 - val_loss: 0.1902 - val_multi_label_accuracy: 0.7812 - val_binary_accuracy: 0.9643 - val_average_precision: 0.3219\n",
      "Epoch 36/50\n",
      "65/65 [==============================] - 7s 102ms/step - loss: 0.0061 - multi_label_accuracy: 0.9969 - binary_accuracy: 0.9996 - average_precision: 0.9650 - val_loss: 0.1913 - val_multi_label_accuracy: 0.7708 - val_binary_accuracy: 0.9636 - val_average_precision: 0.3079\n",
      "Epoch 37/50\n",
      "65/65 [==============================] - 7s 103ms/step - loss: 0.0051 - multi_label_accuracy: 0.9992 - binary_accuracy: 0.9999 - average_precision: 0.9843 - val_loss: 0.1907 - val_multi_label_accuracy: 0.7865 - val_binary_accuracy: 0.9643 - val_average_precision: 0.3318\n",
      "Epoch 38/50\n",
      "65/65 [==============================] - 7s 105ms/step - loss: 0.0051 - multi_label_accuracy: 0.9946 - binary_accuracy: 0.9993 - average_precision: 0.9707 - val_loss: 0.1906 - val_multi_label_accuracy: 0.7726 - val_binary_accuracy: 0.9643 - val_average_precision: 0.3301\n",
      "Epoch 39/50\n",
      "65/65 [==============================] - 7s 101ms/step - loss: 0.0045 - multi_label_accuracy: 0.9993 - binary_accuracy: 0.9999 - average_precision: 0.9735 - val_loss: 0.1914 - val_multi_label_accuracy: 0.7760 - val_binary_accuracy: 0.9629 - val_average_precision: 0.3337\n",
      "Epoch 40/50\n",
      "65/65 [==============================] - 7s 102ms/step - loss: 0.0049 - multi_label_accuracy: 0.9934 - binary_accuracy: 0.9992 - average_precision: 0.9905 - val_loss: 0.1961 - val_multi_label_accuracy: 0.7760 - val_binary_accuracy: 0.9629 - val_average_precision: 0.3319\n",
      "Epoch 41/50\n",
      "65/65 [==============================] - 7s 102ms/step - loss: 0.0050 - multi_label_accuracy: 0.9946 - binary_accuracy: 0.9993 - average_precision: 0.9905 - val_loss: 0.1890 - val_multi_label_accuracy: 0.7708 - val_binary_accuracy: 0.9622 - val_average_precision: 0.3291\n",
      "Epoch 42/50\n",
      "65/65 [==============================] - 7s 105ms/step - loss: 0.0038 - multi_label_accuracy: 0.9977 - binary_accuracy: 0.9997 - average_precision: 0.9711 - val_loss: 0.1922 - val_multi_label_accuracy: 0.7760 - val_binary_accuracy: 0.9636 - val_average_precision: 0.3338\n",
      "Epoch 43/50\n",
      "65/65 [==============================] - 7s 108ms/step - loss: 0.0041 - multi_label_accuracy: 0.9969 - binary_accuracy: 0.9996 - average_precision: 0.9773 - val_loss: 0.1961 - val_multi_label_accuracy: 0.7812 - val_binary_accuracy: 0.9629 - val_average_precision: 0.3158\n",
      "Epoch 44/50\n",
      "65/65 [==============================] - 7s 102ms/step - loss: 0.0032 - multi_label_accuracy: 0.9984 - binary_accuracy: 0.9998 - average_precision: 0.9899 - val_loss: 0.1993 - val_multi_label_accuracy: 0.7812 - val_binary_accuracy: 0.9643 - val_average_precision: 0.3322\n",
      "Epoch 45/50\n",
      "65/65 [==============================] - 7s 101ms/step - loss: 0.0033 - multi_label_accuracy: 0.9949 - binary_accuracy: 0.9994 - average_precision: 0.9915 - val_loss: 0.2022 - val_multi_label_accuracy: 0.7760 - val_binary_accuracy: 0.9636 - val_average_precision: 0.3122\n",
      "Epoch 46/50\n",
      "65/65 [==============================] - 7s 103ms/step - loss: 0.0029 - multi_label_accuracy: 0.9961 - binary_accuracy: 0.9995 - average_precision: 0.9866 - val_loss: 0.2105 - val_multi_label_accuracy: 0.7812 - val_binary_accuracy: 0.9643 - val_average_precision: 0.3032\n",
      "Epoch 47/50\n",
      "65/65 [==============================] - 7s 103ms/step - loss: 0.0040 - multi_label_accuracy: 0.9968 - binary_accuracy: 0.9996 - average_precision: 0.9867 - val_loss: 0.2135 - val_multi_label_accuracy: 0.7656 - val_binary_accuracy: 0.9615 - val_average_precision: 0.3033\n",
      "Epoch 48/50\n",
      "65/65 [==============================] - 7s 108ms/step - loss: 0.0028 - multi_label_accuracy: 0.9971 - binary_accuracy: 0.9996 - average_precision: 0.9527 - val_loss: 0.2091 - val_multi_label_accuracy: 0.7760 - val_binary_accuracy: 0.9615 - val_average_precision: 0.2976\n",
      "Epoch 49/50\n",
      "65/65 [==============================] - 7s 102ms/step - loss: 0.0027 - multi_label_accuracy: 0.9978 - binary_accuracy: 0.9997 - average_precision: 0.9689 - val_loss: 0.2092 - val_multi_label_accuracy: 0.7552 - val_binary_accuracy: 0.9588 - val_average_precision: 0.3060\n",
      "Epoch 50/50\n",
      "65/65 [==============================] - 7s 101ms/step - loss: 0.0039 - multi_label_accuracy: 0.9916 - binary_accuracy: 0.9990 - average_precision: 0.9809 - val_loss: 0.2050 - val_multi_label_accuracy: 0.7552 - val_binary_accuracy: 0.9602 - val_average_precision: 0.3123\n"
     ]
    }
   ],
   "source": [
    "model.compile(optimizer=optimizer, loss=loss, metrics=metrics)\n",
    "training_history = model.fit(\n",
    "    train_dataset.shuffle(300).batch(16), \n",
    "    epochs=50, \n",
    "    batch_size=16, \n",
    "    validation_data=test_dataset.batch(16)\n",
    ")"
   ]
  },
  {
   "cell_type": "code",
   "execution_count": 26,
   "id": "6da8ac6c",
   "metadata": {
    "execution": {
     "iopub.execute_input": "2022-03-29T23:35:26.702559Z",
     "iopub.status.busy": "2022-03-29T23:35:26.701713Z",
     "iopub.status.idle": "2022-03-29T23:35:26.813376Z",
     "shell.execute_reply": "2022-03-29T23:35:26.814148Z",
     "shell.execute_reply.started": "2022-03-29T23:20:29.927698Z"
    },
    "papermill": {
     "duration": 1.033511,
     "end_time": "2022-03-29T23:35:26.814340",
     "exception": false,
     "start_time": "2022-03-29T23:35:25.780829",
     "status": "completed"
    },
    "tags": []
   },
   "outputs": [
    {
     "data": {
      "image/png": "[encoded data removed]",
      "text/plain": [
       "<Figure size 432x288 with 1 Axes>"
      ]
     },
     "metadata": {
      "needs_background": "light"
     },
     "output_type": "display_data"
    }
   ],
   "source": [
    "plt.title('Loss')\n",
    "plt.plot(training_history.history['average_precision'], label='train')\n",
    "plt.plot(training_history.history['val_average_precision'], label='test')\n",
    "plt.show();"
   ]
  },
  {
   "cell_type": "code",
   "execution_count": 27,
   "id": "e22b0586",
   "metadata": {
    "execution": {
     "iopub.execute_input": "2022-03-29T23:35:28.813767Z",
     "iopub.status.busy": "2022-03-29T23:35:28.812966Z",
     "iopub.status.idle": "2022-03-29T23:35:29.230635Z",
     "shell.execute_reply": "2022-03-29T23:35:29.229863Z",
     "shell.execute_reply.started": "2022-03-29T23:20:31.032664Z"
    },
    "papermill": {
     "duration": 1.507222,
     "end_time": "2022-03-29T23:35:29.230761",
     "exception": false,
     "start_time": "2022-03-29T23:35:27.723539",
     "status": "completed"
    },
    "tags": []
   },
   "outputs": [
    {
     "name": "stdout",
     "output_type": "stream",
     "text": [
      "12/12 [==============================] - 0s 33ms/step - loss: 0.2050 - multi_label_accuracy: 0.7552 - binary_accuracy: 0.9602 - average_precision: 0.3123\n"
     ]
    }
   ],
   "source": [
    "benchmarks = model.evaluate(\n",
    "    test_dataset.batch(16), return_dict=True, batch_size=16\n",
    ")"
   ]
  },
  {
   "cell_type": "code",
   "execution_count": 28,
   "id": "8af4244b",
   "metadata": {
    "execution": {
     "iopub.execute_input": "2022-03-29T23:35:31.220358Z",
     "iopub.status.busy": "2022-03-29T23:35:31.219789Z",
     "iopub.status.idle": "2022-03-29T23:35:31.226662Z",
     "shell.execute_reply": "2022-03-29T23:35:31.226098Z",
     "shell.execute_reply.started": "2022-03-29T23:20:32.919806Z"
    },
    "papermill": {
     "duration": 0.960828,
     "end_time": "2022-03-29T23:35:31.226807",
     "exception": false,
     "start_time": "2022-03-29T23:35:30.265979",
     "status": "completed"
    },
    "tags": []
   },
   "outputs": [
    {
     "data": {
      "text/html": [
       "<div>\n",
       "<style scoped>\n",
       "    .dataframe tbody tr th:only-of-type {\n",
       "        vertical-align: middle;\n",
       "    }\n",
       "\n",
       "    .dataframe tbody tr th {\n",
       "        vertical-align: top;\n",
       "    }\n",
       "\n",
       "    .dataframe thead th {\n",
       "        text-align: right;\n",
       "    }\n",
       "</style>\n",
       "<table border=\"1\" class=\"dataframe\">\n",
       "  <thead>\n",
       "    <tr style=\"text-align: right;\">\n",
       "      <th></th>\n",
       "      <th>Dummy</th>\n",
       "      <th>Baseline</th>\n",
       "      <th>DistillBERT</th>\n",
       "    </tr>\n",
       "  </thead>\n",
       "  <tbody>\n",
       "    <tr>\n",
       "      <th>Multi-label accuracy</th>\n",
       "      <td>0.786</td>\n",
       "      <td>0.780</td>\n",
       "      <td>0.755</td>\n",
       "    </tr>\n",
       "    <tr>\n",
       "      <th>Binary accuracy</th>\n",
       "      <td>0.960</td>\n",
       "      <td>0.959</td>\n",
       "      <td>0.960</td>\n",
       "    </tr>\n",
       "    <tr>\n",
       "      <th>Loss</th>\n",
       "      <td>0.640</td>\n",
       "      <td>0.547</td>\n",
       "      <td>0.205</td>\n",
       "    </tr>\n",
       "    <tr>\n",
       "      <th>Average Precision</th>\n",
       "      <td>0.040</td>\n",
       "      <td>0.341</td>\n",
       "      <td>0.312</td>\n",
       "    </tr>\n",
       "  </tbody>\n",
       "</table>\n",
       "</div>"
      ],
      "text/plain": [
       "                      Dummy  Baseline  DistillBERT\n",
       "Multi-label accuracy  0.786     0.780        0.755\n",
       "Binary accuracy       0.960     0.959        0.960\n",
       "Loss                  0.640     0.547        0.205\n",
       "Average Precision     0.040     0.341        0.312"
      ]
     },
     "execution_count": 28,
     "metadata": {},
     "output_type": "execute_result"
    }
   ],
   "source": [
    "evaluation[\"DistillBERT\"] = [\n",
    "    benchmarks[k] for k in \n",
    "    [\"multi_label_accuracy\", \"binary_accuracy\", \"loss\", \"average_precision\"]\n",
    "]\n",
    "evaluation"
   ]
  },
  {
   "cell_type": "code",
   "execution_count": 29,
   "id": "0765f060",
   "metadata": {
    "execution": {
     "iopub.execute_input": "2022-03-29T23:35:33.559608Z",
     "iopub.status.busy": "2022-03-29T23:35:33.558676Z",
     "iopub.status.idle": "2022-03-29T23:35:33.562424Z",
     "shell.execute_reply": "2022-03-29T23:35:33.562904Z",
     "shell.execute_reply.started": "2022-03-29T22:04:02.478155Z"
    },
    "papermill": {
     "duration": 1.216713,
     "end_time": "2022-03-29T23:35:33.563074",
     "exception": false,
     "start_time": "2022-03-29T23:35:32.346361",
     "status": "completed"
    },
    "tags": []
   },
   "outputs": [
    {
     "data": {
      "text/html": [
       "<div>\n",
       "<style scoped>\n",
       "    .dataframe tbody tr th:only-of-type {\n",
       "        vertical-align: middle;\n",
       "    }\n",
       "\n",
       "    .dataframe tbody tr th {\n",
       "        vertical-align: top;\n",
       "    }\n",
       "\n",
       "    .dataframe thead th {\n",
       "        text-align: right;\n",
       "    }\n",
       "</style>\n",
       "<table border=\"1\" class=\"dataframe\">\n",
       "  <thead>\n",
       "    <tr style=\"text-align: right;\">\n",
       "      <th></th>\n",
       "      <th>Dummy</th>\n",
       "      <th>Baseline</th>\n",
       "      <th>DistillBERT</th>\n",
       "    </tr>\n",
       "  </thead>\n",
       "  <tbody>\n",
       "    <tr>\n",
       "      <th>Multi-label accuracy</th>\n",
       "      <td>0.786</td>\n",
       "      <td>0.780</td>\n",
       "      <td>0.755</td>\n",
       "    </tr>\n",
       "    <tr>\n",
       "      <th>Binary accuracy</th>\n",
       "      <td>0.960</td>\n",
       "      <td>0.959</td>\n",
       "      <td>0.960</td>\n",
       "    </tr>\n",
       "    <tr>\n",
       "      <th>Loss</th>\n",
       "      <td>0.640</td>\n",
       "      <td>0.547</td>\n",
       "      <td>0.205</td>\n",
       "    </tr>\n",
       "    <tr>\n",
       "      <th>Average Precision</th>\n",
       "      <td>0.040</td>\n",
       "      <td>0.341</td>\n",
       "      <td>0.312</td>\n",
       "    </tr>\n",
       "  </tbody>\n",
       "</table>\n",
       "</div>"
      ],
      "text/plain": [
       "                      Dummy  Baseline  DistillBERT\n",
       "Multi-label accuracy  0.786     0.780        0.755\n",
       "Binary accuracy       0.960     0.959        0.960\n",
       "Loss                  0.640     0.547        0.205\n",
       "Average Precision     0.040     0.341        0.312"
      ]
     },
     "execution_count": 29,
     "metadata": {},
     "output_type": "execute_result"
    }
   ],
   "source": [
    "evaluation[\"DistillBERT\"] = [\n",
    "    benchmarks[k] for k in \n",
    "    [\"multi_label_accuracy\", \"binary_accuracy\", \"loss\", \"average_precision\"]\n",
    "]\n",
    "evaluation"
   ]
  },
  {
   "cell_type": "code",
   "execution_count": 30,
   "id": "d6cddf7e",
   "metadata": {
    "execution": {
     "iopub.execute_input": "2022-03-29T23:35:35.397861Z",
     "iopub.status.busy": "2022-03-29T23:35:35.397020Z",
     "iopub.status.idle": "2022-03-29T23:35:51.208708Z",
     "shell.execute_reply": "2022-03-29T23:35:51.207934Z",
     "shell.execute_reply.started": "2022-03-29T23:20:38.630309Z"
    },
    "papermill": {
     "duration": 16.729787,
     "end_time": "2022-03-29T23:35:51.208861",
     "exception": false,
     "start_time": "2022-03-29T23:35:34.479074",
     "status": "completed"
    },
    "tags": []
   },
   "outputs": [],
   "source": [
    "model.save(f\"fine_tuned_distilbert\")"
   ]
  },
  {
   "cell_type": "code",
   "execution_count": 31,
   "id": "44694104",
   "metadata": {
    "execution": {
     "iopub.execute_input": "2022-03-29T23:35:53.083522Z",
     "iopub.status.busy": "2022-03-29T23:35:53.082683Z",
     "iopub.status.idle": "2022-03-29T23:35:54.399392Z",
     "shell.execute_reply": "2022-03-29T23:35:54.399889Z",
     "shell.execute_reply.started": "2022-03-29T23:20:55.741038Z"
    },
    "papermill": {
     "duration": 2.256487,
     "end_time": "2022-03-29T23:35:54.400065",
     "exception": false,
     "start_time": "2022-03-29T23:35:52.143578",
     "status": "completed"
    },
    "tags": []
   },
   "outputs": [],
   "source": [
    "model.save(\"model.h5\")"
   ]
  },
  {
   "cell_type": "markdown",
   "id": "897cd63f",
   "metadata": {
    "papermill": {
     "duration": 1.122432,
     "end_time": "2022-03-29T23:35:56.613216",
     "exception": false,
     "start_time": "2022-03-29T23:35:55.490784",
     "status": "completed"
    },
    "tags": []
   },
   "source": [
    "# Predict Sample"
   ]
  },
  {
   "cell_type": "code",
   "execution_count": 32,
   "id": "334f7c78",
   "metadata": {
    "execution": {
     "iopub.execute_input": "2022-03-29T23:35:58.445455Z",
     "iopub.status.busy": "2022-03-29T23:35:58.443981Z",
     "iopub.status.idle": "2022-03-29T23:36:08.360089Z",
     "shell.execute_reply": "2022-03-29T23:36:08.360494Z",
     "shell.execute_reply.started": "2022-03-29T23:20:57.323181Z"
    },
    "papermill": {
     "duration": 10.83485,
     "end_time": "2022-03-29T23:36:08.360649",
     "exception": false,
     "start_time": "2022-03-29T23:35:57.525799",
     "status": "completed"
    },
    "tags": []
   },
   "outputs": [
    {
     "name": "stdout",
     "output_type": "stream",
     "text": [
      "                            scores\n",
      "release_points           1.333e-03\n",
      "technical_update_points  1.169e-03\n",
      "partnership_points       1.849e-04\n",
      "listing_points           9.272e-05\n",
      "security_points          4.862e-04\n",
      "from_the_project         7.310e-04\n",
      "not_from_the_project     5.942e-05\n",
      "staking                  3.037e-04\n",
      "\n",
      "Latency: 0.051 seconds\n"
     ]
    }
   ],
   "source": [
    "from time import time\n",
    "from tensorflow.keras.models import load_model\n",
    "from transformers import DistilBertTokenizerFast\n",
    "\n",
    "# Mimicking a production scenario: load the model and tokenizer\n",
    "#MAX_LENGTH = 70\n",
    "model = load_model(f\"fine_tuned_distilbert\", \n",
    "                   custom_objects={\"multi_label_accuracy\": multi_label_accuracy})\n",
    "tokenizer = DistilBertTokenizerFast.from_pretrained('distilbert-base-uncased')\n",
    "\n",
    "def score_text(text, model, tokenizer):\n",
    "    padded_encodings = tokenizer.encode_plus(\n",
    "        text,\n",
    "        max_length=MAX_LENGTH, # truncates if len(s) > max_length\n",
    "        return_token_type_ids=True,\n",
    "        return_attention_mask=True,\n",
    "        truncation=True,\n",
    "        padding='max_length',\n",
    "        return_tensors='tf'\n",
    "    )\n",
    "    return model(padded_encodings[\"input_ids\"]).numpy()\n",
    "\n",
    "score_text(\"dummy\")  # running a dummy prediction as a work-around the extra latency \n",
    "# of the first prediction of a loaded TensorFlow model.\n",
    "\n",
    "text = \"\"\"heating up the frying pans for this week s burn reminder that due to frequent bsc node issues we ve moved the\"\"\"\n",
    "\n",
    "t0 = time()\n",
    "scores = score_text(text)[0]\n",
    "latency = time() - t0\n",
    "\n",
    "scores = pd.Series(scores, label_names, name=\"scores\")\n",
    "print(scores.to_frame())\n",
    "print(f\"\\nLatency: {latency:.3f} seconds\")"
   ]
  },
  {
   "cell_type": "code",
   "execution_count": 33,
   "id": "54e600b1",
   "metadata": {
    "execution": {
     "iopub.execute_input": "2022-03-29T23:36:10.253698Z",
     "iopub.status.busy": "2022-03-29T23:36:10.252625Z",
     "iopub.status.idle": "2022-03-29T23:36:10.255949Z",
     "shell.execute_reply": "2022-03-29T23:36:10.256392Z",
     "shell.execute_reply.started": "2022-03-29T23:21:07.678568Z"
    },
    "papermill": {
     "duration": 0.925943,
     "end_time": "2022-03-29T23:36:10.256530",
     "exception": false,
     "start_time": "2022-03-29T23:36:09.330587",
     "status": "completed"
    },
    "tags": []
   },
   "outputs": [
    {
     "data": {
      "text/plain": [
       "\"We'd like to remind everyone that our $BONDLY token contract remains compromised by an unknown attacker and we ask you to refrain from trading our token until we have redeployed our new token. \\n\\nMore details here: https://t.co/WuSSNt2bsH\""
      ]
     },
     "execution_count": 33,
     "metadata": {},
     "output_type": "execute_result"
    }
   ],
   "source": [
    "dataset.iloc[0][0]"
   ]
  },
  {
   "cell_type": "code",
   "execution_count": 34,
   "id": "32546c01",
   "metadata": {
    "execution": {
     "iopub.execute_input": "2022-03-29T23:36:12.086112Z",
     "iopub.status.busy": "2022-03-29T23:36:12.085285Z",
     "iopub.status.idle": "2022-03-29T23:36:12.143068Z",
     "shell.execute_reply": "2022-03-29T23:36:12.142089Z",
     "shell.execute_reply.started": "2022-03-29T23:21:07.686016Z"
    },
    "papermill": {
     "duration": 0.964859,
     "end_time": "2022-03-29T23:36:12.143259",
     "exception": false,
     "start_time": "2022-03-29T23:36:11.178400",
     "status": "completed"
    },
    "tags": []
   },
   "outputs": [
    {
     "name": "stdout",
     "output_type": "stream",
     "text": [
      "                            scores\n",
      "release_points           7.931e-03\n",
      "technical_update_points  7.833e-03\n",
      "partnership_points       5.931e-03\n",
      "listing_points           8.316e-04\n",
      "security_points          9.943e-01\n",
      "from_the_project         9.954e-01\n",
      "not_from_the_project     2.098e-03\n",
      "staking                  8.182e-03\n",
      "\n",
      "Latency: 0.052 seconds\n"
     ]
    }
   ],
   "source": [
    "t0 = time()\n",
    "scores = score_text(dataset.iloc[0][0])[0]\n",
    "latency = time() - t0\n",
    "\n",
    "scores = pd.Series(scores, label_names, name=\"scores\")\n",
    "print(scores.to_frame())\n",
    "print(f\"\\nLatency: {latency:.3f} seconds\")"
   ]
  },
  {
   "cell_type": "code",
   "execution_count": null,
   "id": "0f10c356",
   "metadata": {
    "papermill": {
     "duration": 0.900642,
     "end_time": "2022-03-29T23:36:14.289683",
     "exception": false,
     "start_time": "2022-03-29T23:36:13.389041",
     "status": "completed"
    },
    "tags": []
   },
   "outputs": [],
   "source": []
  },
  {
   "cell_type": "markdown",
   "id": "00df052f",
   "metadata": {
    "papermill": {
     "duration": 0.896876,
     "end_time": "2022-03-29T23:36:16.086087",
     "exception": false,
     "start_time": "2022-03-29T23:36:15.189211",
     "status": "completed"
    },
    "tags": []
   },
   "source": [
    "# Metrics"
   ]
  },
  {
   "cell_type": "code",
   "execution_count": 35,
   "id": "88282943",
   "metadata": {
    "execution": {
     "iopub.execute_input": "2022-03-29T23:36:17.881036Z",
     "iopub.status.busy": "2022-03-29T23:36:17.880152Z",
     "iopub.status.idle": "2022-03-29T23:36:19.488674Z",
     "shell.execute_reply": "2022-03-29T23:36:19.488001Z",
     "shell.execute_reply.started": "2022-03-29T23:26:00.442544Z"
    },
    "papermill": {
     "duration": 2.508865,
     "end_time": "2022-03-29T23:36:19.488812",
     "exception": false,
     "start_time": "2022-03-29T23:36:16.979947",
     "status": "completed"
    },
    "tags": []
   },
   "outputs": [
    {
     "name": "stderr",
     "output_type": "stream",
     "text": [
      "/opt/conda/lib/python3.7/site-packages/tensorflow/python/keras/engine/functional.py:595: UserWarning: Input dict contained keys ['attention_mask'] which did not match any model input. They will be ignored by the model.\n",
      "  [n for n in tensors.keys() if n not in ref_input_names])\n"
     ]
    }
   ],
   "source": [
    "predictions = model.predict(test_dataset.batch(16) ,batch_size=64)\n",
    "predictions_probes = pd.DataFrame(predictions)\n",
    "predictions_probes.columns = label_names"
   ]
  },
  {
   "cell_type": "code",
   "execution_count": 36,
   "id": "bfeeea50",
   "metadata": {
    "execution": {
     "iopub.execute_input": "2022-03-29T23:36:21.369628Z",
     "iopub.status.busy": "2022-03-29T23:36:21.368286Z",
     "iopub.status.idle": "2022-03-29T23:36:21.370758Z",
     "shell.execute_reply": "2022-03-29T23:36:21.371158Z",
     "shell.execute_reply.started": "2022-03-29T23:26:07.214920Z"
    },
    "papermill": {
     "duration": 0.967092,
     "end_time": "2022-03-29T23:36:21.371318",
     "exception": false,
     "start_time": "2022-03-29T23:36:20.404226",
     "status": "completed"
    },
    "tags": []
   },
   "outputs": [],
   "source": [
    "y_test_df = pd.DataFrame(test_labels)\n",
    "y_test_df.columns = label_names"
   ]
  },
  {
   "cell_type": "code",
   "execution_count": 37,
   "id": "d000cd4c",
   "metadata": {
    "execution": {
     "iopub.execute_input": "2022-03-29T23:36:23.193154Z",
     "iopub.status.busy": "2022-03-29T23:36:23.192314Z",
     "iopub.status.idle": "2022-03-29T23:36:23.238668Z",
     "shell.execute_reply": "2022-03-29T23:36:23.238254Z",
     "shell.execute_reply.started": "2022-03-29T23:26:08.599722Z"
    },
    "papermill": {
     "duration": 0.967357,
     "end_time": "2022-03-29T23:36:23.238793",
     "exception": false,
     "start_time": "2022-03-29T23:36:22.271436",
     "status": "completed"
    },
    "tags": []
   },
   "outputs": [
    {
     "name": "stderr",
     "output_type": "stream",
     "text": [
      "/opt/conda/lib/python3.7/site-packages/sklearn/metrics/_classification.py:1221: UndefinedMetricWarning: Precision is ill-defined and being set to 0.0 due to no predicted samples. Use `zero_division` parameter to control this behavior.\n",
      "  _warn_prf(average, modifier, msg_start, len(result))\n"
     ]
    },
    {
     "data": {
      "text/plain": [
       "accuracy             0.960\n",
       "precision            0.428\n",
       "average_precision    0.355\n",
       "F1                   0.308\n",
       "AUC                  0.811\n",
       "dtype: float64"
      ]
     },
     "execution_count": 37,
     "metadata": {},
     "output_type": "execute_result"
    }
   ],
   "source": [
    "random_score = {}\n",
    "\n",
    "for label in label_names:\n",
    "    y_test = y_test_df[label].copy()\n",
    "    predict_proba_test_X = predictions_probes[label]\n",
    "    pred_test_X = predict_proba_test_X > 0.5\n",
    "\n",
    "    random_score[label] = {}\n",
    "    random_score[label]['accuracy'] = round(accuracy_score(y_test, pred_test_X),4)\n",
    "    random_score[label]['precision'] = round(precision_score(y_test, pred_test_X),4)\n",
    "    random_score[label]['average_precision'] = round(average_precision_score(y_test, predict_proba_test_X),4)\n",
    "    random_score[label]['F1'] = round(f1_score(y_test, pred_test_X),4)\n",
    "    random_score[label]['AUC'] = round(roc_auc_score(y_test, predict_proba_test_X),4)\n",
    "    \n",
    "pd.DataFrame(random_score).T.mean().round(4)"
   ]
  },
  {
   "cell_type": "code",
   "execution_count": 38,
   "id": "a89fc6b2",
   "metadata": {
    "execution": {
     "iopub.execute_input": "2022-03-29T23:36:25.324821Z",
     "iopub.status.busy": "2022-03-29T23:36:25.323596Z",
     "iopub.status.idle": "2022-03-29T23:36:25.328526Z",
     "shell.execute_reply": "2022-03-29T23:36:25.328045Z",
     "shell.execute_reply.started": "2022-03-29T23:26:46.868960Z"
    },
    "papermill": {
     "duration": 0.935077,
     "end_time": "2022-03-29T23:36:25.328654",
     "exception": false,
     "start_time": "2022-03-29T23:36:24.393577",
     "status": "completed"
    },
    "tags": []
   },
   "outputs": [
    {
     "data": {
      "text/html": [
       "<div>\n",
       "<style scoped>\n",
       "    .dataframe tbody tr th:only-of-type {\n",
       "        vertical-align: middle;\n",
       "    }\n",
       "\n",
       "    .dataframe tbody tr th {\n",
       "        vertical-align: top;\n",
       "    }\n",
       "\n",
       "    .dataframe thead th {\n",
       "        text-align: right;\n",
       "    }\n",
       "</style>\n",
       "<table border=\"1\" class=\"dataframe\">\n",
       "  <thead>\n",
       "    <tr style=\"text-align: right;\">\n",
       "      <th></th>\n",
       "      <th>accuracy</th>\n",
       "      <th>precision</th>\n",
       "      <th>average_precision</th>\n",
       "      <th>F1</th>\n",
       "      <th>AUC</th>\n",
       "    </tr>\n",
       "  </thead>\n",
       "  <tbody>\n",
       "    <tr>\n",
       "      <th>release_points</th>\n",
       "      <td>0.984</td>\n",
       "      <td>0.571</td>\n",
       "      <td>0.733</td>\n",
       "      <td>0.727</td>\n",
       "      <td>0.993</td>\n",
       "    </tr>\n",
       "    <tr>\n",
       "      <th>technical_update_points</th>\n",
       "      <td>0.989</td>\n",
       "      <td>1.000</td>\n",
       "      <td>0.817</td>\n",
       "      <td>0.667</td>\n",
       "      <td>0.985</td>\n",
       "    </tr>\n",
       "    <tr>\n",
       "      <th>partnership_points</th>\n",
       "      <td>0.967</td>\n",
       "      <td>0.400</td>\n",
       "      <td>0.334</td>\n",
       "      <td>0.400</td>\n",
       "      <td>0.916</td>\n",
       "    </tr>\n",
       "    <tr>\n",
       "      <th>listing_points</th>\n",
       "      <td>0.984</td>\n",
       "      <td>0.000</td>\n",
       "      <td>0.182</td>\n",
       "      <td>0.000</td>\n",
       "      <td>0.825</td>\n",
       "    </tr>\n",
       "    <tr>\n",
       "      <th>security_points</th>\n",
       "      <td>0.962</td>\n",
       "      <td>1.000</td>\n",
       "      <td>0.311</td>\n",
       "      <td>0.364</td>\n",
       "      <td>0.705</td>\n",
       "    </tr>\n",
       "    <tr>\n",
       "      <th>from_the_project</th>\n",
       "      <td>0.874</td>\n",
       "      <td>0.455</td>\n",
       "      <td>0.338</td>\n",
       "      <td>0.303</td>\n",
       "      <td>0.756</td>\n",
       "    </tr>\n",
       "    <tr>\n",
       "      <th>not_from_the_project</th>\n",
       "      <td>0.956</td>\n",
       "      <td>0.000</td>\n",
       "      <td>0.059</td>\n",
       "      <td>0.000</td>\n",
       "      <td>0.610</td>\n",
       "    </tr>\n",
       "    <tr>\n",
       "      <th>staking</th>\n",
       "      <td>0.967</td>\n",
       "      <td>0.000</td>\n",
       "      <td>0.070</td>\n",
       "      <td>0.000</td>\n",
       "      <td>0.698</td>\n",
       "    </tr>\n",
       "  </tbody>\n",
       "</table>\n",
       "</div>"
      ],
      "text/plain": [
       "                         accuracy  precision  average_precision     F1    AUC\n",
       "release_points              0.984      0.571              0.733  0.727  0.993\n",
       "technical_update_points     0.989      1.000              0.817  0.667  0.985\n",
       "partnership_points          0.967      0.400              0.334  0.400  0.916\n",
       "listing_points              0.984      0.000              0.182  0.000  0.825\n",
       "security_points             0.962      1.000              0.311  0.364  0.705\n",
       "from_the_project            0.874      0.455              0.338  0.303  0.756\n",
       "not_from_the_project        0.956      0.000              0.059  0.000  0.610\n",
       "staking                     0.967      0.000              0.070  0.000  0.698"
      ]
     },
     "execution_count": 38,
     "metadata": {},
     "output_type": "execute_result"
    }
   ],
   "source": [
    "pd.DataFrame(random_score).T"
   ]
  },
  {
   "cell_type": "code",
   "execution_count": null,
   "id": "236fa5b5",
   "metadata": {
    "papermill": {
     "duration": 0.911852,
     "end_time": "2022-03-29T23:36:27.163956",
     "exception": false,
     "start_time": "2022-03-29T23:36:26.252104",
     "status": "completed"
    },
    "tags": []
   },
   "outputs": [],
   "source": []
  }
 ],
 "metadata": {
  "kernelspec": {
   "display_name": "Python 3",
   "language": "python",
   "name": "python3"
  },
  "language_info": {
   "codemirror_mode": {
    "name": "ipython",
    "version": 3
   },
   "file_extension": ".py",
   "mimetype": "text/x-python",
   "name": "python",
   "nbconvert_exporter": "python",
   "pygments_lexer": "ipython3",
   "version": "3.7.10"
  },
  "papermill": {
   "default_parameters": {},
   "duration": 468.148811,
   "end_time": "2022-03-29T23:36:31.035450",
   "environment_variables": {},
   "exception": null,
   "input_path": "__notebook__.ipynb",
   "output_path": "__notebook__.ipynb",
   "parameters": {},
   "start_time": "2022-03-29T23:28:42.886639",
   "version": "2.3.3"
  },
  "widgets": {
   "application/vnd.jupyter.widget-state+json": {
    "state": {
     "15f83598d4f74299a241c8d096b072d1": {
      "model_module": "@jupyter-widgets/base",
      "model_module_version": "1.2.0",
      "model_name": "LayoutModel",
      "state": {
       "_model_module": "@jupyter-widgets/base",
       "_model_module_version": "1.2.0",
       "_model_name": "LayoutModel",
       "_view_count": null,
       "_view_module": "@jupyter-widgets/base",
       "_view_module_version": "1.2.0",
       "_view_name": "LayoutView",
       "align_content": null,
       "align_items": null,
       "align_self": null,
       "border": null,
       "bottom": null,
       "display": null,
       "flex": null,
       "flex_flow": null,
       "grid_area": null,
       "grid_auto_columns": null,
       "grid_auto_flow": null,
       "grid_auto_rows": null,
       "grid_column": null,
       "grid_gap": null,
       "grid_row": null,
       "grid_template_areas": null,
       "grid_template_columns": null,
       "grid_template_rows": null,
       "height": null,
       "justify_content": null,
       "justify_items": null,
       "left": null,
       "margin": null,
       "max_height": null,
       "max_width": null,
       "min_height": null,
       "min_width": null,
       "object_fit": null,
       "object_position": null,
       "order": null,
       "overflow": null,
       "overflow_x": null,
       "overflow_y": null,
       "padding": null,
       "right": null,
       "top": null,
       "visibility": null,
       "width": null
      }
     },
     "172a2550e59448aba7b94faff0309eae": {
      "model_module": "@jupyter-widgets/controls",
      "model_module_version": "1.5.0",
      "model_name": "ProgressStyleModel",
      "state": {
       "_model_module": "@jupyter-widgets/controls",
       "_model_module_version": "1.5.0",
       "_model_name": "ProgressStyleModel",
       "_view_count": null,
       "_view_module": "@jupyter-widgets/base",
       "_view_module_version": "1.2.0",
       "_view_name": "StyleView",
       "bar_color": null,
       "description_width": ""
      }
     },
     "176c30f524014a558aef296f4497a92e": {
      "model_module": "@jupyter-widgets/controls",
      "model_module_version": "1.5.0",
      "model_name": "HTMLModel",
      "state": {
       "_dom_classes": [],
       "_model_module": "@jupyter-widgets/controls",
       "_model_module_version": "1.5.0",
       "_model_name": "HTMLModel",
       "_view_count": null,
       "_view_module": "@jupyter-widgets/controls",
       "_view_module_version": "1.5.0",
       "_view_name": "HTMLView",
       "description": "",
       "description_tooltip": null,
       "layout": "IPY_MODEL_dd57970f0f4946f884f1087262abacb3",
       "placeholder": "​",
       "style": "IPY_MODEL_e4bd6377a0ad4b479867e356158bbdb6",
       "value": "Downloading: 100%"
      }
     },
     "1b7fcb983c8946e6a6f8c536b6ec680f": {
      "model_module": "@jupyter-widgets/controls",
      "model_module_version": "1.5.0",
      "model_name": "DescriptionStyleModel",
      "state": {
       "_model_module": "@jupyter-widgets/controls",
       "_model_module_version": "1.5.0",
       "_model_name": "DescriptionStyleModel",
       "_view_count": null,
       "_view_module": "@jupyter-widgets/base",
       "_view_module_version": "1.2.0",
       "_view_name": "StyleView",
       "description_width": ""
      }
     },
     "269973eb62034414af319f85b8a9cbe6": {
      "model_module": "@jupyter-widgets/controls",
      "model_module_version": "1.5.0",
      "model_name": "HTMLModel",
      "state": {
       "_dom_classes": [],
       "_model_module": "@jupyter-widgets/controls",
       "_model_module_version": "1.5.0",
       "_model_name": "HTMLModel",
       "_view_count": null,
       "_view_module": "@jupyter-widgets/controls",
       "_view_module_version": "1.5.0",
       "_view_name": "HTMLView",
       "description": "",
       "description_tooltip": null,
       "layout": "IPY_MODEL_7f99afd9a9674a6d8080d4778bd65511",
       "placeholder": "​",
       "style": "IPY_MODEL_1b7fcb983c8946e6a6f8c536b6ec680f",
       "value": "Downloading: 100%"
      }
     },
     "2909067d9998494393d3c4ca5770f4e9": {
      "model_module": "@jupyter-widgets/base",
      "model_module_version": "1.2.0",
      "model_name": "LayoutModel",
      "state": {
       "_model_module": "@jupyter-widgets/base",
       "_model_module_version": "1.2.0",
       "_model_name": "LayoutModel",
       "_view_count": null,
       "_view_module": "@jupyter-widgets/base",
       "_view_module_version": "1.2.0",
       "_view_name": "LayoutView",
       "align_content": null,
       "align_items": null,
       "align_self": null,
       "border": null,
       "bottom": null,
       "display": null,
       "flex": null,
       "flex_flow": null,
       "grid_area": null,
       "grid_auto_columns": null,
       "grid_auto_flow": null,
       "grid_auto_rows": null,
       "grid_column": null,
       "grid_gap": null,
       "grid_row": null,
       "grid_template_areas": null,
       "grid_template_columns": null,
       "grid_template_rows": null,
       "height": null,
       "justify_content": null,
       "justify_items": null,
       "left": null,
       "margin": null,
       "max_height": null,
       "max_width": null,
       "min_height": null,
       "min_width": null,
       "object_fit": null,
       "object_position": null,
       "order": null,
       "overflow": null,
       "overflow_x": null,
       "overflow_y": null,
       "padding": null,
       "right": null,
       "top": null,
       "visibility": null,
       "width": null
      }
     },
     "2971b9c17b314c19a37f1655149ca69a": {
      "model_module": "@jupyter-widgets/controls",
      "model_module_version": "1.5.0",
      "model_name": "HTMLModel",
      "state": {
       "_dom_classes": [],
       "_model_module": "@jupyter-widgets/controls",
       "_model_module_version": "1.5.0",
       "_model_name": "HTMLModel",
       "_view_count": null,
       "_view_module": "@jupyter-widgets/controls",
       "_view_module_version": "1.5.0",
       "_view_name": "HTMLView",
       "description": "",
       "description_tooltip": null,
       "layout": "IPY_MODEL_15f83598d4f74299a241c8d096b072d1",
       "placeholder": "​",
       "style": "IPY_MODEL_ebb84cce9a894ac2897f18dd136a31fa",
       "value": " 232k/232k [00:00&lt;00:00, 853kB/s]"
      }
     },
     "371d53d158864433b9fed989156acd5c": {
      "model_module": "@jupyter-widgets/controls",
      "model_module_version": "1.5.0",
      "model_name": "ProgressStyleModel",
      "state": {
       "_model_module": "@jupyter-widgets/controls",
       "_model_module_version": "1.5.0",
       "_model_name": "ProgressStyleModel",
       "_view_count": null,
       "_view_module": "@jupyter-widgets/base",
       "_view_module_version": "1.2.0",
       "_view_name": "StyleView",
       "bar_color": null,
       "description_width": ""
      }
     },
     "39bfc545f3a842cebadba283d25cf53d": {
      "model_module": "@jupyter-widgets/controls",
      "model_module_version": "1.5.0",
      "model_name": "DescriptionStyleModel",
      "state": {
       "_model_module": "@jupyter-widgets/controls",
       "_model_module_version": "1.5.0",
       "_model_name": "DescriptionStyleModel",
       "_view_count": null,
       "_view_module": "@jupyter-widgets/base",
       "_view_module_version": "1.2.0",
       "_view_name": "StyleView",
       "description_width": ""
      }
     },
     "3aa1ec9055f74b89a35cdf213cab5239": {
      "model_module": "@jupyter-widgets/controls",
      "model_module_version": "1.5.0",
      "model_name": "HTMLModel",
      "state": {
       "_dom_classes": [],
       "_model_module": "@jupyter-widgets/controls",
       "_model_module_version": "1.5.0",
       "_model_name": "HTMLModel",
       "_view_count": null,
       "_view_module": "@jupyter-widgets/controls",
       "_view_module_version": "1.5.0",
       "_view_name": "HTMLView",
       "description": "",
       "description_tooltip": null,
       "layout": "IPY_MODEL_47f4c77229224b7e99841bb14cf9ce38",
       "placeholder": "​",
       "style": "IPY_MODEL_39bfc545f3a842cebadba283d25cf53d",
       "value": " 466k/466k [00:00&lt;00:00, 892kB/s]"
      }
     },
     "3e6f451ddfba4099839a600875ce9bf2": {
      "model_module": "@jupyter-widgets/controls",
      "model_module_version": "1.5.0",
      "model_name": "DescriptionStyleModel",
      "state": {
       "_model_module": "@jupyter-widgets/controls",
       "_model_module_version": "1.5.0",
       "_model_name": "DescriptionStyleModel",
       "_view_count": null,
       "_view_module": "@jupyter-widgets/base",
       "_view_module_version": "1.2.0",
       "_view_name": "StyleView",
       "description_width": ""
      }
     },
     "472831bde5154408b3ae649f4eceeac5": {
      "model_module": "@jupyter-widgets/base",
      "model_module_version": "1.2.0",
      "model_name": "LayoutModel",
      "state": {
       "_model_module": "@jupyter-widgets/base",
       "_model_module_version": "1.2.0",
       "_model_name": "LayoutModel",
       "_view_count": null,
       "_view_module": "@jupyter-widgets/base",
       "_view_module_version": "1.2.0",
       "_view_name": "LayoutView",
       "align_content": null,
       "align_items": null,
       "align_self": null,
       "border": null,
       "bottom": null,
       "display": null,
       "flex": null,
       "flex_flow": null,
       "grid_area": null,
       "grid_auto_columns": null,
       "grid_auto_flow": null,
       "grid_auto_rows": null,
       "grid_column": null,
       "grid_gap": null,
       "grid_row": null,
       "grid_template_areas": null,
       "grid_template_columns": null,
       "grid_template_rows": null,
       "height": null,
       "justify_content": null,
       "justify_items": null,
       "left": null,
       "margin": null,
       "max_height": null,
       "max_width": null,
       "min_height": null,
       "min_width": null,
       "object_fit": null,
       "object_position": null,
       "order": null,
       "overflow": null,
       "overflow_x": null,
       "overflow_y": null,
       "padding": null,
       "right": null,
       "top": null,
       "visibility": null,
       "width": null
      }
     },
     "47f4c77229224b7e99841bb14cf9ce38": {
      "model_module": "@jupyter-widgets/base",
      "model_module_version": "1.2.0",
      "model_name": "LayoutModel",
      "state": {
       "_model_module": "@jupyter-widgets/base",
       "_model_module_version": "1.2.0",
       "_model_name": "LayoutModel",
       "_view_count": null,
       "_view_module": "@jupyter-widgets/base",
       "_view_module_version": "1.2.0",
       "_view_name": "LayoutView",
       "align_content": null,
       "align_items": null,
       "align_self": null,
       "border": null,
       "bottom": null,
       "display": null,
       "flex": null,
       "flex_flow": null,
       "grid_area": null,
       "grid_auto_columns": null,
       "grid_auto_flow": null,
       "grid_auto_rows": null,
       "grid_column": null,
       "grid_gap": null,
       "grid_row": null,
       "grid_template_areas": null,
       "grid_template_columns": null,
       "grid_template_rows": null,
       "height": null,
       "justify_content": null,
       "justify_items": null,
       "left": null,
       "margin": null,
       "max_height": null,
       "max_width": null,
       "min_height": null,
       "min_width": null,
       "object_fit": null,
       "object_position": null,
       "order": null,
       "overflow": null,
       "overflow_x": null,
       "overflow_y": null,
       "padding": null,
       "right": null,
       "top": null,
       "visibility": null,
       "width": null
      }
     },
     "4f734a33e23d4884911fc5dbc8748715": {
      "model_module": "@jupyter-widgets/base",
      "model_module_version": "1.2.0",
      "model_name": "LayoutModel",
      "state": {
       "_model_module": "@jupyter-widgets/base",
       "_model_module_version": "1.2.0",
       "_model_name": "LayoutModel",
       "_view_count": null,
       "_view_module": "@jupyter-widgets/base",
       "_view_module_version": "1.2.0",
       "_view_name": "LayoutView",
       "align_content": null,
       "align_items": null,
       "align_self": null,
       "border": null,
       "bottom": null,
       "display": null,
       "flex": null,
       "flex_flow": null,
       "grid_area": null,
       "grid_auto_columns": null,
       "grid_auto_flow": null,
       "grid_auto_rows": null,
       "grid_column": null,
       "grid_gap": null,
       "grid_row": null,
       "grid_template_areas": null,
       "grid_template_columns": null,
       "grid_template_rows": null,
       "height": null,
       "justify_content": null,
       "justify_items": null,
       "left": null,
       "margin": null,
       "max_height": null,
       "max_width": null,
       "min_height": null,
       "min_width": null,
       "object_fit": null,
       "object_position": null,
       "order": null,
       "overflow": null,
       "overflow_x": null,
       "overflow_y": null,
       "padding": null,
       "right": null,
       "top": null,
       "visibility": null,
       "width": null
      }
     },
     "51f1d68b8e404d518badcec5252e7779": {
      "model_module": "@jupyter-widgets/controls",
      "model_module_version": "1.5.0",
      "model_name": "DescriptionStyleModel",
      "state": {
       "_model_module": "@jupyter-widgets/controls",
       "_model_module_version": "1.5.0",
       "_model_name": "DescriptionStyleModel",
       "_view_count": null,
       "_view_module": "@jupyter-widgets/base",
       "_view_module_version": "1.2.0",
       "_view_name": "StyleView",
       "description_width": ""
      }
     },
     "5432b9ce5aaa406ea3612c86bedd02e8": {
      "model_module": "@jupyter-widgets/base",
      "model_module_version": "1.2.0",
      "model_name": "LayoutModel",
      "state": {
       "_model_module": "@jupyter-widgets/base",
       "_model_module_version": "1.2.0",
       "_model_name": "LayoutModel",
       "_view_count": null,
       "_view_module": "@jupyter-widgets/base",
       "_view_module_version": "1.2.0",
       "_view_name": "LayoutView",
       "align_content": null,
       "align_items": null,
       "align_self": null,
       "border": null,
       "bottom": null,
       "display": null,
       "flex": null,
       "flex_flow": null,
       "grid_area": null,
       "grid_auto_columns": null,
       "grid_auto_flow": null,
       "grid_auto_rows": null,
       "grid_column": null,
       "grid_gap": null,
       "grid_row": null,
       "grid_template_areas": null,
       "grid_template_columns": null,
       "grid_template_rows": null,
       "height": null,
       "justify_content": null,
       "justify_items": null,
       "left": null,
       "margin": null,
       "max_height": null,
       "max_width": null,
       "min_height": null,
       "min_width": null,
       "object_fit": null,
       "object_position": null,
       "order": null,
       "overflow": null,
       "overflow_x": null,
       "overflow_y": null,
       "padding": null,
       "right": null,
       "top": null,
       "visibility": null,
       "width": null
      }
     },
     "5ca66dc48f6b4572a67a415815a89c93": {
      "model_module": "@jupyter-widgets/controls",
      "model_module_version": "1.5.0",
      "model_name": "HTMLModel",
      "state": {
       "_dom_classes": [],
       "_model_module": "@jupyter-widgets/controls",
       "_model_module_version": "1.5.0",
       "_model_name": "HTMLModel",
       "_view_count": null,
       "_view_module": "@jupyter-widgets/controls",
       "_view_module_version": "1.5.0",
       "_view_name": "HTMLView",
       "description": "",
       "description_tooltip": null,
       "layout": "IPY_MODEL_8324c98082df469f82ab3440a45059fa",
       "placeholder": "​",
       "style": "IPY_MODEL_b42d4f633c2b40c7a55c63bbe04ff427",
       "value": "Downloading: 100%"
      }
     },
     "66c3eaa2f00d415b912c7000d67931fa": {
      "model_module": "@jupyter-widgets/base",
      "model_module_version": "1.2.0",
      "model_name": "LayoutModel",
      "state": {
       "_model_module": "@jupyter-widgets/base",
       "_model_module_version": "1.2.0",
       "_model_name": "LayoutModel",
       "_view_count": null,
       "_view_module": "@jupyter-widgets/base",
       "_view_module_version": "1.2.0",
       "_view_name": "LayoutView",
       "align_content": null,
       "align_items": null,
       "align_self": null,
       "border": null,
       "bottom": null,
       "display": null,
       "flex": null,
       "flex_flow": null,
       "grid_area": null,
       "grid_auto_columns": null,
       "grid_auto_flow": null,
       "grid_auto_rows": null,
       "grid_column": null,
       "grid_gap": null,
       "grid_row": null,
       "grid_template_areas": null,
       "grid_template_columns": null,
       "grid_template_rows": null,
       "height": null,
       "justify_content": null,
       "justify_items": null,
       "left": null,
       "margin": null,
       "max_height": null,
       "max_width": null,
       "min_height": null,
       "min_width": null,
       "object_fit": null,
       "object_position": null,
       "order": null,
       "overflow": null,
       "overflow_x": null,
       "overflow_y": null,
       "padding": null,
       "right": null,
       "top": null,
       "visibility": null,
       "width": null
      }
     },
     "6b5359dfd16246da9042aef9165910ae": {
      "model_module": "@jupyter-widgets/base",
      "model_module_version": "1.2.0",
      "model_name": "LayoutModel",
      "state": {
       "_model_module": "@jupyter-widgets/base",
       "_model_module_version": "1.2.0",
       "_model_name": "LayoutModel",
       "_view_count": null,
       "_view_module": "@jupyter-widgets/base",
       "_view_module_version": "1.2.0",
       "_view_name": "LayoutView",
       "align_content": null,
       "align_items": null,
       "align_self": null,
       "border": null,
       "bottom": null,
       "display": null,
       "flex": null,
       "flex_flow": null,
       "grid_area": null,
       "grid_auto_columns": null,
       "grid_auto_flow": null,
       "grid_auto_rows": null,
       "grid_column": null,
       "grid_gap": null,
       "grid_row": null,
       "grid_template_areas": null,
       "grid_template_columns": null,
       "grid_template_rows": null,
       "height": null,
       "justify_content": null,
       "justify_items": null,
       "left": null,
       "margin": null,
       "max_height": null,
       "max_width": null,
       "min_height": null,
       "min_width": null,
       "object_fit": null,
       "object_position": null,
       "order": null,
       "overflow": null,
       "overflow_x": null,
       "overflow_y": null,
       "padding": null,
       "right": null,
       "top": null,
       "visibility": null,
       "width": null
      }
     },
     "739b6a49c79a4d759b4fcbe7e1f09aaf": {
      "model_module": "@jupyter-widgets/controls",
      "model_module_version": "1.5.0",
      "model_name": "DescriptionStyleModel",
      "state": {
       "_model_module": "@jupyter-widgets/controls",
       "_model_module_version": "1.5.0",
       "_model_name": "DescriptionStyleModel",
       "_view_count": null,
       "_view_module": "@jupyter-widgets/base",
       "_view_module_version": "1.2.0",
       "_view_name": "StyleView",
       "description_width": ""
      }
     },
     "74782621dfbf4fd390450b229a92764a": {
      "model_module": "@jupyter-widgets/controls",
      "model_module_version": "1.5.0",
      "model_name": "HTMLModel",
      "state": {
       "_dom_classes": [],
       "_model_module": "@jupyter-widgets/controls",
       "_model_module_version": "1.5.0",
       "_model_name": "HTMLModel",
       "_view_count": null,
       "_view_module": "@jupyter-widgets/controls",
       "_view_module_version": "1.5.0",
       "_view_name": "HTMLView",
       "description": "",
       "description_tooltip": null,
       "layout": "IPY_MODEL_b8882977e2104b2bbb86826208c040eb",
       "placeholder": "​",
       "style": "IPY_MODEL_51f1d68b8e404d518badcec5252e7779",
       "value": "Downloading: 100%"
      }
     },
     "7b5dd7c4c3314eb4a2e151e7faa20346": {
      "model_module": "@jupyter-widgets/base",
      "model_module_version": "1.2.0",
      "model_name": "LayoutModel",
      "state": {
       "_model_module": "@jupyter-widgets/base",
       "_model_module_version": "1.2.0",
       "_model_name": "LayoutModel",
       "_view_count": null,
       "_view_module": "@jupyter-widgets/base",
       "_view_module_version": "1.2.0",
       "_view_name": "LayoutView",
       "align_content": null,
       "align_items": null,
       "align_self": null,
       "border": null,
       "bottom": null,
       "display": null,
       "flex": null,
       "flex_flow": null,
       "grid_area": null,
       "grid_auto_columns": null,
       "grid_auto_flow": null,
       "grid_auto_rows": null,
       "grid_column": null,
       "grid_gap": null,
       "grid_row": null,
       "grid_template_areas": null,
       "grid_template_columns": null,
       "grid_template_rows": null,
       "height": null,
       "justify_content": null,
       "justify_items": null,
       "left": null,
       "margin": null,
       "max_height": null,
       "max_width": null,
       "min_height": null,
       "min_width": null,
       "object_fit": null,
       "object_position": null,
       "order": null,
       "overflow": null,
       "overflow_x": null,
       "overflow_y": null,
       "padding": null,
       "right": null,
       "top": null,
       "visibility": null,
       "width": null
      }
     },
     "7be5d611340340beba749ac4e1c11134": {
      "model_module": "@jupyter-widgets/controls",
      "model_module_version": "1.5.0",
      "model_name": "ProgressStyleModel",
      "state": {
       "_model_module": "@jupyter-widgets/controls",
       "_model_module_version": "1.5.0",
       "_model_name": "ProgressStyleModel",
       "_view_count": null,
       "_view_module": "@jupyter-widgets/base",
       "_view_module_version": "1.2.0",
       "_view_name": "StyleView",
       "bar_color": null,
       "description_width": ""
      }
     },
     "7e5e7b7d52ae45b195720bc62762ebc0": {
      "model_module": "@jupyter-widgets/controls",
      "model_module_version": "1.5.0",
      "model_name": "HBoxModel",
      "state": {
       "_dom_classes": [],
       "_model_module": "@jupyter-widgets/controls",
       "_model_module_version": "1.5.0",
       "_model_name": "HBoxModel",
       "_view_count": null,
       "_view_module": "@jupyter-widgets/controls",
       "_view_module_version": "1.5.0",
       "_view_name": "HBoxView",
       "box_style": "",
       "children": [
        "IPY_MODEL_9c9fdd1ef23d4588a186dbec453167c4",
        "IPY_MODEL_cfaec19854bd460cb7ba94a7a2486b14",
        "IPY_MODEL_2971b9c17b314c19a37f1655149ca69a"
       ],
       "layout": "IPY_MODEL_898e53b49a394d4db671f5d4c59b3f72"
      }
     },
     "7f99afd9a9674a6d8080d4778bd65511": {
      "model_module": "@jupyter-widgets/base",
      "model_module_version": "1.2.0",
      "model_name": "LayoutModel",
      "state": {
       "_model_module": "@jupyter-widgets/base",
       "_model_module_version": "1.2.0",
       "_model_name": "LayoutModel",
       "_view_count": null,
       "_view_module": "@jupyter-widgets/base",
       "_view_module_version": "1.2.0",
       "_view_name": "LayoutView",
       "align_content": null,
       "align_items": null,
       "align_self": null,
       "border": null,
       "bottom": null,
       "display": null,
       "flex": null,
       "flex_flow": null,
       "grid_area": null,
       "grid_auto_columns": null,
       "grid_auto_flow": null,
       "grid_auto_rows": null,
       "grid_column": null,
       "grid_gap": null,
       "grid_row": null,
       "grid_template_areas": null,
       "grid_template_columns": null,
       "grid_template_rows": null,
       "height": null,
       "justify_content": null,
       "justify_items": null,
       "left": null,
       "margin": null,
       "max_height": null,
       "max_width": null,
       "min_height": null,
       "min_width": null,
       "object_fit": null,
       "object_position": null,
       "order": null,
       "overflow": null,
       "overflow_x": null,
       "overflow_y": null,
       "padding": null,
       "right": null,
       "top": null,
       "visibility": null,
       "width": null
      }
     },
     "809e898e843c4613b4d053d8b85430af": {
      "model_module": "@jupyter-widgets/controls",
      "model_module_version": "1.5.0",
      "model_name": "FloatProgressModel",
      "state": {
       "_dom_classes": [],
       "_model_module": "@jupyter-widgets/controls",
       "_model_module_version": "1.5.0",
       "_model_name": "FloatProgressModel",
       "_view_count": null,
       "_view_module": "@jupyter-widgets/controls",
       "_view_module_version": "1.5.0",
       "_view_name": "ProgressView",
       "bar_style": "success",
       "description": "",
       "description_tooltip": null,
       "layout": "IPY_MODEL_d5d59f58a791455fac32cf0490cecddb",
       "max": 28,
       "min": 0,
       "orientation": "horizontal",
       "style": "IPY_MODEL_172a2550e59448aba7b94faff0309eae",
       "value": 28
      }
     },
     "8324c98082df469f82ab3440a45059fa": {
      "model_module": "@jupyter-widgets/base",
      "model_module_version": "1.2.0",
      "model_name": "LayoutModel",
      "state": {
       "_model_module": "@jupyter-widgets/base",
       "_model_module_version": "1.2.0",
       "_model_name": "LayoutModel",
       "_view_count": null,
       "_view_module": "@jupyter-widgets/base",
       "_view_module_version": "1.2.0",
       "_view_name": "LayoutView",
       "align_content": null,
       "align_items": null,
       "align_self": null,
       "border": null,
       "bottom": null,
       "display": null,
       "flex": null,
       "flex_flow": null,
       "grid_area": null,
       "grid_auto_columns": null,
       "grid_auto_flow": null,
       "grid_auto_rows": null,
       "grid_column": null,
       "grid_gap": null,
       "grid_row": null,
       "grid_template_areas": null,
       "grid_template_columns": null,
       "grid_template_rows": null,
       "height": null,
       "justify_content": null,
       "justify_items": null,
       "left": null,
       "margin": null,
       "max_height": null,
       "max_width": null,
       "min_height": null,
       "min_width": null,
       "object_fit": null,
       "object_position": null,
       "order": null,
       "overflow": null,
       "overflow_x": null,
       "overflow_y": null,
       "padding": null,
       "right": null,
       "top": null,
       "visibility": null,
       "width": null
      }
     },
     "898e53b49a394d4db671f5d4c59b3f72": {
      "model_module": "@jupyter-widgets/base",
      "model_module_version": "1.2.0",
      "model_name": "LayoutModel",
      "state": {
       "_model_module": "@jupyter-widgets/base",
       "_model_module_version": "1.2.0",
       "_model_name": "LayoutModel",
       "_view_count": null,
       "_view_module": "@jupyter-widgets/base",
       "_view_module_version": "1.2.0",
       "_view_name": "LayoutView",
       "align_content": null,
       "align_items": null,
       "align_self": null,
       "border": null,
       "bottom": null,
       "display": null,
       "flex": null,
       "flex_flow": null,
       "grid_area": null,
       "grid_auto_columns": null,
       "grid_auto_flow": null,
       "grid_auto_rows": null,
       "grid_column": null,
       "grid_gap": null,
       "grid_row": null,
       "grid_template_areas": null,
       "grid_template_columns": null,
       "grid_template_rows": null,
       "height": null,
       "justify_content": null,
       "justify_items": null,
       "left": null,
       "margin": null,
       "max_height": null,
       "max_width": null,
       "min_height": null,
       "min_width": null,
       "object_fit": null,
       "object_position": null,
       "order": null,
       "overflow": null,
       "overflow_x": null,
       "overflow_y": null,
       "padding": null,
       "right": null,
       "top": null,
       "visibility": null,
       "width": null
      }
     },
     "929ebfc280e64dad860591ad500c397c": {
      "model_module": "@jupyter-widgets/controls",
      "model_module_version": "1.5.0",
      "model_name": "ProgressStyleModel",
      "state": {
       "_model_module": "@jupyter-widgets/controls",
       "_model_module_version": "1.5.0",
       "_model_name": "ProgressStyleModel",
       "_view_count": null,
       "_view_module": "@jupyter-widgets/base",
       "_view_module_version": "1.2.0",
       "_view_name": "StyleView",
       "bar_color": null,
       "description_width": ""
      }
     },
     "99f718daa62748bcbac5f79cfef08bee": {
      "model_module": "@jupyter-widgets/base",
      "model_module_version": "1.2.0",
      "model_name": "LayoutModel",
      "state": {
       "_model_module": "@jupyter-widgets/base",
       "_model_module_version": "1.2.0",
       "_model_name": "LayoutModel",
       "_view_count": null,
       "_view_module": "@jupyter-widgets/base",
       "_view_module_version": "1.2.0",
       "_view_name": "LayoutView",
       "align_content": null,
       "align_items": null,
       "align_self": null,
       "border": null,
       "bottom": null,
       "display": null,
       "flex": null,
       "flex_flow": null,
       "grid_area": null,
       "grid_auto_columns": null,
       "grid_auto_flow": null,
       "grid_auto_rows": null,
       "grid_column": null,
       "grid_gap": null,
       "grid_row": null,
       "grid_template_areas": null,
       "grid_template_columns": null,
       "grid_template_rows": null,
       "height": null,
       "justify_content": null,
       "justify_items": null,
       "left": null,
       "margin": null,
       "max_height": null,
       "max_width": null,
       "min_height": null,
       "min_width": null,
       "object_fit": null,
       "object_position": null,
       "order": null,
       "overflow": null,
       "overflow_x": null,
       "overflow_y": null,
       "padding": null,
       "right": null,
       "top": null,
       "visibility": null,
       "width": null
      }
     },
     "9c9fdd1ef23d4588a186dbec453167c4": {
      "model_module": "@jupyter-widgets/controls",
      "model_module_version": "1.5.0",
      "model_name": "HTMLModel",
      "state": {
       "_dom_classes": [],
       "_model_module": "@jupyter-widgets/controls",
       "_model_module_version": "1.5.0",
       "_model_name": "HTMLModel",
       "_view_count": null,
       "_view_module": "@jupyter-widgets/controls",
       "_view_module_version": "1.5.0",
       "_view_name": "HTMLView",
       "description": "",
       "description_tooltip": null,
       "layout": "IPY_MODEL_2909067d9998494393d3c4ca5770f4e9",
       "placeholder": "​",
       "style": "IPY_MODEL_bbeec186bf8045849810873c93a3b67e",
       "value": "Downloading: 100%"
      }
     },
     "a28060ff65bd4dd5aa1165934733183b": {
      "model_module": "@jupyter-widgets/controls",
      "model_module_version": "1.5.0",
      "model_name": "FloatProgressModel",
      "state": {
       "_dom_classes": [],
       "_model_module": "@jupyter-widgets/controls",
       "_model_module_version": "1.5.0",
       "_model_name": "FloatProgressModel",
       "_view_count": null,
       "_view_module": "@jupyter-widgets/controls",
       "_view_module_version": "1.5.0",
       "_view_name": "ProgressView",
       "bar_style": "success",
       "description": "",
       "description_tooltip": null,
       "layout": "IPY_MODEL_e304eba1b55b4412b216e2d3f857cbce",
       "max": 483,
       "min": 0,
       "orientation": "horizontal",
       "style": "IPY_MODEL_929ebfc280e64dad860591ad500c397c",
       "value": 483
      }
     },
     "abaf279a359b4b34a4cfcd551c1cf704": {
      "model_module": "@jupyter-widgets/controls",
      "model_module_version": "1.5.0",
      "model_name": "HTMLModel",
      "state": {
       "_dom_classes": [],
       "_model_module": "@jupyter-widgets/controls",
       "_model_module_version": "1.5.0",
       "_model_name": "HTMLModel",
       "_view_count": null,
       "_view_module": "@jupyter-widgets/controls",
       "_view_module_version": "1.5.0",
       "_view_name": "HTMLView",
       "description": "",
       "description_tooltip": null,
       "layout": "IPY_MODEL_5432b9ce5aaa406ea3612c86bedd02e8",
       "placeholder": "​",
       "style": "IPY_MODEL_739b6a49c79a4d759b4fcbe7e1f09aaf",
       "value": " 28.0/28.0 [00:00&lt;00:00, 990B/s]"
      }
     },
     "afa5d896a06146abafb446c88b7a70e2": {
      "model_module": "@jupyter-widgets/base",
      "model_module_version": "1.2.0",
      "model_name": "LayoutModel",
      "state": {
       "_model_module": "@jupyter-widgets/base",
       "_model_module_version": "1.2.0",
       "_model_name": "LayoutModel",
       "_view_count": null,
       "_view_module": "@jupyter-widgets/base",
       "_view_module_version": "1.2.0",
       "_view_name": "LayoutView",
       "align_content": null,
       "align_items": null,
       "align_self": null,
       "border": null,
       "bottom": null,
       "display": null,
       "flex": null,
       "flex_flow": null,
       "grid_area": null,
       "grid_auto_columns": null,
       "grid_auto_flow": null,
       "grid_auto_rows": null,
       "grid_column": null,
       "grid_gap": null,
       "grid_row": null,
       "grid_template_areas": null,
       "grid_template_columns": null,
       "grid_template_rows": null,
       "height": null,
       "justify_content": null,
       "justify_items": null,
       "left": null,
       "margin": null,
       "max_height": null,
       "max_width": null,
       "min_height": null,
       "min_width": null,
       "object_fit": null,
       "object_position": null,
       "order": null,
       "overflow": null,
       "overflow_x": null,
       "overflow_y": null,
       "padding": null,
       "right": null,
       "top": null,
       "visibility": null,
       "width": null
      }
     },
     "b0481fd1da424096a68e1fb8fa502cb9": {
      "model_module": "@jupyter-widgets/controls",
      "model_module_version": "1.5.0",
      "model_name": "ProgressStyleModel",
      "state": {
       "_model_module": "@jupyter-widgets/controls",
       "_model_module_version": "1.5.0",
       "_model_name": "ProgressStyleModel",
       "_view_count": null,
       "_view_module": "@jupyter-widgets/base",
       "_view_module_version": "1.2.0",
       "_view_name": "StyleView",
       "bar_color": null,
       "description_width": ""
      }
     },
     "b42d4f633c2b40c7a55c63bbe04ff427": {
      "model_module": "@jupyter-widgets/controls",
      "model_module_version": "1.5.0",
      "model_name": "DescriptionStyleModel",
      "state": {
       "_model_module": "@jupyter-widgets/controls",
       "_model_module_version": "1.5.0",
       "_model_name": "DescriptionStyleModel",
       "_view_count": null,
       "_view_module": "@jupyter-widgets/base",
       "_view_module_version": "1.2.0",
       "_view_name": "StyleView",
       "description_width": ""
      }
     },
     "b8882977e2104b2bbb86826208c040eb": {
      "model_module": "@jupyter-widgets/base",
      "model_module_version": "1.2.0",
      "model_name": "LayoutModel",
      "state": {
       "_model_module": "@jupyter-widgets/base",
       "_model_module_version": "1.2.0",
       "_model_name": "LayoutModel",
       "_view_count": null,
       "_view_module": "@jupyter-widgets/base",
       "_view_module_version": "1.2.0",
       "_view_name": "LayoutView",
       "align_content": null,
       "align_items": null,
       "align_self": null,
       "border": null,
       "bottom": null,
       "display": null,
       "flex": null,
       "flex_flow": null,
       "grid_area": null,
       "grid_auto_columns": null,
       "grid_auto_flow": null,
       "grid_auto_rows": null,
       "grid_column": null,
       "grid_gap": null,
       "grid_row": null,
       "grid_template_areas": null,
       "grid_template_columns": null,
       "grid_template_rows": null,
       "height": null,
       "justify_content": null,
       "justify_items": null,
       "left": null,
       "margin": null,
       "max_height": null,
       "max_width": null,
       "min_height": null,
       "min_width": null,
       "object_fit": null,
       "object_position": null,
       "order": null,
       "overflow": null,
       "overflow_x": null,
       "overflow_y": null,
       "padding": null,
       "right": null,
       "top": null,
       "visibility": null,
       "width": null
      }
     },
     "b8a392fc11d142338fa1e89c578da5fb": {
      "model_module": "@jupyter-widgets/base",
      "model_module_version": "1.2.0",
      "model_name": "LayoutModel",
      "state": {
       "_model_module": "@jupyter-widgets/base",
       "_model_module_version": "1.2.0",
       "_model_name": "LayoutModel",
       "_view_count": null,
       "_view_module": "@jupyter-widgets/base",
       "_view_module_version": "1.2.0",
       "_view_name": "LayoutView",
       "align_content": null,
       "align_items": null,
       "align_self": null,
       "border": null,
       "bottom": null,
       "display": null,
       "flex": null,
       "flex_flow": null,
       "grid_area": null,
       "grid_auto_columns": null,
       "grid_auto_flow": null,
       "grid_auto_rows": null,
       "grid_column": null,
       "grid_gap": null,
       "grid_row": null,
       "grid_template_areas": null,
       "grid_template_columns": null,
       "grid_template_rows": null,
       "height": null,
       "justify_content": null,
       "justify_items": null,
       "left": null,
       "margin": null,
       "max_height": null,
       "max_width": null,
       "min_height": null,
       "min_width": null,
       "object_fit": null,
       "object_position": null,
       "order": null,
       "overflow": null,
       "overflow_x": null,
       "overflow_y": null,
       "padding": null,
       "right": null,
       "top": null,
       "visibility": null,
       "width": null
      }
     },
     "baee1b50877a4e9e93999b305e668ecb": {
      "model_module": "@jupyter-widgets/controls",
      "model_module_version": "1.5.0",
      "model_name": "HTMLModel",
      "state": {
       "_dom_classes": [],
       "_model_module": "@jupyter-widgets/controls",
       "_model_module_version": "1.5.0",
       "_model_name": "HTMLModel",
       "_view_count": null,
       "_view_module": "@jupyter-widgets/controls",
       "_view_module_version": "1.5.0",
       "_view_name": "HTMLView",
       "description": "",
       "description_tooltip": null,
       "layout": "IPY_MODEL_99f718daa62748bcbac5f79cfef08bee",
       "placeholder": "​",
       "style": "IPY_MODEL_d249ee73441d43168d5d4b361cf7d1e4",
       "value": " 483/483 [00:00&lt;00:00, 17.1kB/s]"
      }
     },
     "bbeec186bf8045849810873c93a3b67e": {
      "model_module": "@jupyter-widgets/controls",
      "model_module_version": "1.5.0",
      "model_name": "DescriptionStyleModel",
      "state": {
       "_model_module": "@jupyter-widgets/controls",
       "_model_module_version": "1.5.0",
       "_model_name": "DescriptionStyleModel",
       "_view_count": null,
       "_view_module": "@jupyter-widgets/base",
       "_view_module_version": "1.2.0",
       "_view_name": "StyleView",
       "description_width": ""
      }
     },
     "be592dd1d89643718fa0a6641d03c31e": {
      "model_module": "@jupyter-widgets/controls",
      "model_module_version": "1.5.0",
      "model_name": "FloatProgressModel",
      "state": {
       "_dom_classes": [],
       "_model_module": "@jupyter-widgets/controls",
       "_model_module_version": "1.5.0",
       "_model_name": "FloatProgressModel",
       "_view_count": null,
       "_view_module": "@jupyter-widgets/controls",
       "_view_module_version": "1.5.0",
       "_view_name": "ProgressView",
       "bar_style": "success",
       "description": "",
       "description_tooltip": null,
       "layout": "IPY_MODEL_66c3eaa2f00d415b912c7000d67931fa",
       "max": 466062,
       "min": 0,
       "orientation": "horizontal",
       "style": "IPY_MODEL_371d53d158864433b9fed989156acd5c",
       "value": 466062
      }
     },
     "c48c4c21e19e4ed9a229692010a6619c": {
      "model_module": "@jupyter-widgets/controls",
      "model_module_version": "1.5.0",
      "model_name": "HBoxModel",
      "state": {
       "_dom_classes": [],
       "_model_module": "@jupyter-widgets/controls",
       "_model_module_version": "1.5.0",
       "_model_name": "HBoxModel",
       "_view_count": null,
       "_view_module": "@jupyter-widgets/controls",
       "_view_module_version": "1.5.0",
       "_view_name": "HBoxView",
       "box_style": "",
       "children": [
        "IPY_MODEL_5ca66dc48f6b4572a67a415815a89c93",
        "IPY_MODEL_eeb3c2df49414e08be42ff14087e757f",
        "IPY_MODEL_c4ee222b53f147e5aa05d9249d2e0417"
       ],
       "layout": "IPY_MODEL_b8a392fc11d142338fa1e89c578da5fb"
      }
     },
     "c4ee222b53f147e5aa05d9249d2e0417": {
      "model_module": "@jupyter-widgets/controls",
      "model_module_version": "1.5.0",
      "model_name": "HTMLModel",
      "state": {
       "_dom_classes": [],
       "_model_module": "@jupyter-widgets/controls",
       "_model_module_version": "1.5.0",
       "_model_name": "HTMLModel",
       "_view_count": null,
       "_view_module": "@jupyter-widgets/controls",
       "_view_module_version": "1.5.0",
       "_view_name": "HTMLView",
       "description": "",
       "description_tooltip": null,
       "layout": "IPY_MODEL_efba046ccc744f9fa3a80f607b14a347",
       "placeholder": "​",
       "style": "IPY_MODEL_3e6f451ddfba4099839a600875ce9bf2",
       "value": " 363M/363M [00:10&lt;00:00, 32.3MB/s]"
      }
     },
     "ce90ee3a81ec44ccba396fcd6e93e4ca": {
      "model_module": "@jupyter-widgets/controls",
      "model_module_version": "1.5.0",
      "model_name": "HBoxModel",
      "state": {
       "_dom_classes": [],
       "_model_module": "@jupyter-widgets/controls",
       "_model_module_version": "1.5.0",
       "_model_name": "HBoxModel",
       "_view_count": null,
       "_view_module": "@jupyter-widgets/controls",
       "_view_module_version": "1.5.0",
       "_view_name": "HBoxView",
       "box_style": "",
       "children": [
        "IPY_MODEL_74782621dfbf4fd390450b229a92764a",
        "IPY_MODEL_a28060ff65bd4dd5aa1165934733183b",
        "IPY_MODEL_baee1b50877a4e9e93999b305e668ecb"
       ],
       "layout": "IPY_MODEL_afa5d896a06146abafb446c88b7a70e2"
      }
     },
     "cfaec19854bd460cb7ba94a7a2486b14": {
      "model_module": "@jupyter-widgets/controls",
      "model_module_version": "1.5.0",
      "model_name": "FloatProgressModel",
      "state": {
       "_dom_classes": [],
       "_model_module": "@jupyter-widgets/controls",
       "_model_module_version": "1.5.0",
       "_model_name": "FloatProgressModel",
       "_view_count": null,
       "_view_module": "@jupyter-widgets/controls",
       "_view_module_version": "1.5.0",
       "_view_name": "ProgressView",
       "bar_style": "success",
       "description": "",
       "description_tooltip": null,
       "layout": "IPY_MODEL_7b5dd7c4c3314eb4a2e151e7faa20346",
       "max": 231508,
       "min": 0,
       "orientation": "horizontal",
       "style": "IPY_MODEL_b0481fd1da424096a68e1fb8fa502cb9",
       "value": 231508
      }
     },
     "d249ee73441d43168d5d4b361cf7d1e4": {
      "model_module": "@jupyter-widgets/controls",
      "model_module_version": "1.5.0",
      "model_name": "DescriptionStyleModel",
      "state": {
       "_model_module": "@jupyter-widgets/controls",
       "_model_module_version": "1.5.0",
       "_model_name": "DescriptionStyleModel",
       "_view_count": null,
       "_view_module": "@jupyter-widgets/base",
       "_view_module_version": "1.2.0",
       "_view_name": "StyleView",
       "description_width": ""
      }
     },
     "d5d59f58a791455fac32cf0490cecddb": {
      "model_module": "@jupyter-widgets/base",
      "model_module_version": "1.2.0",
      "model_name": "LayoutModel",
      "state": {
       "_model_module": "@jupyter-widgets/base",
       "_model_module_version": "1.2.0",
       "_model_name": "LayoutModel",
       "_view_count": null,
       "_view_module": "@jupyter-widgets/base",
       "_view_module_version": "1.2.0",
       "_view_name": "LayoutView",
       "align_content": null,
       "align_items": null,
       "align_self": null,
       "border": null,
       "bottom": null,
       "display": null,
       "flex": null,
       "flex_flow": null,
       "grid_area": null,
       "grid_auto_columns": null,
       "grid_auto_flow": null,
       "grid_auto_rows": null,
       "grid_column": null,
       "grid_gap": null,
       "grid_row": null,
       "grid_template_areas": null,
       "grid_template_columns": null,
       "grid_template_rows": null,
       "height": null,
       "justify_content": null,
       "justify_items": null,
       "left": null,
       "margin": null,
       "max_height": null,
       "max_width": null,
       "min_height": null,
       "min_width": null,
       "object_fit": null,
       "object_position": null,
       "order": null,
       "overflow": null,
       "overflow_x": null,
       "overflow_y": null,
       "padding": null,
       "right": null,
       "top": null,
       "visibility": null,
       "width": null
      }
     },
     "dd57970f0f4946f884f1087262abacb3": {
      "model_module": "@jupyter-widgets/base",
      "model_module_version": "1.2.0",
      "model_name": "LayoutModel",
      "state": {
       "_model_module": "@jupyter-widgets/base",
       "_model_module_version": "1.2.0",
       "_model_name": "LayoutModel",
       "_view_count": null,
       "_view_module": "@jupyter-widgets/base",
       "_view_module_version": "1.2.0",
       "_view_name": "LayoutView",
       "align_content": null,
       "align_items": null,
       "align_self": null,
       "border": null,
       "bottom": null,
       "display": null,
       "flex": null,
       "flex_flow": null,
       "grid_area": null,
       "grid_auto_columns": null,
       "grid_auto_flow": null,
       "grid_auto_rows": null,
       "grid_column": null,
       "grid_gap": null,
       "grid_row": null,
       "grid_template_areas": null,
       "grid_template_columns": null,
       "grid_template_rows": null,
       "height": null,
       "justify_content": null,
       "justify_items": null,
       "left": null,
       "margin": null,
       "max_height": null,
       "max_width": null,
       "min_height": null,
       "min_width": null,
       "object_fit": null,
       "object_position": null,
       "order": null,
       "overflow": null,
       "overflow_x": null,
       "overflow_y": null,
       "padding": null,
       "right": null,
       "top": null,
       "visibility": null,
       "width": null
      }
     },
     "e304eba1b55b4412b216e2d3f857cbce": {
      "model_module": "@jupyter-widgets/base",
      "model_module_version": "1.2.0",
      "model_name": "LayoutModel",
      "state": {
       "_model_module": "@jupyter-widgets/base",
       "_model_module_version": "1.2.0",
       "_model_name": "LayoutModel",
       "_view_count": null,
       "_view_module": "@jupyter-widgets/base",
       "_view_module_version": "1.2.0",
       "_view_name": "LayoutView",
       "align_content": null,
       "align_items": null,
       "align_self": null,
       "border": null,
       "bottom": null,
       "display": null,
       "flex": null,
       "flex_flow": null,
       "grid_area": null,
       "grid_auto_columns": null,
       "grid_auto_flow": null,
       "grid_auto_rows": null,
       "grid_column": null,
       "grid_gap": null,
       "grid_row": null,
       "grid_template_areas": null,
       "grid_template_columns": null,
       "grid_template_rows": null,
       "height": null,
       "justify_content": null,
       "justify_items": null,
       "left": null,
       "margin": null,
       "max_height": null,
       "max_width": null,
       "min_height": null,
       "min_width": null,
       "object_fit": null,
       "object_position": null,
       "order": null,
       "overflow": null,
       "overflow_x": null,
       "overflow_y": null,
       "padding": null,
       "right": null,
       "top": null,
       "visibility": null,
       "width": null
      }
     },
     "e4bd6377a0ad4b479867e356158bbdb6": {
      "model_module": "@jupyter-widgets/controls",
      "model_module_version": "1.5.0",
      "model_name": "DescriptionStyleModel",
      "state": {
       "_model_module": "@jupyter-widgets/controls",
       "_model_module_version": "1.5.0",
       "_model_name": "DescriptionStyleModel",
       "_view_count": null,
       "_view_module": "@jupyter-widgets/base",
       "_view_module_version": "1.2.0",
       "_view_name": "StyleView",
       "description_width": ""
      }
     },
     "ebb84cce9a894ac2897f18dd136a31fa": {
      "model_module": "@jupyter-widgets/controls",
      "model_module_version": "1.5.0",
      "model_name": "DescriptionStyleModel",
      "state": {
       "_model_module": "@jupyter-widgets/controls",
       "_model_module_version": "1.5.0",
       "_model_name": "DescriptionStyleModel",
       "_view_count": null,
       "_view_module": "@jupyter-widgets/base",
       "_view_module_version": "1.2.0",
       "_view_name": "StyleView",
       "description_width": ""
      }
     },
     "ed98bb4d0bc24d5790427d7e6d6eae80": {
      "model_module": "@jupyter-widgets/controls",
      "model_module_version": "1.5.0",
      "model_name": "HBoxModel",
      "state": {
       "_dom_classes": [],
       "_model_module": "@jupyter-widgets/controls",
       "_model_module_version": "1.5.0",
       "_model_name": "HBoxModel",
       "_view_count": null,
       "_view_module": "@jupyter-widgets/controls",
       "_view_module_version": "1.5.0",
       "_view_name": "HBoxView",
       "box_style": "",
       "children": [
        "IPY_MODEL_269973eb62034414af319f85b8a9cbe6",
        "IPY_MODEL_809e898e843c4613b4d053d8b85430af",
        "IPY_MODEL_abaf279a359b4b34a4cfcd551c1cf704"
       ],
       "layout": "IPY_MODEL_472831bde5154408b3ae649f4eceeac5"
      }
     },
     "edc62f0ba46f4938b727dc971a5f833e": {
      "model_module": "@jupyter-widgets/controls",
      "model_module_version": "1.5.0",
      "model_name": "HBoxModel",
      "state": {
       "_dom_classes": [],
       "_model_module": "@jupyter-widgets/controls",
       "_model_module_version": "1.5.0",
       "_model_name": "HBoxModel",
       "_view_count": null,
       "_view_module": "@jupyter-widgets/controls",
       "_view_module_version": "1.5.0",
       "_view_name": "HBoxView",
       "box_style": "",
       "children": [
        "IPY_MODEL_176c30f524014a558aef296f4497a92e",
        "IPY_MODEL_be592dd1d89643718fa0a6641d03c31e",
        "IPY_MODEL_3aa1ec9055f74b89a35cdf213cab5239"
       ],
       "layout": "IPY_MODEL_6b5359dfd16246da9042aef9165910ae"
      }
     },
     "eeb3c2df49414e08be42ff14087e757f": {
      "model_module": "@jupyter-widgets/controls",
      "model_module_version": "1.5.0",
      "model_name": "FloatProgressModel",
      "state": {
       "_dom_classes": [],
       "_model_module": "@jupyter-widgets/controls",
       "_model_module_version": "1.5.0",
       "_model_name": "FloatProgressModel",
       "_view_count": null,
       "_view_module": "@jupyter-widgets/controls",
       "_view_module_version": "1.5.0",
       "_view_name": "ProgressView",
       "bar_style": "success",
       "description": "",
       "description_tooltip": null,
       "layout": "IPY_MODEL_4f734a33e23d4884911fc5dbc8748715",
       "max": 363423424,
       "min": 0,
       "orientation": "horizontal",
       "style": "IPY_MODEL_7be5d611340340beba749ac4e1c11134",
       "value": 363423424
      }
     },
     "efba046ccc744f9fa3a80f607b14a347": {
      "model_module": "@jupyter-widgets/base",
      "model_module_version": "1.2.0",
      "model_name": "LayoutModel",
      "state": {
       "_model_module": "@jupyter-widgets/base",
       "_model_module_version": "1.2.0",
       "_model_name": "LayoutModel",
       "_view_count": null,
       "_view_module": "@jupyter-widgets/base",
       "_view_module_version": "1.2.0",
       "_view_name": "LayoutView",
       "align_content": null,
       "align_items": null,
       "align_self": null,
       "border": null,
       "bottom": null,
       "display": null,
       "flex": null,
       "flex_flow": null,
       "grid_area": null,
       "grid_auto_columns": null,
       "grid_auto_flow": null,
       "grid_auto_rows": null,
       "grid_column": null,
       "grid_gap": null,
       "grid_row": null,
       "grid_template_areas": null,
       "grid_template_columns": null,
       "grid_template_rows": null,
       "height": null,
       "justify_content": null,
       "justify_items": null,
       "left": null,
       "margin": null,
       "max_height": null,
       "max_width": null,
       "min_height": null,
       "min_width": null,
       "object_fit": null,
       "object_position": null,
       "order": null,
       "overflow": null,
       "overflow_x": null,
       "overflow_y": null,
       "padding": null,
       "right": null,
       "top": null,
       "visibility": null,
       "width": null
      }
     }
    },
    "version_major": 2,
    "version_minor": 0
   }
  }
 },
 "nbformat": 4,
 "nbformat_minor": 5
}
