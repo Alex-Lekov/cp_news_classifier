{
 "cells": [
  {
   "cell_type": "markdown",
   "metadata": {},
   "source": [
    "# Exploratory data analysis"
   ]
  },
  {
   "cell_type": "markdown",
   "metadata": {},
   "source": [
    "## Import"
   ]
  },
  {
   "cell_type": "code",
   "execution_count": 3,
   "metadata": {},
   "outputs": [],
   "source": [
    "import numpy as np \n",
    "import pandas as pd \n",
    "import json\n",
    "\n",
    "from tqdm import tqdm\n",
    "\n",
    "from sklearn.model_selection import train_test_split\n",
    "from sklearn.metrics import classification_report, multilabel_confusion_matrix, roc_auc_score, accuracy_score, f1_score\n",
    "from sklearn.metrics import average_precision_score, precision_score\n",
    "\n",
    "# import and instantiate TfidfVectorizer\n",
    "from sklearn.feature_extraction.text import CountVectorizer\n",
    "from sklearn.feature_extraction.text import TfidfVectorizer\n",
    "\n",
    "# import and instantiate the Logistic Regression model\n",
    "from sklearn.linear_model import LogisticRegression\n",
    "\n",
    "import seaborn as sns\n",
    "from pylab import rcParams\n",
    "import matplotlib.pyplot as plt\n",
    "from matplotlib import rc\n",
    "\n",
    "%matplotlib inline\n",
    "%config InlineBackend.figure_format='retina'"
   ]
  },
  {
   "cell_type": "code",
   "execution_count": 4,
   "metadata": {},
   "outputs": [],
   "source": [
    "sns.set(style='whitegrid', palette='muted', font_scale=1.2)\n",
    "HAPPY_COLORS_PALETTE = [\"#01BEFE\", \"#FFDD00\", \"#FF7D00\", \"#FF006D\", \"#ADFF02\", \"#8F00FF\"]\n",
    "sns.set_palette(sns.color_palette(HAPPY_COLORS_PALETTE))\n",
    "rcParams['figure.figsize'] = 12, 8"
   ]
  },
  {
   "cell_type": "code",
   "execution_count": 5,
   "metadata": {},
   "outputs": [],
   "source": [
    "RANDOM_SEED = 42"
   ]
  },
  {
   "cell_type": "markdown",
   "metadata": {},
   "source": [
    "## Data"
   ]
  },
  {
   "cell_type": "code",
   "execution_count": 6,
   "metadata": {},
   "outputs": [
    {
     "data": {
      "text/html": [
       "<div>\n",
       "<style scoped>\n",
       "    .dataframe tbody tr th:only-of-type {\n",
       "        vertical-align: middle;\n",
       "    }\n",
       "\n",
       "    .dataframe tbody tr th {\n",
       "        vertical-align: top;\n",
       "    }\n",
       "\n",
       "    .dataframe thead th {\n",
       "        text-align: right;\n",
       "    }\n",
       "</style>\n",
       "<table border=\"1\" class=\"dataframe\">\n",
       "  <thead>\n",
       "    <tr style=\"text-align: right;\">\n",
       "      <th></th>\n",
       "      <th>text</th>\n",
       "      <th>release_points</th>\n",
       "      <th>technical_update_points</th>\n",
       "      <th>partnership_points</th>\n",
       "      <th>listing_points</th>\n",
       "      <th>security_points</th>\n",
       "      <th>from_the_project</th>\n",
       "      <th>not_from_the_project</th>\n",
       "      <th>staking</th>\n",
       "    </tr>\n",
       "  </thead>\n",
       "  <tbody>\n",
       "    <tr>\n",
       "      <th>0</th>\n",
       "      <td>We'd like to remind everyone that our $BONDLY ...</td>\n",
       "      <td>0</td>\n",
       "      <td>29</td>\n",
       "      <td>0</td>\n",
       "      <td>0</td>\n",
       "      <td>100</td>\n",
       "      <td>100</td>\n",
       "      <td>0</td>\n",
       "      <td>0</td>\n",
       "    </tr>\n",
       "    <tr>\n",
       "      <th>1</th>\n",
       "      <td>I’d like to share the recently completed smart...</td>\n",
       "      <td>0</td>\n",
       "      <td>0</td>\n",
       "      <td>0</td>\n",
       "      <td>0</td>\n",
       "      <td>100</td>\n",
       "      <td>0</td>\n",
       "      <td>0</td>\n",
       "      <td>0</td>\n",
       "    </tr>\n",
       "    <tr>\n",
       "      <th>2</th>\n",
       "      <td>@LuckyBartlett We'll be releasing details soon...</td>\n",
       "      <td>0</td>\n",
       "      <td>100</td>\n",
       "      <td>0</td>\n",
       "      <td>0</td>\n",
       "      <td>0</td>\n",
       "      <td>0</td>\n",
       "      <td>0</td>\n",
       "      <td>2</td>\n",
       "    </tr>\n",
       "    <tr>\n",
       "      <th>3</th>\n",
       "      <td>Today we're taking the time to acknowledge our...</td>\n",
       "      <td>100</td>\n",
       "      <td>100</td>\n",
       "      <td>0</td>\n",
       "      <td>0</td>\n",
       "      <td>100</td>\n",
       "      <td>0</td>\n",
       "      <td>0</td>\n",
       "      <td>0</td>\n",
       "    </tr>\n",
       "    <tr>\n",
       "      <th>4</th>\n",
       "      <td>Business continuity has been a huge focus in o...</td>\n",
       "      <td>79</td>\n",
       "      <td>41</td>\n",
       "      <td>54</td>\n",
       "      <td>0</td>\n",
       "      <td>75</td>\n",
       "      <td>0</td>\n",
       "      <td>51</td>\n",
       "      <td>0</td>\n",
       "    </tr>\n",
       "  </tbody>\n",
       "</table>\n",
       "</div>"
      ],
      "text/plain": [
       "                                                text  release_points  \\\n",
       "0  We'd like to remind everyone that our $BONDLY ...               0   \n",
       "1  I’d like to share the recently completed smart...               0   \n",
       "2  @LuckyBartlett We'll be releasing details soon...               0   \n",
       "3  Today we're taking the time to acknowledge our...             100   \n",
       "4  Business continuity has been a huge focus in o...              79   \n",
       "\n",
       "   technical_update_points  partnership_points  listing_points  \\\n",
       "0                       29                   0               0   \n",
       "1                        0                   0               0   \n",
       "2                      100                   0               0   \n",
       "3                      100                   0               0   \n",
       "4                       41                  54               0   \n",
       "\n",
       "   security_points  from_the_project  not_from_the_project  staking  \n",
       "0              100               100                     0        0  \n",
       "1              100                 0                     0        0  \n",
       "2                0                 0                     0        2  \n",
       "3              100                 0                     0        0  \n",
       "4               75                 0                    51        0  "
      ]
     },
     "execution_count": 6,
     "metadata": {},
     "output_type": "execute_result"
    }
   ],
   "source": [
    "data = pd.read_json('../data/tickers_public_news.json')\n",
    "data.head()"
   ]
  },
  {
   "cell_type": "code",
   "execution_count": 7,
   "metadata": {},
   "outputs": [
    {
     "name": "stdout",
     "output_type": "stream",
     "text": [
      "<class 'pandas.core.frame.DataFrame'>\n",
      "RangeIndex: 1212 entries, 0 to 1211\n",
      "Data columns (total 9 columns):\n",
      " #   Column                   Non-Null Count  Dtype \n",
      "---  ------                   --------------  ----- \n",
      " 0   text                     1212 non-null   object\n",
      " 1   release_points           1212 non-null   int64 \n",
      " 2   technical_update_points  1212 non-null   int64 \n",
      " 3   partnership_points       1212 non-null   int64 \n",
      " 4   listing_points           1212 non-null   int64 \n",
      " 5   security_points          1212 non-null   int64 \n",
      " 6   from_the_project         1212 non-null   int64 \n",
      " 7   not_from_the_project     1212 non-null   int64 \n",
      " 8   staking                  1212 non-null   int64 \n",
      "dtypes: int64(8), object(1)\n",
      "memory usage: 85.3+ KB\n"
     ]
    }
   ],
   "source": [
    "data.info()"
   ]
  },
  {
   "cell_type": "markdown",
   "metadata": {},
   "source": [
    "Переведем таргеты в бинарное значение(1,0)"
   ]
  },
  {
   "cell_type": "code",
   "execution_count": 8,
   "metadata": {},
   "outputs": [],
   "source": [
    "LABEL_COLUMNS = data.columns.tolist()[1:]\n",
    "for target in LABEL_COLUMNS:\n",
    "    data[target] = data[target] > 0\n",
    "    data[target] = data[target].astype(int)"
   ]
  },
  {
   "cell_type": "code",
   "execution_count": 9,
   "metadata": {},
   "outputs": [
    {
     "data": {
      "text/html": [
       "<div>\n",
       "<style scoped>\n",
       "    .dataframe tbody tr th:only-of-type {\n",
       "        vertical-align: middle;\n",
       "    }\n",
       "\n",
       "    .dataframe tbody tr th {\n",
       "        vertical-align: top;\n",
       "    }\n",
       "\n",
       "    .dataframe thead th {\n",
       "        text-align: right;\n",
       "    }\n",
       "</style>\n",
       "<table border=\"1\" class=\"dataframe\">\n",
       "  <thead>\n",
       "    <tr style=\"text-align: right;\">\n",
       "      <th></th>\n",
       "      <th>release_points</th>\n",
       "      <th>technical_update_points</th>\n",
       "      <th>partnership_points</th>\n",
       "      <th>listing_points</th>\n",
       "      <th>security_points</th>\n",
       "      <th>from_the_project</th>\n",
       "      <th>not_from_the_project</th>\n",
       "      <th>staking</th>\n",
       "    </tr>\n",
       "  </thead>\n",
       "  <tbody>\n",
       "    <tr>\n",
       "      <th>0</th>\n",
       "      <td>0</td>\n",
       "      <td>1</td>\n",
       "      <td>0</td>\n",
       "      <td>0</td>\n",
       "      <td>1</td>\n",
       "      <td>1</td>\n",
       "      <td>0</td>\n",
       "      <td>0</td>\n",
       "    </tr>\n",
       "    <tr>\n",
       "      <th>1</th>\n",
       "      <td>0</td>\n",
       "      <td>0</td>\n",
       "      <td>0</td>\n",
       "      <td>0</td>\n",
       "      <td>1</td>\n",
       "      <td>0</td>\n",
       "      <td>0</td>\n",
       "      <td>0</td>\n",
       "    </tr>\n",
       "    <tr>\n",
       "      <th>2</th>\n",
       "      <td>0</td>\n",
       "      <td>1</td>\n",
       "      <td>0</td>\n",
       "      <td>0</td>\n",
       "      <td>0</td>\n",
       "      <td>0</td>\n",
       "      <td>0</td>\n",
       "      <td>1</td>\n",
       "    </tr>\n",
       "    <tr>\n",
       "      <th>3</th>\n",
       "      <td>1</td>\n",
       "      <td>1</td>\n",
       "      <td>0</td>\n",
       "      <td>0</td>\n",
       "      <td>1</td>\n",
       "      <td>0</td>\n",
       "      <td>0</td>\n",
       "      <td>0</td>\n",
       "    </tr>\n",
       "    <tr>\n",
       "      <th>4</th>\n",
       "      <td>1</td>\n",
       "      <td>1</td>\n",
       "      <td>1</td>\n",
       "      <td>0</td>\n",
       "      <td>1</td>\n",
       "      <td>0</td>\n",
       "      <td>1</td>\n",
       "      <td>0</td>\n",
       "    </tr>\n",
       "  </tbody>\n",
       "</table>\n",
       "</div>"
      ],
      "text/plain": [
       "   release_points  technical_update_points  partnership_points  \\\n",
       "0               0                        1                   0   \n",
       "1               0                        0                   0   \n",
       "2               0                        1                   0   \n",
       "3               1                        1                   0   \n",
       "4               1                        1                   1   \n",
       "\n",
       "   listing_points  security_points  from_the_project  not_from_the_project  \\\n",
       "0               0                1                 1                     0   \n",
       "1               0                1                 0                     0   \n",
       "2               0                0                 0                     0   \n",
       "3               0                1                 0                     0   \n",
       "4               0                1                 0                     1   \n",
       "\n",
       "   staking  \n",
       "0        0  \n",
       "1        0  \n",
       "2        1  \n",
       "3        0  \n",
       "4        0  "
      ]
     },
     "execution_count": 9,
     "metadata": {},
     "output_type": "execute_result"
    }
   ],
   "source": [
    "data[LABEL_COLUMNS].head()"
   ]
  },
  {
   "cell_type": "code",
   "execution_count": 10,
   "metadata": {},
   "outputs": [
    {
     "data": {
      "text/plain": [
       "1212"
      ]
     },
     "execution_count": 10,
     "metadata": {},
     "output_type": "execute_result"
    }
   ],
   "source": [
    "len(data)"
   ]
  },
  {
   "cell_type": "code",
   "execution_count": 11,
   "metadata": {},
   "outputs": [
    {
     "data": {
      "text/plain": [
       "release_points              87\n",
       "technical_update_points     56\n",
       "partnership_points          65\n",
       "listing_points              58\n",
       "security_points             37\n",
       "from_the_project           127\n",
       "not_from_the_project        84\n",
       "staking                     46\n",
       "dtype: int64"
      ]
     },
     "execution_count": 11,
     "metadata": {},
     "output_type": "execute_result"
    }
   ],
   "source": [
    "data[LABEL_COLUMNS].sum()"
   ]
  },
  {
   "cell_type": "code",
   "execution_count": 12,
   "metadata": {},
   "outputs": [
    {
     "data": {
      "text/plain": [
       "Text(0.5, 1.0, '# of label for each instance.')"
      ]
     },
     "execution_count": 12,
     "metadata": {},
     "output_type": "execute_result"
    },
    {
     "data": {
      "image/png": "[encoded data removed]",
      "text/plain": [
       "<Figure size 864x576 with 1 Axes>"
      ]
     },
     "metadata": {
      "image/png": {
       "height": 488,
       "width": 853
      }
     },
     "output_type": "display_data"
    }
   ],
   "source": [
    "data[LABEL_COLUMNS].sum().sort_values().plot(kind=\"barh\")\n",
    "plt.title(f\"# of label for each instance.\")"
   ]
  },
  {
   "cell_type": "code",
   "execution_count": 13,
   "metadata": {},
   "outputs": [],
   "source": [
    "data.to_csv('data.csv', index=False)"
   ]
  },
  {
   "cell_type": "code",
   "execution_count": 14,
   "metadata": {},
   "outputs": [
    {
     "data": {
      "text/plain": [
       "((969, 9), (243, 9))"
      ]
     },
     "execution_count": 14,
     "metadata": {},
     "output_type": "execute_result"
    }
   ],
   "source": [
    "train_df, test_df = train_test_split(data, test_size=0.2, random_state=RANDOM_SEED)\n",
    "train_df.shape, test_df.shape"
   ]
  },
  {
   "cell_type": "markdown",
   "metadata": {},
   "source": [
    "# Baseline"
   ]
  },
  {
   "cell_type": "code",
   "execution_count": 15,
   "metadata": {},
   "outputs": [],
   "source": [
    "benchmark = pd.DataFrame()"
   ]
  },
  {
   "cell_type": "markdown",
   "metadata": {},
   "source": [
    "## Random Model\n",
    "random predict"
   ]
  },
  {
   "cell_type": "code",
   "execution_count": 16,
   "metadata": {},
   "outputs": [],
   "source": [
    "random_score = {}\n",
    "\n",
    "for label in LABEL_COLUMNS:\n",
    "    y_test = test_df[label].copy()\n",
    "    predict_proba_test_X = np.random.random_sample(size=len(y_test))\n",
    "    pred_test_X = predict_proba_test_X > 0.5\n",
    "\n",
    "    random_score[label] = {}\n",
    "    random_score[label]['accuracy'] = round(accuracy_score(y_test, pred_test_X),4)\n",
    "    random_score[label]['precision'] = round(precision_score(y_test, pred_test_X),4)\n",
    "    random_score[label]['average_precision'] = round(average_precision_score(y_test, predict_proba_test_X),4)\n",
    "    random_score[label]['F1'] = round(f1_score(y_test, pred_test_X),4)\n",
    "    random_score[label]['AUC'] = round(roc_auc_score(y_test, predict_proba_test_X),4)"
   ]
  },
  {
   "cell_type": "code",
   "execution_count": 17,
   "metadata": {},
   "outputs": [
    {
     "data": {
      "text/html": [
       "<div>\n",
       "<style scoped>\n",
       "    .dataframe tbody tr th:only-of-type {\n",
       "        vertical-align: middle;\n",
       "    }\n",
       "\n",
       "    .dataframe tbody tr th {\n",
       "        vertical-align: top;\n",
       "    }\n",
       "\n",
       "    .dataframe thead th {\n",
       "        text-align: right;\n",
       "    }\n",
       "</style>\n",
       "<table border=\"1\" class=\"dataframe\">\n",
       "  <thead>\n",
       "    <tr style=\"text-align: right;\">\n",
       "      <th></th>\n",
       "      <th>Random</th>\n",
       "    </tr>\n",
       "  </thead>\n",
       "  <tbody>\n",
       "    <tr>\n",
       "      <th>accuracy</th>\n",
       "      <td>0.5046</td>\n",
       "    </tr>\n",
       "    <tr>\n",
       "      <th>precision</th>\n",
       "      <td>0.0673</td>\n",
       "    </tr>\n",
       "    <tr>\n",
       "      <th>average_precision</th>\n",
       "      <td>0.0864</td>\n",
       "    </tr>\n",
       "    <tr>\n",
       "      <th>F1</th>\n",
       "      <td>0.1174</td>\n",
       "    </tr>\n",
       "    <tr>\n",
       "      <th>AUC</th>\n",
       "      <td>0.5281</td>\n",
       "    </tr>\n",
       "  </tbody>\n",
       "</table>\n",
       "</div>"
      ],
      "text/plain": [
       "                   Random\n",
       "accuracy           0.5046\n",
       "precision          0.0673\n",
       "average_precision  0.0864\n",
       "F1                 0.1174\n",
       "AUC                0.5281"
      ]
     },
     "execution_count": 17,
     "metadata": {},
     "output_type": "execute_result"
    }
   ],
   "source": [
    "benchmark['Random'] = pd.DataFrame(random_score).T.mean().round(4)\n",
    "benchmark"
   ]
  },
  {
   "cell_type": "markdown",
   "metadata": {},
   "source": [
    "## LogisticRegression + TfidfVectorizer"
   ]
  },
  {
   "cell_type": "code",
   "execution_count": 18,
   "metadata": {},
   "outputs": [],
   "source": [
    "import re\n",
    "def clean_text(text):\n",
    "    text = text.lower()\n",
    "    text = re.sub('\\W', ' ', text)\n",
    "    text = re.sub('\\s+', ' ', text)\n",
    "    text = text.strip(' ')\n",
    "    return text"
   ]
  },
  {
   "cell_type": "code",
   "execution_count": 19,
   "metadata": {},
   "outputs": [],
   "source": [
    "train_df['text'] = train_df['text'].map(lambda com : clean_text(com))\n",
    "test_df['text'] = test_df['text'].map(lambda com : clean_text(com))"
   ]
  },
  {
   "cell_type": "code",
   "execution_count": 20,
   "metadata": {},
   "outputs": [
    {
     "name": "stdout",
     "output_type": "stream",
     "text": [
      "(969,) (243,)\n"
     ]
    }
   ],
   "source": [
    "X = train_df.text\n",
    "test_X = test_df.text\n",
    "print(X.shape, test_X.shape)"
   ]
  },
  {
   "cell_type": "code",
   "execution_count": 21,
   "metadata": {},
   "outputs": [],
   "source": [
    "vect = TfidfVectorizer(max_features=5000, stop_words='english')"
   ]
  },
  {
   "cell_type": "code",
   "execution_count": 22,
   "metadata": {},
   "outputs": [
    {
     "data": {
      "text/plain": [
       "<969x3513 sparse matrix of type '<class 'numpy.float64'>'\n",
       "\twith 9653 stored elements in Compressed Sparse Row format>"
      ]
     },
     "execution_count": 22,
     "metadata": {},
     "output_type": "execute_result"
    }
   ],
   "source": [
    "# learn the vocabulary in the training data, then use it to create a document-term matrix\n",
    "X_dtm = vect.fit_transform(X)\n",
    "# examine the document-term matrix created from X_train\n",
    "X_dtm"
   ]
  },
  {
   "cell_type": "code",
   "execution_count": 23,
   "metadata": {},
   "outputs": [
    {
     "data": {
      "text/plain": [
       "<243x3513 sparse matrix of type '<class 'numpy.float64'>'\n",
       "\twith 1786 stored elements in Compressed Sparse Row format>"
      ]
     },
     "execution_count": 23,
     "metadata": {},
     "output_type": "execute_result"
    }
   ],
   "source": [
    "# transform the test data using the earlier fitted vocabulary, into a document-term matrix\n",
    "test_X_dtm = vect.transform(test_X)\n",
    "# examine the document-term matrix from X_test\n",
    "test_X_dtm"
   ]
  },
  {
   "cell_type": "code",
   "execution_count": 24,
   "metadata": {},
   "outputs": [
    {
     "name": "stderr",
     "output_type": "stream",
     "text": [
      "/root/anaconda3/envs/kattana_p38/lib/python3.8/site-packages/sklearn/metrics/_classification.py:1318: UndefinedMetricWarning: Precision is ill-defined and being set to 0.0 due to no predicted samples. Use `zero_division` parameter to control this behavior.\n",
      "  _warn_prf(average, modifier, msg_start, len(result))\n",
      "/root/anaconda3/envs/kattana_p38/lib/python3.8/site-packages/sklearn/metrics/_classification.py:1318: UndefinedMetricWarning: Precision is ill-defined and being set to 0.0 due to no predicted samples. Use `zero_division` parameter to control this behavior.\n",
      "  _warn_prf(average, modifier, msg_start, len(result))\n"
     ]
    }
   ],
   "source": [
    "# create submission file\n",
    "#submission_binary = pd.read_csv('../input/sample_submission.csv')\n",
    "submission_binary = test_df[LABEL_COLUMNS].copy()\n",
    "score = {}\n",
    "\n",
    "for label in LABEL_COLUMNS:\n",
    "    logreg = LogisticRegression(C=15.0)\n",
    "    #print('####### Processing {} ##########'.format(label))\n",
    "    y = train_df[label].copy()\n",
    "    y_test = test_df[label].copy()\n",
    "    # train the model using X_dtm & y\n",
    "    logreg.fit(X_dtm, y)\n",
    "    # compute the training accuracy\n",
    "    #y_pred_X = logreg.predict(X_dtm)\n",
    "    #print('Training accuracy is {}'.format(accuracy_score(y, y_pred_X)))\n",
    "    # compute the predicted probabilities for X_test_dtm\n",
    "    predict_proba_test_X = logreg.predict_proba(test_X_dtm)[:,1]\n",
    "    pred_test_X = logreg.predict(test_X_dtm)\n",
    "\n",
    "    score[label] = {}\n",
    "    score[label]['accuracy'] = round(accuracy_score(y_test, pred_test_X),4)\n",
    "    score[label]['precision'] = round(precision_score(y_test, pred_test_X),4)\n",
    "    score[label]['average_precision'] = round(average_precision_score(y_test, predict_proba_test_X),4)\n",
    "    score[label]['F1'] = round(f1_score(y_test, pred_test_X),4)\n",
    "    score[label]['AUC'] = round(roc_auc_score(y_test, predict_proba_test_X),4)\n",
    "\n",
    "    # print('accuracy: {}'.format(round(accuracy_score(y_test, pred_test_X),4)))\n",
    "    # print('precision: {}'.format(round(precision_score(y_test, pred_test_X),4)))\n",
    "    # print('average_precision: {}'.format(round(average_precision_score(y_test, pred_test_X),4)))\n",
    "    # print('F1: {}'.format(round(f1_score(y_test, pred_test_X),4)))\n",
    "    # print('AUC: {}'.format(round(roc_auc_score(y_test, predict_proba_test_X),4)))\n",
    "\n",
    "    submission_binary[label] = predict_proba_test_X"
   ]
  },
  {
   "cell_type": "code",
   "execution_count": 25,
   "metadata": {},
   "outputs": [
    {
     "data": {
      "text/html": [
       "<div>\n",
       "<style scoped>\n",
       "    .dataframe tbody tr th:only-of-type {\n",
       "        vertical-align: middle;\n",
       "    }\n",
       "\n",
       "    .dataframe tbody tr th {\n",
       "        vertical-align: top;\n",
       "    }\n",
       "\n",
       "    .dataframe thead th {\n",
       "        text-align: right;\n",
       "    }\n",
       "</style>\n",
       "<table border=\"1\" class=\"dataframe\">\n",
       "  <thead>\n",
       "    <tr style=\"text-align: right;\">\n",
       "      <th></th>\n",
       "      <th>accuracy</th>\n",
       "      <th>precision</th>\n",
       "      <th>average_precision</th>\n",
       "      <th>F1</th>\n",
       "      <th>AUC</th>\n",
       "    </tr>\n",
       "  </thead>\n",
       "  <tbody>\n",
       "    <tr>\n",
       "      <th>release_points</th>\n",
       "      <td>0.9465</td>\n",
       "      <td>1.0000</td>\n",
       "      <td>0.3320</td>\n",
       "      <td>0.1333</td>\n",
       "      <td>0.7960</td>\n",
       "    </tr>\n",
       "    <tr>\n",
       "      <th>technical_update_points</th>\n",
       "      <td>0.9794</td>\n",
       "      <td>1.0000</td>\n",
       "      <td>0.6701</td>\n",
       "      <td>0.5455</td>\n",
       "      <td>0.9309</td>\n",
       "    </tr>\n",
       "    <tr>\n",
       "      <th>partnership_points</th>\n",
       "      <td>0.9465</td>\n",
       "      <td>1.0000</td>\n",
       "      <td>0.4603</td>\n",
       "      <td>0.1333</td>\n",
       "      <td>0.8127</td>\n",
       "    </tr>\n",
       "    <tr>\n",
       "      <th>listing_points</th>\n",
       "      <td>0.9465</td>\n",
       "      <td>0.0000</td>\n",
       "      <td>0.1614</td>\n",
       "      <td>0.0000</td>\n",
       "      <td>0.8023</td>\n",
       "    </tr>\n",
       "    <tr>\n",
       "      <th>security_points</th>\n",
       "      <td>0.9588</td>\n",
       "      <td>1.0000</td>\n",
       "      <td>0.2636</td>\n",
       "      <td>0.1667</td>\n",
       "      <td>0.7637</td>\n",
       "    </tr>\n",
       "    <tr>\n",
       "      <th>from_the_project</th>\n",
       "      <td>0.8724</td>\n",
       "      <td>0.3333</td>\n",
       "      <td>0.3335</td>\n",
       "      <td>0.0606</td>\n",
       "      <td>0.7638</td>\n",
       "    </tr>\n",
       "    <tr>\n",
       "      <th>not_from_the_project</th>\n",
       "      <td>0.9342</td>\n",
       "      <td>0.0000</td>\n",
       "      <td>0.0684</td>\n",
       "      <td>0.0000</td>\n",
       "      <td>0.4851</td>\n",
       "    </tr>\n",
       "    <tr>\n",
       "      <th>staking</th>\n",
       "      <td>0.9506</td>\n",
       "      <td>1.0000</td>\n",
       "      <td>0.4842</td>\n",
       "      <td>0.1429</td>\n",
       "      <td>0.8548</td>\n",
       "    </tr>\n",
       "  </tbody>\n",
       "</table>\n",
       "</div>"
      ],
      "text/plain": [
       "                         accuracy  precision  average_precision      F1  \\\n",
       "release_points             0.9465     1.0000             0.3320  0.1333   \n",
       "technical_update_points    0.9794     1.0000             0.6701  0.5455   \n",
       "partnership_points         0.9465     1.0000             0.4603  0.1333   \n",
       "listing_points             0.9465     0.0000             0.1614  0.0000   \n",
       "security_points            0.9588     1.0000             0.2636  0.1667   \n",
       "from_the_project           0.8724     0.3333             0.3335  0.0606   \n",
       "not_from_the_project       0.9342     0.0000             0.0684  0.0000   \n",
       "staking                    0.9506     1.0000             0.4842  0.1429   \n",
       "\n",
       "                            AUC  \n",
       "release_points           0.7960  \n",
       "technical_update_points  0.9309  \n",
       "partnership_points       0.8127  \n",
       "listing_points           0.8023  \n",
       "security_points          0.7637  \n",
       "from_the_project         0.7638  \n",
       "not_from_the_project     0.4851  \n",
       "staking                  0.8548  "
      ]
     },
     "execution_count": 25,
     "metadata": {},
     "output_type": "execute_result"
    }
   ],
   "source": [
    "pd.DataFrame(score).T"
   ]
  },
  {
   "cell_type": "code",
   "execution_count": 26,
   "metadata": {},
   "outputs": [
    {
     "data": {
      "text/plain": [
       "accuracy             0.9419\n",
       "precision            0.6667\n",
       "average_precision    0.3467\n",
       "F1                   0.1478\n",
       "AUC                  0.7762\n",
       "dtype: float64"
      ]
     },
     "execution_count": 26,
     "metadata": {},
     "output_type": "execute_result"
    }
   ],
   "source": [
    "pd.DataFrame(score).T.mean().round(4)"
   ]
  },
  {
   "cell_type": "code",
   "execution_count": 27,
   "metadata": {},
   "outputs": [
    {
     "data": {
      "text/html": [
       "<div>\n",
       "<style scoped>\n",
       "    .dataframe tbody tr th:only-of-type {\n",
       "        vertical-align: middle;\n",
       "    }\n",
       "\n",
       "    .dataframe tbody tr th {\n",
       "        vertical-align: top;\n",
       "    }\n",
       "\n",
       "    .dataframe thead th {\n",
       "        text-align: right;\n",
       "    }\n",
       "</style>\n",
       "<table border=\"1\" class=\"dataframe\">\n",
       "  <thead>\n",
       "    <tr style=\"text-align: right;\">\n",
       "      <th></th>\n",
       "      <th>release_points</th>\n",
       "      <th>technical_update_points</th>\n",
       "      <th>partnership_points</th>\n",
       "      <th>listing_points</th>\n",
       "      <th>security_points</th>\n",
       "      <th>from_the_project</th>\n",
       "      <th>not_from_the_project</th>\n",
       "      <th>staking</th>\n",
       "    </tr>\n",
       "  </thead>\n",
       "  <tbody>\n",
       "    <tr>\n",
       "      <th>801</th>\n",
       "      <td>0.070286</td>\n",
       "      <td>0.032451</td>\n",
       "      <td>0.010515</td>\n",
       "      <td>0.021624</td>\n",
       "      <td>0.094651</td>\n",
       "      <td>0.302249</td>\n",
       "      <td>0.015396</td>\n",
       "      <td>0.027319</td>\n",
       "    </tr>\n",
       "    <tr>\n",
       "      <th>677</th>\n",
       "      <td>0.073050</td>\n",
       "      <td>0.043297</td>\n",
       "      <td>0.052368</td>\n",
       "      <td>0.008318</td>\n",
       "      <td>0.085560</td>\n",
       "      <td>0.079286</td>\n",
       "      <td>0.022942</td>\n",
       "      <td>0.011293</td>\n",
       "    </tr>\n",
       "    <tr>\n",
       "      <th>43</th>\n",
       "      <td>0.034220</td>\n",
       "      <td>0.037690</td>\n",
       "      <td>0.003196</td>\n",
       "      <td>0.009014</td>\n",
       "      <td>0.007361</td>\n",
       "      <td>0.008608</td>\n",
       "      <td>0.028795</td>\n",
       "      <td>0.001765</td>\n",
       "    </tr>\n",
       "    <tr>\n",
       "      <th>990</th>\n",
       "      <td>0.022048</td>\n",
       "      <td>0.013150</td>\n",
       "      <td>0.016317</td>\n",
       "      <td>0.004085</td>\n",
       "      <td>0.012392</td>\n",
       "      <td>0.017558</td>\n",
       "      <td>0.050359</td>\n",
       "      <td>0.082192</td>\n",
       "    </tr>\n",
       "    <tr>\n",
       "      <th>70</th>\n",
       "      <td>0.007869</td>\n",
       "      <td>0.017386</td>\n",
       "      <td>0.008763</td>\n",
       "      <td>0.058012</td>\n",
       "      <td>0.012870</td>\n",
       "      <td>0.132395</td>\n",
       "      <td>0.082239</td>\n",
       "      <td>0.005181</td>\n",
       "    </tr>\n",
       "    <tr>\n",
       "      <th>...</th>\n",
       "      <td>...</td>\n",
       "      <td>...</td>\n",
       "      <td>...</td>\n",
       "      <td>...</td>\n",
       "      <td>...</td>\n",
       "      <td>...</td>\n",
       "      <td>...</td>\n",
       "      <td>...</td>\n",
       "    </tr>\n",
       "    <tr>\n",
       "      <th>904</th>\n",
       "      <td>0.044042</td>\n",
       "      <td>0.008453</td>\n",
       "      <td>0.024535</td>\n",
       "      <td>0.006826</td>\n",
       "      <td>0.006489</td>\n",
       "      <td>0.018339</td>\n",
       "      <td>0.051812</td>\n",
       "      <td>0.005167</td>\n",
       "    </tr>\n",
       "    <tr>\n",
       "      <th>673</th>\n",
       "      <td>0.024318</td>\n",
       "      <td>0.018131</td>\n",
       "      <td>0.042102</td>\n",
       "      <td>0.014500</td>\n",
       "      <td>0.006438</td>\n",
       "      <td>0.320562</td>\n",
       "      <td>0.041936</td>\n",
       "      <td>0.008817</td>\n",
       "    </tr>\n",
       "    <tr>\n",
       "      <th>708</th>\n",
       "      <td>0.026811</td>\n",
       "      <td>0.033674</td>\n",
       "      <td>0.015417</td>\n",
       "      <td>0.040131</td>\n",
       "      <td>0.011940</td>\n",
       "      <td>0.048210</td>\n",
       "      <td>0.045805</td>\n",
       "      <td>0.012934</td>\n",
       "    </tr>\n",
       "    <tr>\n",
       "      <th>367</th>\n",
       "      <td>0.031644</td>\n",
       "      <td>0.009807</td>\n",
       "      <td>0.016359</td>\n",
       "      <td>0.012390</td>\n",
       "      <td>0.011645</td>\n",
       "      <td>0.041549</td>\n",
       "      <td>0.029205</td>\n",
       "      <td>0.008686</td>\n",
       "    </tr>\n",
       "    <tr>\n",
       "      <th>464</th>\n",
       "      <td>0.012558</td>\n",
       "      <td>0.005693</td>\n",
       "      <td>0.017325</td>\n",
       "      <td>0.009681</td>\n",
       "      <td>0.006405</td>\n",
       "      <td>0.045250</td>\n",
       "      <td>0.078218</td>\n",
       "      <td>0.007470</td>\n",
       "    </tr>\n",
       "  </tbody>\n",
       "</table>\n",
       "<p>243 rows × 8 columns</p>\n",
       "</div>"
      ],
      "text/plain": [
       "     release_points  technical_update_points  partnership_points  \\\n",
       "801        0.070286                 0.032451            0.010515   \n",
       "677        0.073050                 0.043297            0.052368   \n",
       "43         0.034220                 0.037690            0.003196   \n",
       "990        0.022048                 0.013150            0.016317   \n",
       "70         0.007869                 0.017386            0.008763   \n",
       "..              ...                      ...                 ...   \n",
       "904        0.044042                 0.008453            0.024535   \n",
       "673        0.024318                 0.018131            0.042102   \n",
       "708        0.026811                 0.033674            0.015417   \n",
       "367        0.031644                 0.009807            0.016359   \n",
       "464        0.012558                 0.005693            0.017325   \n",
       "\n",
       "     listing_points  security_points  from_the_project  not_from_the_project  \\\n",
       "801        0.021624         0.094651          0.302249              0.015396   \n",
       "677        0.008318         0.085560          0.079286              0.022942   \n",
       "43         0.009014         0.007361          0.008608              0.028795   \n",
       "990        0.004085         0.012392          0.017558              0.050359   \n",
       "70         0.058012         0.012870          0.132395              0.082239   \n",
       "..              ...              ...               ...                   ...   \n",
       "904        0.006826         0.006489          0.018339              0.051812   \n",
       "673        0.014500         0.006438          0.320562              0.041936   \n",
       "708        0.040131         0.011940          0.048210              0.045805   \n",
       "367        0.012390         0.011645          0.041549              0.029205   \n",
       "464        0.009681         0.006405          0.045250              0.078218   \n",
       "\n",
       "      staking  \n",
       "801  0.027319  \n",
       "677  0.011293  \n",
       "43   0.001765  \n",
       "990  0.082192  \n",
       "70   0.005181  \n",
       "..        ...  \n",
       "904  0.005167  \n",
       "673  0.008817  \n",
       "708  0.012934  \n",
       "367  0.008686  \n",
       "464  0.007470  \n",
       "\n",
       "[243 rows x 8 columns]"
      ]
     },
     "execution_count": 27,
     "metadata": {},
     "output_type": "execute_result"
    }
   ],
   "source": [
    "submission_binary"
   ]
  },
  {
   "cell_type": "code",
   "execution_count": 28,
   "metadata": {},
   "outputs": [
    {
     "name": "stdout",
     "output_type": "stream",
     "text": [
      "                         precision    recall  f1-score   support\n",
      "\n",
      "         release_points       1.00      0.07      0.13        14\n",
      "technical_update_points       1.00      0.38      0.55         8\n",
      "     partnership_points       1.00      0.07      0.13        14\n",
      "         listing_points       0.00      0.00      0.00        13\n",
      "        security_points       1.00      0.09      0.17        11\n",
      "       from_the_project       0.33      0.03      0.06        30\n",
      "   not_from_the_project       0.00      0.00      0.00        16\n",
      "                staking       1.00      0.08      0.14        13\n",
      "\n",
      "              micro avg       0.80      0.07      0.12       119\n",
      "              macro avg       0.67      0.09      0.15       119\n",
      "           weighted avg       0.59      0.07      0.11       119\n",
      "            samples avg       0.02      0.02      0.02       119\n",
      "\n"
     ]
    },
    {
     "name": "stderr",
     "output_type": "stream",
     "text": [
      "/root/anaconda3/envs/kattana_p38/lib/python3.8/site-packages/sklearn/metrics/_classification.py:1318: UndefinedMetricWarning: Precision and F-score are ill-defined and being set to 0.0 in labels with no predicted samples. Use `zero_division` parameter to control this behavior.\n",
      "  _warn_prf(average, modifier, msg_start, len(result))\n",
      "/root/anaconda3/envs/kattana_p38/lib/python3.8/site-packages/sklearn/metrics/_classification.py:1318: UndefinedMetricWarning: Precision and F-score are ill-defined and being set to 0.0 in samples with no predicted labels. Use `zero_division` parameter to control this behavior.\n",
      "  _warn_prf(average, modifier, msg_start, len(result))\n",
      "/root/anaconda3/envs/kattana_p38/lib/python3.8/site-packages/sklearn/metrics/_classification.py:1318: UndefinedMetricWarning: Recall and F-score are ill-defined and being set to 0.0 in samples with no true labels. Use `zero_division` parameter to control this behavior.\n",
      "  _warn_prf(average, modifier, msg_start, len(result))\n"
     ]
    }
   ],
   "source": [
    "clf_report = classification_report(test_df[LABEL_COLUMNS], submission_binary[LABEL_COLUMNS] > 0.5, target_names=LABEL_COLUMNS)\n",
    "#pickle.dump(clf_report, open('classification_report.txt','wb')) #save report\n",
    "print(clf_report)"
   ]
  },
  {
   "cell_type": "code",
   "execution_count": 29,
   "metadata": {},
   "outputs": [
    {
     "data": {
      "text/html": [
       "<div>\n",
       "<style scoped>\n",
       "    .dataframe tbody tr th:only-of-type {\n",
       "        vertical-align: middle;\n",
       "    }\n",
       "\n",
       "    .dataframe tbody tr th {\n",
       "        vertical-align: top;\n",
       "    }\n",
       "\n",
       "    .dataframe thead th {\n",
       "        text-align: right;\n",
       "    }\n",
       "</style>\n",
       "<table border=\"1\" class=\"dataframe\">\n",
       "  <thead>\n",
       "    <tr style=\"text-align: right;\">\n",
       "      <th></th>\n",
       "      <th>Random</th>\n",
       "      <th>LogisticRegression</th>\n",
       "    </tr>\n",
       "  </thead>\n",
       "  <tbody>\n",
       "    <tr>\n",
       "      <th>accuracy</th>\n",
       "      <td>0.5046</td>\n",
       "      <td>0.9419</td>\n",
       "    </tr>\n",
       "    <tr>\n",
       "      <th>precision</th>\n",
       "      <td>0.0673</td>\n",
       "      <td>0.6667</td>\n",
       "    </tr>\n",
       "    <tr>\n",
       "      <th>average_precision</th>\n",
       "      <td>0.0864</td>\n",
       "      <td>0.3467</td>\n",
       "    </tr>\n",
       "    <tr>\n",
       "      <th>F1</th>\n",
       "      <td>0.1174</td>\n",
       "      <td>0.1478</td>\n",
       "    </tr>\n",
       "    <tr>\n",
       "      <th>AUC</th>\n",
       "      <td>0.5281</td>\n",
       "      <td>0.7762</td>\n",
       "    </tr>\n",
       "  </tbody>\n",
       "</table>\n",
       "</div>"
      ],
      "text/plain": [
       "                   Random  LogisticRegression\n",
       "accuracy           0.5046              0.9419\n",
       "precision          0.0673              0.6667\n",
       "average_precision  0.0864              0.3467\n",
       "F1                 0.1174              0.1478\n",
       "AUC                0.5281              0.7762"
      ]
     },
     "execution_count": 29,
     "metadata": {},
     "output_type": "execute_result"
    }
   ],
   "source": [
    "benchmark['LogisticRegression'] = pd.DataFrame(score).T.mean().round(4)\n",
    "benchmark"
   ]
  },
  {
   "cell_type": "markdown",
   "metadata": {},
   "source": [
    "## CatBoostClassifier"
   ]
  },
  {
   "cell_type": "code",
   "execution_count": 30,
   "metadata": {},
   "outputs": [],
   "source": [
    "from catboost import CatBoostClassifier"
   ]
  },
  {
   "cell_type": "code",
   "execution_count": 31,
   "metadata": {},
   "outputs": [
    {
     "name": "stderr",
     "output_type": "stream",
     "text": [
      "/root/anaconda3/envs/kattana_p38/lib/python3.8/site-packages/sklearn/metrics/_classification.py:1318: UndefinedMetricWarning: Precision is ill-defined and being set to 0.0 due to no predicted samples. Use `zero_division` parameter to control this behavior.\n",
      "  _warn_prf(average, modifier, msg_start, len(result))\n",
      "/root/anaconda3/envs/kattana_p38/lib/python3.8/site-packages/sklearn/metrics/_classification.py:1318: UndefinedMetricWarning: Precision is ill-defined and being set to 0.0 due to no predicted samples. Use `zero_division` parameter to control this behavior.\n",
      "  _warn_prf(average, modifier, msg_start, len(result))\n"
     ]
    }
   ],
   "source": [
    "submission_binary = test_df[LABEL_COLUMNS].copy()\n",
    "score = {}\n",
    "\n",
    "for label in LABEL_COLUMNS:\n",
    "    model = CatBoostClassifier(verbose=False, random_state=RANDOM_SEED)\n",
    "    #print('####### Processing {} ##########'.format(label))\n",
    "    y = train_df[label].copy()\n",
    "    y_test = test_df[label].copy()\n",
    "    \n",
    "    # train the model using X_dtm & y\n",
    "    model.fit(X_dtm, y)\n",
    "\n",
    "    predict_proba_test_X = model.predict_proba(test_X_dtm)[:,1]\n",
    "    pred_test_X = model.predict(test_X_dtm)\n",
    "\n",
    "    score[label] = {}\n",
    "    score[label]['accuracy'] = round(accuracy_score(y_test, pred_test_X),4)\n",
    "    score[label]['precision'] = round(precision_score(y_test, pred_test_X),4)\n",
    "    score[label]['average_precision'] = round(average_precision_score(y_test, predict_proba_test_X),4)\n",
    "    score[label]['F1'] = round(f1_score(y_test, pred_test_X),4)\n",
    "    score[label]['AUC'] = round(roc_auc_score(y_test, predict_proba_test_X),4)\n",
    "\n",
    "    submission_binary[label] = predict_proba_test_X"
   ]
  },
  {
   "cell_type": "code",
   "execution_count": 32,
   "metadata": {},
   "outputs": [
    {
     "data": {
      "text/html": [
       "<div>\n",
       "<style scoped>\n",
       "    .dataframe tbody tr th:only-of-type {\n",
       "        vertical-align: middle;\n",
       "    }\n",
       "\n",
       "    .dataframe tbody tr th {\n",
       "        vertical-align: top;\n",
       "    }\n",
       "\n",
       "    .dataframe thead th {\n",
       "        text-align: right;\n",
       "    }\n",
       "</style>\n",
       "<table border=\"1\" class=\"dataframe\">\n",
       "  <thead>\n",
       "    <tr style=\"text-align: right;\">\n",
       "      <th></th>\n",
       "      <th>Random</th>\n",
       "      <th>LogisticRegression</th>\n",
       "      <th>CatBoostClassifier</th>\n",
       "    </tr>\n",
       "  </thead>\n",
       "  <tbody>\n",
       "    <tr>\n",
       "      <th>accuracy</th>\n",
       "      <td>0.5046</td>\n",
       "      <td>0.9419</td>\n",
       "      <td>0.9388</td>\n",
       "    </tr>\n",
       "    <tr>\n",
       "      <th>precision</th>\n",
       "      <td>0.0673</td>\n",
       "      <td>0.6667</td>\n",
       "      <td>0.3833</td>\n",
       "    </tr>\n",
       "    <tr>\n",
       "      <th>average_precision</th>\n",
       "      <td>0.0864</td>\n",
       "      <td>0.3467</td>\n",
       "      <td>0.2891</td>\n",
       "    </tr>\n",
       "    <tr>\n",
       "      <th>F1</th>\n",
       "      <td>0.1174</td>\n",
       "      <td>0.1478</td>\n",
       "      <td>0.1160</td>\n",
       "    </tr>\n",
       "    <tr>\n",
       "      <th>AUC</th>\n",
       "      <td>0.5281</td>\n",
       "      <td>0.7762</td>\n",
       "      <td>0.7521</td>\n",
       "    </tr>\n",
       "  </tbody>\n",
       "</table>\n",
       "</div>"
      ],
      "text/plain": [
       "                   Random  LogisticRegression  CatBoostClassifier\n",
       "accuracy           0.5046              0.9419              0.9388\n",
       "precision          0.0673              0.6667              0.3833\n",
       "average_precision  0.0864              0.3467              0.2891\n",
       "F1                 0.1174              0.1478              0.1160\n",
       "AUC                0.5281              0.7762              0.7521"
      ]
     },
     "execution_count": 32,
     "metadata": {},
     "output_type": "execute_result"
    }
   ],
   "source": [
    "benchmark['CatBoostClassifier'] = pd.DataFrame(score).T.mean().round(4)\n",
    "benchmark"
   ]
  },
  {
   "cell_type": "markdown",
   "metadata": {},
   "source": [
    "## MLPClassifier"
   ]
  },
  {
   "cell_type": "code",
   "execution_count": 33,
   "metadata": {},
   "outputs": [],
   "source": [
    "from sklearn.neural_network import MLPClassifier"
   ]
  },
  {
   "cell_type": "code",
   "execution_count": 34,
   "metadata": {},
   "outputs": [
    {
     "name": "stderr",
     "output_type": "stream",
     "text": [
      " 38%|███▊      | 3/8 [00:06<00:11,  2.21s/it]/root/anaconda3/envs/kattana_p38/lib/python3.8/site-packages/sklearn/metrics/_classification.py:1318: UndefinedMetricWarning: Precision is ill-defined and being set to 0.0 due to no predicted samples. Use `zero_division` parameter to control this behavior.\n",
      "  _warn_prf(average, modifier, msg_start, len(result))\n",
      "100%|██████████| 8/8 [00:18<00:00,  2.33s/it]\n"
     ]
    }
   ],
   "source": [
    "submission_binary = test_df[LABEL_COLUMNS].copy()\n",
    "score = {}\n",
    "\n",
    "for label in tqdm(LABEL_COLUMNS):\n",
    "    model = MLPClassifier(verbose=False, random_state=RANDOM_SEED)\n",
    "    #print('####### Processing {} ##########'.format(label))\n",
    "    y = train_df[label].copy()\n",
    "    y_test = test_df[label].copy()\n",
    "    \n",
    "    # train the model using X_dtm & y\n",
    "    model.fit(X_dtm, y)\n",
    "\n",
    "    predict_proba_test_X = model.predict_proba(test_X_dtm)[:,1]\n",
    "    pred_test_X = model.predict(test_X_dtm)\n",
    "\n",
    "    score[label] = {}\n",
    "    score[label]['accuracy'] = round(accuracy_score(y_test, pred_test_X),4)\n",
    "    score[label]['precision'] = round(precision_score(y_test, pred_test_X),4)\n",
    "    score[label]['average_precision'] = round(average_precision_score(y_test, predict_proba_test_X),4)\n",
    "    score[label]['F1'] = round(f1_score(y_test, pred_test_X),4)\n",
    "    score[label]['AUC'] = round(roc_auc_score(y_test, predict_proba_test_X),4)\n",
    "\n",
    "    submission_binary[label] = predict_proba_test_X"
   ]
  },
  {
   "cell_type": "code",
   "execution_count": 35,
   "metadata": {},
   "outputs": [
    {
     "data": {
      "text/html": [
       "<div>\n",
       "<style scoped>\n",
       "    .dataframe tbody tr th:only-of-type {\n",
       "        vertical-align: middle;\n",
       "    }\n",
       "\n",
       "    .dataframe tbody tr th {\n",
       "        vertical-align: top;\n",
       "    }\n",
       "\n",
       "    .dataframe thead th {\n",
       "        text-align: right;\n",
       "    }\n",
       "</style>\n",
       "<table border=\"1\" class=\"dataframe\">\n",
       "  <thead>\n",
       "    <tr style=\"text-align: right;\">\n",
       "      <th></th>\n",
       "      <th>Random</th>\n",
       "      <th>LogisticRegression</th>\n",
       "      <th>CatBoostClassifier</th>\n",
       "      <th>MLPClassifier</th>\n",
       "    </tr>\n",
       "  </thead>\n",
       "  <tbody>\n",
       "    <tr>\n",
       "      <th>accuracy</th>\n",
       "      <td>0.5046</td>\n",
       "      <td>0.9419</td>\n",
       "      <td>0.9388</td>\n",
       "      <td>0.9352</td>\n",
       "    </tr>\n",
       "    <tr>\n",
       "      <th>precision</th>\n",
       "      <td>0.0673</td>\n",
       "      <td>0.6667</td>\n",
       "      <td>0.3833</td>\n",
       "      <td>0.4133</td>\n",
       "    </tr>\n",
       "    <tr>\n",
       "      <th>average_precision</th>\n",
       "      <td>0.0864</td>\n",
       "      <td>0.3467</td>\n",
       "      <td>0.2891</td>\n",
       "      <td>0.2661</td>\n",
       "    </tr>\n",
       "    <tr>\n",
       "      <th>F1</th>\n",
       "      <td>0.1174</td>\n",
       "      <td>0.1478</td>\n",
       "      <td>0.1160</td>\n",
       "      <td>0.1698</td>\n",
       "    </tr>\n",
       "    <tr>\n",
       "      <th>AUC</th>\n",
       "      <td>0.5281</td>\n",
       "      <td>0.7762</td>\n",
       "      <td>0.7521</td>\n",
       "      <td>0.7062</td>\n",
       "    </tr>\n",
       "  </tbody>\n",
       "</table>\n",
       "</div>"
      ],
      "text/plain": [
       "                   Random  LogisticRegression  CatBoostClassifier  \\\n",
       "accuracy           0.5046              0.9419              0.9388   \n",
       "precision          0.0673              0.6667              0.3833   \n",
       "average_precision  0.0864              0.3467              0.2891   \n",
       "F1                 0.1174              0.1478              0.1160   \n",
       "AUC                0.5281              0.7762              0.7521   \n",
       "\n",
       "                   MLPClassifier  \n",
       "accuracy                  0.9352  \n",
       "precision                 0.4133  \n",
       "average_precision         0.2661  \n",
       "F1                        0.1698  \n",
       "AUC                       0.7062  "
      ]
     },
     "execution_count": 35,
     "metadata": {},
     "output_type": "execute_result"
    }
   ],
   "source": [
    "benchmark['MLPClassifier'] = pd.DataFrame(score).T.mean().round(4)\n",
    "benchmark"
   ]
  },
  {
   "cell_type": "markdown",
   "metadata": {},
   "source": [
    "# TF Bert Model"
   ]
  },
  {
   "cell_type": "code",
   "execution_count": 36,
   "metadata": {},
   "outputs": [
    {
     "name": "stderr",
     "output_type": "stream",
     "text": [
      "2022-03-17 07:17:02.763962: W tensorflow/stream_executor/platform/default/dso_loader.cc:64] Could not load dynamic library 'libcudart.so.11.0'; dlerror: libcudart.so.11.0: cannot open shared object file: No such file or directory\n",
      "2022-03-17 07:17:02.763984: I tensorflow/stream_executor/cuda/cudart_stub.cc:29] Ignore above cudart dlerror if you do not have a GPU set up on your machine.\n"
     ]
    }
   ],
   "source": [
    "# Load Huggingface transformers\n",
    "from transformers import TFBertModel,  BertConfig, BertTokenizerFast, TFAutoModel\n",
    "\n",
    "# Then what you need from tensorflow.keras\n",
    "from tensorflow.keras.layers import Input, Dropout, Dense, GlobalAveragePooling1D, BatchNormalization\n",
    "from tensorflow.keras.models import Model, Sequential\n",
    "from tensorflow.keras.optimizers import Adam\n",
    "from tensorflow.keras.callbacks import EarlyStopping\n",
    "from tensorflow.keras.initializers import TruncatedNormal\n",
    "from tensorflow.keras.losses import CategoricalCrossentropy\n",
    "from tensorflow.keras.metrics import CategoricalAccuracy\n",
    "from tensorflow.keras.utils import to_categorical\n",
    "\n",
    "# And pandas for data import + sklearn because you allways need sklearn\n",
    "import pandas as pd\n",
    "import tensorflow as tf\n",
    "import re\n",
    "import numpy as np\n",
    "\n",
    "from sklearn.model_selection import train_test_split\n",
    "from sklearn.metrics import classification_report, multilabel_confusion_matrix, roc_auc_score, accuracy_score, f1_score\n",
    "from sklearn.metrics import average_precision_score, precision_score\n",
    "\n",
    "# import and instantiate TfidfVectorizer\n",
    "from sklearn.feature_extraction.text import CountVectorizer\n",
    "from sklearn.feature_extraction.text import TfidfVectorizer\n",
    "\n",
    "# import and instantiate the Logistic Regression model\n",
    "from sklearn.linear_model import LogisticRegression"
   ]
  },
  {
   "cell_type": "code",
   "execution_count": 123,
   "metadata": {},
   "outputs": [
    {
     "name": "stderr",
     "output_type": "stream",
     "text": [
      "Some layers from the model checkpoint at bert-base-cased were not used when initializing TFBertModel: ['mlm___cls', 'nsp___cls']\n",
      "- This IS expected if you are initializing TFBertModel from the checkpoint of a model trained on another task or with another architecture (e.g. initializing a BertForSequenceClassification model from a BertForPreTraining model).\n",
      "- This IS NOT expected if you are initializing TFBertModel from the checkpoint of a model that you expect to be exactly identical (initializing a BertForSequenceClassification model from a BertForSequenceClassification model).\n",
      "All the layers of TFBertModel were initialized from the model checkpoint at bert-base-cased.\n",
      "If your task is similar to the task the model of the checkpoint was trained on, you can already use TFBertModel for predictions without further training.\n"
     ]
    }
   ],
   "source": [
    "# Name of the BERT model to use\n",
    "model_name = 'bert-base-cased'\n",
    "\n",
    "# Max length of tokens\n",
    "max_length = 80\n",
    "\n",
    "# Load transformers config and set output_hidden_states to False\n",
    "config = BertConfig.from_pretrained(model_name)\n",
    "#config.output_hidden_states = False\n",
    "\n",
    "# Load BERT tokenizer\n",
    "tokenizer = BertTokenizerFast.from_pretrained(pretrained_model_name_or_path = model_name, config = config)\n",
    "bert = TFAutoModel.from_pretrained(model_name)\n",
    "\n",
    "input_ids = Input(shape=(max_length,), name='input_ids', dtype='int32')\n",
    "attention_mask = Input(shape=(max_length,), name='attention_mask', dtype='int32') \n",
    "inputs = {'input_ids': input_ids, 'attention_mask': attention_mask}\n",
    "nlp_model = bert.bert(inputs)"
   ]
  },
  {
   "cell_type": "code",
   "execution_count": 124,
   "metadata": {},
   "outputs": [],
   "source": [
    "train_sentences = train_df[\"text\"].fillna(\"CVxTz\").values\n",
    "train_y = train_df[LABEL_COLUMNS].values"
   ]
  },
  {
   "cell_type": "code",
   "execution_count": 125,
   "metadata": {},
   "outputs": [],
   "source": [
    "# Tokenize the input \n",
    "x = tokenizer(\n",
    "    text=list(train_sentences),\n",
    "    add_special_tokens=True,\n",
    "    max_length=max_length,\n",
    "    truncation=True,\n",
    "    padding=True, \n",
    "    return_tensors='tf',\n",
    "    return_token_type_ids = False,\n",
    "    return_attention_mask = True,\n",
    "    verbose = True)"
   ]
  },
  {
   "cell_type": "code",
   "execution_count": 126,
   "metadata": {},
   "outputs": [
    {
     "name": "stdout",
     "output_type": "stream",
     "text": [
      "Model: \"model_4\"\n",
      "__________________________________________________________________________________________________\n",
      " Layer (type)                   Output Shape         Param #     Connected to                     \n",
      "==================================================================================================\n",
      " attention_mask (InputLayer)    [(None, 80)]         0           []                               \n",
      "                                                                                                  \n",
      " input_ids (InputLayer)         [(None, 80)]         0           []                               \n",
      "                                                                                                  \n",
      " bert (TFBertMainLayer)         TFBaseModelOutputWi  108310272   ['attention_mask[0][0]',         \n",
      "                                thPoolingAndCrossAt               'input_ids[0][0]']              \n",
      "                                tentions(last_hidde                                               \n",
      "                                n_state=(None, 80,                                                \n",
      "                                768),                                                             \n",
      "                                 pooler_output=(Non                                               \n",
      "                                e, 768),                                                          \n",
      "                                 past_key_values=No                                               \n",
      "                                ne, hidden_states=N                                               \n",
      "                                one, attentions=Non                                               \n",
      "                                e, cross_attentions                                               \n",
      "                                =None)                                                            \n",
      "                                                                                                  \n",
      " global_average_pooling1d_3 (Gl  (None, 768)         0           ['bert[0][0]']                   \n",
      " obalAveragePooling1D)                                                                            \n",
      "                                                                                                  \n",
      " outputs (Dense)                (None, 8)            6152        ['global_average_pooling1d_3[0][0\n",
      "                                                                 ]']                              \n",
      "                                                                                                  \n",
      "==================================================================================================\n",
      "Total params: 108,316,424\n",
      "Trainable params: 108,316,424\n",
      "Non-trainable params: 0\n",
      "__________________________________________________________________________________________________\n"
     ]
    }
   ],
   "source": [
    "#  head\n",
    "head = GlobalAveragePooling1D()(nlp_model[0])\n",
    "#head = BatchNormalization()(head)\n",
    "#head = Dense(256, activation=\"relu\")(head)\n",
    "#head = Dropout(0.5)(head)\n",
    "head = Dense(len(LABEL_COLUMNS), activation='sigmoid', name='outputs')(head)\n",
    "\n",
    "model = Model(inputs=inputs, outputs=head)\n",
    "#model.layers[2].trainable = False\n",
    "\n",
    "# Take a look at the model\n",
    "model.summary()"
   ]
  },
  {
   "cell_type": "code",
   "execution_count": 137,
   "metadata": {},
   "outputs": [],
   "source": [
    "optimizer = Adam(learning_rate=1e-5,)\n",
    "model.compile(loss='binary_crossentropy',\n",
    "                optimizer=optimizer,\n",
    "                metrics=['accuracy', tf.keras.metrics.AUC()])"
   ]
  },
  {
   "cell_type": "code",
   "execution_count": 138,
   "metadata": {},
   "outputs": [],
   "source": [
    "model.load_weights('bert_model_weights.h5')"
   ]
  },
  {
   "cell_type": "code",
   "execution_count": 151,
   "metadata": {},
   "outputs": [
    {
     "name": "stdout",
     "output_type": "stream",
     "text": [
      "Epoch 1/4\n",
      "16/16 [==============================] - 115s 7s/step - loss: 0.1309 - accuracy: 0.5655 - auc_8: 0.8606\n",
      "Epoch 2/4\n",
      "16/16 [==============================] - 116s 7s/step - loss: 0.1276 - accuracy: 0.5986 - auc_8: 0.8631\n",
      "Epoch 3/4\n",
      "16/16 [==============================] - 114s 7s/step - loss: 0.1219 - accuracy: 0.6120 - auc_8: 0.8732\n",
      "Epoch 4/4\n",
      "16/16 [==============================] - 116s 7s/step - loss: 0.1156 - accuracy: 0.5934 - auc_8: 0.8834\n"
     ]
    }
   ],
   "source": [
    "history = model.fit(\n",
    "    x={'input_ids': x['input_ids'], 'attention_mask': x['attention_mask']},\n",
    "    y={'outputs': train_y},\n",
    "    validation_split=0.0,\n",
    "    batch_size=64,\n",
    "    epochs=5)"
   ]
  },
  {
   "cell_type": "code",
   "execution_count": 156,
   "metadata": {},
   "outputs": [],
   "source": [
    "model.save_weights('bert_model_weights_v2.h5', )"
   ]
  },
  {
   "cell_type": "code",
   "execution_count": 140,
   "metadata": {},
   "outputs": [],
   "source": [
    "test_sentences = test_df[\"text\"].fillna(\"CVxTz\").values\n",
    "test_y = test_df[LABEL_COLUMNS].values"
   ]
  },
  {
   "cell_type": "code",
   "execution_count": 152,
   "metadata": {},
   "outputs": [],
   "source": [
    "test_x = tokenizer(\n",
    "    text=list(test_sentences),\n",
    "    add_special_tokens=True,\n",
    "    max_length=max_length,\n",
    "    truncation=True,\n",
    "    padding=True, \n",
    "    return_tensors='tf',\n",
    "    return_token_type_ids = False,\n",
    "    return_attention_mask = True,\n",
    "    verbose = True)"
   ]
  },
  {
   "cell_type": "code",
   "execution_count": 153,
   "metadata": {},
   "outputs": [],
   "source": [
    "predictions = model.predict(x={'input_ids': test_x['input_ids'], 'attention_mask': test_x['attention_mask']},batch_size=64)\n",
    "predictions_probes = pd.DataFrame(predictions)\n",
    "predictions_probes.columns = LABEL_COLUMNS"
   ]
  },
  {
   "cell_type": "code",
   "execution_count": 154,
   "metadata": {},
   "outputs": [
    {
     "name": "stdout",
     "output_type": "stream",
     "text": [
      "Test F1 Accuracy:  0.2887700534759358\n",
      "Test Flat Accuracy:  0.654320987654321 \n",
      "\n",
      "                         precision    recall  f1-score   support\n",
      "\n",
      "         release_points       0.50      0.29      0.36        14\n",
      "technical_update_points       0.50      0.50      0.50         8\n",
      "     partnership_points       0.75      0.21      0.33        14\n",
      "         listing_points       0.23      0.23      0.23        13\n",
      "        security_points       1.00      0.09      0.17        11\n",
      "       from_the_project       0.37      0.33      0.35        30\n",
      "   not_from_the_project       0.20      0.06      0.10        16\n",
      "                staking       0.50      0.08      0.13        13\n",
      "\n",
      "              micro avg       0.40      0.23      0.29       119\n",
      "              macro avg       0.51      0.22      0.27       119\n",
      "           weighted avg       0.47      0.23      0.27       119\n",
      "            samples avg       0.08      0.06      0.07       119\n",
      "\n"
     ]
    },
    {
     "name": "stderr",
     "output_type": "stream",
     "text": [
      "/root/anaconda3/envs/kattana_p38/lib/python3.8/site-packages/sklearn/metrics/_classification.py:1318: UndefinedMetricWarning: Precision and F-score are ill-defined and being set to 0.0 in samples with no predicted labels. Use `zero_division` parameter to control this behavior.\n",
      "  _warn_prf(average, modifier, msg_start, len(result))\n",
      "/root/anaconda3/envs/kattana_p38/lib/python3.8/site-packages/sklearn/metrics/_classification.py:1318: UndefinedMetricWarning: Recall and F-score are ill-defined and being set to 0.0 in samples with no true labels. Use `zero_division` parameter to control this behavior.\n",
      "  _warn_prf(average, modifier, msg_start, len(result))\n"
     ]
    }
   ],
   "source": [
    "pred_bools = [pl>0.50 for pl in predictions] #boolean output after thresholding\n",
    "\n",
    "# Print and save classification report\n",
    "print('Test F1 Accuracy: ', f1_score(test_y, pred_bools, average='micro'))\n",
    "print('Test Flat Accuracy: ', accuracy_score(test_y, pred_bools),'\\n')\n",
    "clf_report = classification_report(test_y,pred_bools,target_names=LABEL_COLUMNS)\n",
    "#pickle.dump(clf_report, open('classification_report.txt','wb')) #save report\n",
    "print(clf_report)"
   ]
  },
  {
   "cell_type": "code",
   "execution_count": 161,
   "metadata": {},
   "outputs": [
    {
     "data": {
      "text/html": [
       "<div>\n",
       "<style scoped>\n",
       "    .dataframe tbody tr th:only-of-type {\n",
       "        vertical-align: middle;\n",
       "    }\n",
       "\n",
       "    .dataframe tbody tr th {\n",
       "        vertical-align: top;\n",
       "    }\n",
       "\n",
       "    .dataframe thead th {\n",
       "        text-align: right;\n",
       "    }\n",
       "</style>\n",
       "<table border=\"1\" class=\"dataframe\">\n",
       "  <thead>\n",
       "    <tr style=\"text-align: right;\">\n",
       "      <th></th>\n",
       "      <th>Random</th>\n",
       "      <th>LogisticRegression</th>\n",
       "      <th>CatBoostClassifier</th>\n",
       "      <th>MLPClassifier</th>\n",
       "      <th>NN_Bert</th>\n",
       "    </tr>\n",
       "  </thead>\n",
       "  <tbody>\n",
       "    <tr>\n",
       "      <th>accuracy</th>\n",
       "      <td>0.5046</td>\n",
       "      <td>0.9419</td>\n",
       "      <td>0.9388</td>\n",
       "      <td>0.9352</td>\n",
       "      <td>0.9316</td>\n",
       "    </tr>\n",
       "    <tr>\n",
       "      <th>precision</th>\n",
       "      <td>0.0673</td>\n",
       "      <td>0.6667</td>\n",
       "      <td>0.3833</td>\n",
       "      <td>0.4133</td>\n",
       "      <td>0.5064</td>\n",
       "    </tr>\n",
       "    <tr>\n",
       "      <th>average_precision</th>\n",
       "      <td>0.0864</td>\n",
       "      <td>0.3467</td>\n",
       "      <td>0.2891</td>\n",
       "      <td>0.2661</td>\n",
       "      <td>0.3109</td>\n",
       "    </tr>\n",
       "    <tr>\n",
       "      <th>F1</th>\n",
       "      <td>0.1174</td>\n",
       "      <td>0.1478</td>\n",
       "      <td>0.1160</td>\n",
       "      <td>0.1698</td>\n",
       "      <td>0.2717</td>\n",
       "    </tr>\n",
       "    <tr>\n",
       "      <th>AUC</th>\n",
       "      <td>0.5281</td>\n",
       "      <td>0.7762</td>\n",
       "      <td>0.7521</td>\n",
       "      <td>0.7062</td>\n",
       "      <td>0.7434</td>\n",
       "    </tr>\n",
       "  </tbody>\n",
       "</table>\n",
       "</div>"
      ],
      "text/plain": [
       "                   Random  LogisticRegression  CatBoostClassifier  \\\n",
       "accuracy           0.5046              0.9419              0.9388   \n",
       "precision          0.0673              0.6667              0.3833   \n",
       "average_precision  0.0864              0.3467              0.2891   \n",
       "F1                 0.1174              0.1478              0.1160   \n",
       "AUC                0.5281              0.7762              0.7521   \n",
       "\n",
       "                   MLPClassifier  NN_Bert  \n",
       "accuracy                  0.9352   0.9316  \n",
       "precision                 0.4133   0.5064  \n",
       "average_precision         0.2661   0.3109  \n",
       "F1                        0.1698   0.2717  \n",
       "AUC                       0.7062   0.7434  "
      ]
     },
     "execution_count": 161,
     "metadata": {},
     "output_type": "execute_result"
    }
   ],
   "source": [
    "random_score = {}\n",
    "\n",
    "for label in LABEL_COLUMNS:\n",
    "    y_test = test_df[label].copy()\n",
    "    predict_proba_test_X = predictions_probes[label]\n",
    "    pred_test_X = predict_proba_test_X > 0.5\n",
    "\n",
    "    random_score[label] = {}\n",
    "    random_score[label]['accuracy'] = round(accuracy_score(y_test, pred_test_X),4)\n",
    "    random_score[label]['precision'] = round(precision_score(y_test, pred_test_X),4)\n",
    "    random_score[label]['average_precision'] = round(average_precision_score(y_test, predict_proba_test_X),4)\n",
    "    random_score[label]['F1'] = round(f1_score(y_test, pred_test_X),4)\n",
    "    random_score[label]['AUC'] = round(roc_auc_score(y_test, predict_proba_test_X),4)\n",
    "    \n",
    "benchmark['NN_Bert'] = pd.DataFrame(random_score).T.mean().round(4)\n",
    "benchmark"
   ]
  },
  {
   "cell_type": "code",
   "execution_count": null,
   "metadata": {},
   "outputs": [],
   "source": []
  }
 ],
 "metadata": {
  "interpreter": {
   "hash": "1513efd8ec93a19fa8591704325549dd1c7568c2987ef819f7a3c56ad8655b40"
  },
  "kernelspec": {
   "display_name": "Python 3.8.12 ('kattana_p38')",
   "language": "python",
   "name": "python3"
  },
  "language_info": {
   "codemirror_mode": {
    "name": "ipython",
    "version": 3
   },
   "file_extension": ".py",
   "mimetype": "text/x-python",
   "name": "python",
   "nbconvert_exporter": "python",
   "pygments_lexer": "ipython3",
   "version": "3.8.12"
  },
  "orig_nbformat": 4
 },
 "nbformat": 4,
 "nbformat_minor": 2
}
